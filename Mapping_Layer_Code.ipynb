{
  "nbformat": 4,
  "nbformat_minor": 0,
  "metadata": {
    "colab": {
      "name": "Mapping Layer Code.ipynb",
      "provenance": [],
      "collapsed_sections": []
    },
    "kernelspec": {
      "name": "python3",
      "display_name": "Python 3"
    },
    "language_info": {
      "name": "python"
    },
    "accelerator": "GPU",
    "widgets": {
      "application/vnd.jupyter.widget-state+json": {
        "18d50464aa454f5fbf13bbcc2f3edcdd": {
          "model_module": "@jupyter-widgets/controls",
          "model_name": "HBoxModel",
          "model_module_version": "1.5.0",
          "state": {
            "_view_name": "HBoxView",
            "_dom_classes": [],
            "_model_name": "HBoxModel",
            "_view_module": "@jupyter-widgets/controls",
            "_model_module_version": "1.5.0",
            "_view_count": null,
            "_view_module_version": "1.5.0",
            "box_style": "",
            "layout": "IPY_MODEL_a5a160902c2f42e2a2e148a3681e5605",
            "_model_module": "@jupyter-widgets/controls",
            "children": [
              "IPY_MODEL_b9cd574a7cf444d5807b4d2a9d56dd71",
              "IPY_MODEL_7b65ed52a27e42dda7d8e55cdcb03256",
              "IPY_MODEL_7ae5218bd01246a98e0c0eb3fa84a327"
            ]
          }
        },
        "a5a160902c2f42e2a2e148a3681e5605": {
          "model_module": "@jupyter-widgets/base",
          "model_name": "LayoutModel",
          "model_module_version": "1.2.0",
          "state": {
            "_view_name": "LayoutView",
            "grid_template_rows": null,
            "right": null,
            "justify_content": null,
            "_view_module": "@jupyter-widgets/base",
            "overflow": null,
            "_model_module_version": "1.2.0",
            "_view_count": null,
            "flex_flow": null,
            "width": null,
            "min_width": null,
            "border": null,
            "align_items": null,
            "bottom": null,
            "_model_module": "@jupyter-widgets/base",
            "top": null,
            "grid_column": null,
            "overflow_y": null,
            "overflow_x": null,
            "grid_auto_flow": null,
            "grid_area": null,
            "grid_template_columns": null,
            "flex": null,
            "_model_name": "LayoutModel",
            "justify_items": null,
            "grid_row": null,
            "max_height": null,
            "align_content": null,
            "visibility": null,
            "align_self": null,
            "height": null,
            "min_height": null,
            "padding": null,
            "grid_auto_rows": null,
            "grid_gap": null,
            "max_width": null,
            "order": null,
            "_view_module_version": "1.2.0",
            "grid_template_areas": null,
            "object_position": null,
            "object_fit": null,
            "grid_auto_columns": null,
            "margin": null,
            "display": null,
            "left": null
          }
        },
        "b9cd574a7cf444d5807b4d2a9d56dd71": {
          "model_module": "@jupyter-widgets/controls",
          "model_name": "HTMLModel",
          "model_module_version": "1.5.0",
          "state": {
            "_view_name": "HTMLView",
            "style": "IPY_MODEL_a41428f4aff7489397375a45b0f6d8ec",
            "_dom_classes": [],
            "description": "",
            "_model_name": "HTMLModel",
            "placeholder": "​",
            "_view_module": "@jupyter-widgets/controls",
            "_model_module_version": "1.5.0",
            "value": "Batches: 100%",
            "_view_count": null,
            "_view_module_version": "1.5.0",
            "description_tooltip": null,
            "_model_module": "@jupyter-widgets/controls",
            "layout": "IPY_MODEL_1fceb1328a854584a185356a990e5373"
          }
        },
        "7b65ed52a27e42dda7d8e55cdcb03256": {
          "model_module": "@jupyter-widgets/controls",
          "model_name": "FloatProgressModel",
          "model_module_version": "1.5.0",
          "state": {
            "_view_name": "ProgressView",
            "style": "IPY_MODEL_820bdf51a2604df7b9a6f3a91e800af8",
            "_dom_classes": [],
            "description": "",
            "_model_name": "FloatProgressModel",
            "bar_style": "success",
            "max": 53,
            "_view_module": "@jupyter-widgets/controls",
            "_model_module_version": "1.5.0",
            "value": 53,
            "_view_count": null,
            "_view_module_version": "1.5.0",
            "orientation": "horizontal",
            "min": 0,
            "description_tooltip": null,
            "_model_module": "@jupyter-widgets/controls",
            "layout": "IPY_MODEL_29df2069296b4f2a910ddd59e750be48"
          }
        },
        "7ae5218bd01246a98e0c0eb3fa84a327": {
          "model_module": "@jupyter-widgets/controls",
          "model_name": "HTMLModel",
          "model_module_version": "1.5.0",
          "state": {
            "_view_name": "HTMLView",
            "style": "IPY_MODEL_99fc49fa556b40fba5410805986ecad2",
            "_dom_classes": [],
            "description": "",
            "_model_name": "HTMLModel",
            "placeholder": "​",
            "_view_module": "@jupyter-widgets/controls",
            "_model_module_version": "1.5.0",
            "value": " 53/53 [00:20&lt;00:00,  4.00it/s]",
            "_view_count": null,
            "_view_module_version": "1.5.0",
            "description_tooltip": null,
            "_model_module": "@jupyter-widgets/controls",
            "layout": "IPY_MODEL_1793cf803c4949859aa593d9d4bc2f2d"
          }
        },
        "a41428f4aff7489397375a45b0f6d8ec": {
          "model_module": "@jupyter-widgets/controls",
          "model_name": "DescriptionStyleModel",
          "model_module_version": "1.5.0",
          "state": {
            "_view_name": "StyleView",
            "_model_name": "DescriptionStyleModel",
            "description_width": "",
            "_view_module": "@jupyter-widgets/base",
            "_model_module_version": "1.5.0",
            "_view_count": null,
            "_view_module_version": "1.2.0",
            "_model_module": "@jupyter-widgets/controls"
          }
        },
        "1fceb1328a854584a185356a990e5373": {
          "model_module": "@jupyter-widgets/base",
          "model_name": "LayoutModel",
          "model_module_version": "1.2.0",
          "state": {
            "_view_name": "LayoutView",
            "grid_template_rows": null,
            "right": null,
            "justify_content": null,
            "_view_module": "@jupyter-widgets/base",
            "overflow": null,
            "_model_module_version": "1.2.0",
            "_view_count": null,
            "flex_flow": null,
            "width": null,
            "min_width": null,
            "border": null,
            "align_items": null,
            "bottom": null,
            "_model_module": "@jupyter-widgets/base",
            "top": null,
            "grid_column": null,
            "overflow_y": null,
            "overflow_x": null,
            "grid_auto_flow": null,
            "grid_area": null,
            "grid_template_columns": null,
            "flex": null,
            "_model_name": "LayoutModel",
            "justify_items": null,
            "grid_row": null,
            "max_height": null,
            "align_content": null,
            "visibility": null,
            "align_self": null,
            "height": null,
            "min_height": null,
            "padding": null,
            "grid_auto_rows": null,
            "grid_gap": null,
            "max_width": null,
            "order": null,
            "_view_module_version": "1.2.0",
            "grid_template_areas": null,
            "object_position": null,
            "object_fit": null,
            "grid_auto_columns": null,
            "margin": null,
            "display": null,
            "left": null
          }
        },
        "820bdf51a2604df7b9a6f3a91e800af8": {
          "model_module": "@jupyter-widgets/controls",
          "model_name": "ProgressStyleModel",
          "model_module_version": "1.5.0",
          "state": {
            "_view_name": "StyleView",
            "_model_name": "ProgressStyleModel",
            "description_width": "",
            "_view_module": "@jupyter-widgets/base",
            "_model_module_version": "1.5.0",
            "_view_count": null,
            "_view_module_version": "1.2.0",
            "bar_color": null,
            "_model_module": "@jupyter-widgets/controls"
          }
        },
        "29df2069296b4f2a910ddd59e750be48": {
          "model_module": "@jupyter-widgets/base",
          "model_name": "LayoutModel",
          "model_module_version": "1.2.0",
          "state": {
            "_view_name": "LayoutView",
            "grid_template_rows": null,
            "right": null,
            "justify_content": null,
            "_view_module": "@jupyter-widgets/base",
            "overflow": null,
            "_model_module_version": "1.2.0",
            "_view_count": null,
            "flex_flow": null,
            "width": null,
            "min_width": null,
            "border": null,
            "align_items": null,
            "bottom": null,
            "_model_module": "@jupyter-widgets/base",
            "top": null,
            "grid_column": null,
            "overflow_y": null,
            "overflow_x": null,
            "grid_auto_flow": null,
            "grid_area": null,
            "grid_template_columns": null,
            "flex": null,
            "_model_name": "LayoutModel",
            "justify_items": null,
            "grid_row": null,
            "max_height": null,
            "align_content": null,
            "visibility": null,
            "align_self": null,
            "height": null,
            "min_height": null,
            "padding": null,
            "grid_auto_rows": null,
            "grid_gap": null,
            "max_width": null,
            "order": null,
            "_view_module_version": "1.2.0",
            "grid_template_areas": null,
            "object_position": null,
            "object_fit": null,
            "grid_auto_columns": null,
            "margin": null,
            "display": null,
            "left": null
          }
        },
        "99fc49fa556b40fba5410805986ecad2": {
          "model_module": "@jupyter-widgets/controls",
          "model_name": "DescriptionStyleModel",
          "model_module_version": "1.5.0",
          "state": {
            "_view_name": "StyleView",
            "_model_name": "DescriptionStyleModel",
            "description_width": "",
            "_view_module": "@jupyter-widgets/base",
            "_model_module_version": "1.5.0",
            "_view_count": null,
            "_view_module_version": "1.2.0",
            "_model_module": "@jupyter-widgets/controls"
          }
        },
        "1793cf803c4949859aa593d9d4bc2f2d": {
          "model_module": "@jupyter-widgets/base",
          "model_name": "LayoutModel",
          "model_module_version": "1.2.0",
          "state": {
            "_view_name": "LayoutView",
            "grid_template_rows": null,
            "right": null,
            "justify_content": null,
            "_view_module": "@jupyter-widgets/base",
            "overflow": null,
            "_model_module_version": "1.2.0",
            "_view_count": null,
            "flex_flow": null,
            "width": null,
            "min_width": null,
            "border": null,
            "align_items": null,
            "bottom": null,
            "_model_module": "@jupyter-widgets/base",
            "top": null,
            "grid_column": null,
            "overflow_y": null,
            "overflow_x": null,
            "grid_auto_flow": null,
            "grid_area": null,
            "grid_template_columns": null,
            "flex": null,
            "_model_name": "LayoutModel",
            "justify_items": null,
            "grid_row": null,
            "max_height": null,
            "align_content": null,
            "visibility": null,
            "align_self": null,
            "height": null,
            "min_height": null,
            "padding": null,
            "grid_auto_rows": null,
            "grid_gap": null,
            "max_width": null,
            "order": null,
            "_view_module_version": "1.2.0",
            "grid_template_areas": null,
            "object_position": null,
            "object_fit": null,
            "grid_auto_columns": null,
            "margin": null,
            "display": null,
            "left": null
          }
        },
        "1d10f3fb5133456f86845f3d0faf12b5": {
          "model_module": "@jupyter-widgets/controls",
          "model_name": "HBoxModel",
          "model_module_version": "1.5.0",
          "state": {
            "_view_name": "HBoxView",
            "_dom_classes": [],
            "_model_name": "HBoxModel",
            "_view_module": "@jupyter-widgets/controls",
            "_model_module_version": "1.5.0",
            "_view_count": null,
            "_view_module_version": "1.5.0",
            "box_style": "",
            "layout": "IPY_MODEL_ebc876f475e7484c8d247a13a3856a56",
            "_model_module": "@jupyter-widgets/controls",
            "children": [
              "IPY_MODEL_3a6458b34c684e0b881209ee67b94231",
              "IPY_MODEL_204ca643495b45e8b01c4a4b35544a4b",
              "IPY_MODEL_9c1665fe21e5426c9eb671845f68d4c3"
            ]
          }
        },
        "ebc876f475e7484c8d247a13a3856a56": {
          "model_module": "@jupyter-widgets/base",
          "model_name": "LayoutModel",
          "model_module_version": "1.2.0",
          "state": {
            "_view_name": "LayoutView",
            "grid_template_rows": null,
            "right": null,
            "justify_content": null,
            "_view_module": "@jupyter-widgets/base",
            "overflow": null,
            "_model_module_version": "1.2.0",
            "_view_count": null,
            "flex_flow": null,
            "width": null,
            "min_width": null,
            "border": null,
            "align_items": null,
            "bottom": null,
            "_model_module": "@jupyter-widgets/base",
            "top": null,
            "grid_column": null,
            "overflow_y": null,
            "overflow_x": null,
            "grid_auto_flow": null,
            "grid_area": null,
            "grid_template_columns": null,
            "flex": null,
            "_model_name": "LayoutModel",
            "justify_items": null,
            "grid_row": null,
            "max_height": null,
            "align_content": null,
            "visibility": null,
            "align_self": null,
            "height": null,
            "min_height": null,
            "padding": null,
            "grid_auto_rows": null,
            "grid_gap": null,
            "max_width": null,
            "order": null,
            "_view_module_version": "1.2.0",
            "grid_template_areas": null,
            "object_position": null,
            "object_fit": null,
            "grid_auto_columns": null,
            "margin": null,
            "display": null,
            "left": null
          }
        },
        "3a6458b34c684e0b881209ee67b94231": {
          "model_module": "@jupyter-widgets/controls",
          "model_name": "HTMLModel",
          "model_module_version": "1.5.0",
          "state": {
            "_view_name": "HTMLView",
            "style": "IPY_MODEL_64b1d401fc6e413aa4ec6ce853b575ff",
            "_dom_classes": [],
            "description": "",
            "_model_name": "HTMLModel",
            "placeholder": "​",
            "_view_module": "@jupyter-widgets/controls",
            "_model_module_version": "1.5.0",
            "value": "Downloading: 100%",
            "_view_count": null,
            "_view_module_version": "1.5.0",
            "description_tooltip": null,
            "_model_module": "@jupyter-widgets/controls",
            "layout": "IPY_MODEL_8ffc1cec19a34868bb81ca7145b0de87"
          }
        },
        "204ca643495b45e8b01c4a4b35544a4b": {
          "model_module": "@jupyter-widgets/controls",
          "model_name": "FloatProgressModel",
          "model_module_version": "1.5.0",
          "state": {
            "_view_name": "ProgressView",
            "style": "IPY_MODEL_a17ee932b895451d849eb2527d0b4765",
            "_dom_classes": [],
            "description": "",
            "_model_name": "FloatProgressModel",
            "bar_style": "success",
            "max": 1093,
            "_view_module": "@jupyter-widgets/controls",
            "_model_module_version": "1.5.0",
            "value": 1093,
            "_view_count": null,
            "_view_module_version": "1.5.0",
            "orientation": "horizontal",
            "min": 0,
            "description_tooltip": null,
            "_model_module": "@jupyter-widgets/controls",
            "layout": "IPY_MODEL_568545a078a84c50b53752572425502b"
          }
        },
        "9c1665fe21e5426c9eb671845f68d4c3": {
          "model_module": "@jupyter-widgets/controls",
          "model_name": "HTMLModel",
          "model_module_version": "1.5.0",
          "state": {
            "_view_name": "HTMLView",
            "style": "IPY_MODEL_e54398aada1e415484f24a375ba9a7fc",
            "_dom_classes": [],
            "description": "",
            "_model_name": "HTMLModel",
            "placeholder": "​",
            "_view_module": "@jupyter-widgets/controls",
            "_model_module_version": "1.5.0",
            "value": " 1.09k/1.09k [00:00&lt;00:00, 17.9kB/s]",
            "_view_count": null,
            "_view_module_version": "1.5.0",
            "description_tooltip": null,
            "_model_module": "@jupyter-widgets/controls",
            "layout": "IPY_MODEL_9a96ecaaeb244780aca853eab6dbc460"
          }
        },
        "64b1d401fc6e413aa4ec6ce853b575ff": {
          "model_module": "@jupyter-widgets/controls",
          "model_name": "DescriptionStyleModel",
          "model_module_version": "1.5.0",
          "state": {
            "_view_name": "StyleView",
            "_model_name": "DescriptionStyleModel",
            "description_width": "",
            "_view_module": "@jupyter-widgets/base",
            "_model_module_version": "1.5.0",
            "_view_count": null,
            "_view_module_version": "1.2.0",
            "_model_module": "@jupyter-widgets/controls"
          }
        },
        "8ffc1cec19a34868bb81ca7145b0de87": {
          "model_module": "@jupyter-widgets/base",
          "model_name": "LayoutModel",
          "model_module_version": "1.2.0",
          "state": {
            "_view_name": "LayoutView",
            "grid_template_rows": null,
            "right": null,
            "justify_content": null,
            "_view_module": "@jupyter-widgets/base",
            "overflow": null,
            "_model_module_version": "1.2.0",
            "_view_count": null,
            "flex_flow": null,
            "width": null,
            "min_width": null,
            "border": null,
            "align_items": null,
            "bottom": null,
            "_model_module": "@jupyter-widgets/base",
            "top": null,
            "grid_column": null,
            "overflow_y": null,
            "overflow_x": null,
            "grid_auto_flow": null,
            "grid_area": null,
            "grid_template_columns": null,
            "flex": null,
            "_model_name": "LayoutModel",
            "justify_items": null,
            "grid_row": null,
            "max_height": null,
            "align_content": null,
            "visibility": null,
            "align_self": null,
            "height": null,
            "min_height": null,
            "padding": null,
            "grid_auto_rows": null,
            "grid_gap": null,
            "max_width": null,
            "order": null,
            "_view_module_version": "1.2.0",
            "grid_template_areas": null,
            "object_position": null,
            "object_fit": null,
            "grid_auto_columns": null,
            "margin": null,
            "display": null,
            "left": null
          }
        },
        "a17ee932b895451d849eb2527d0b4765": {
          "model_module": "@jupyter-widgets/controls",
          "model_name": "ProgressStyleModel",
          "model_module_version": "1.5.0",
          "state": {
            "_view_name": "StyleView",
            "_model_name": "ProgressStyleModel",
            "description_width": "",
            "_view_module": "@jupyter-widgets/base",
            "_model_module_version": "1.5.0",
            "_view_count": null,
            "_view_module_version": "1.2.0",
            "bar_color": null,
            "_model_module": "@jupyter-widgets/controls"
          }
        },
        "568545a078a84c50b53752572425502b": {
          "model_module": "@jupyter-widgets/base",
          "model_name": "LayoutModel",
          "model_module_version": "1.2.0",
          "state": {
            "_view_name": "LayoutView",
            "grid_template_rows": null,
            "right": null,
            "justify_content": null,
            "_view_module": "@jupyter-widgets/base",
            "overflow": null,
            "_model_module_version": "1.2.0",
            "_view_count": null,
            "flex_flow": null,
            "width": null,
            "min_width": null,
            "border": null,
            "align_items": null,
            "bottom": null,
            "_model_module": "@jupyter-widgets/base",
            "top": null,
            "grid_column": null,
            "overflow_y": null,
            "overflow_x": null,
            "grid_auto_flow": null,
            "grid_area": null,
            "grid_template_columns": null,
            "flex": null,
            "_model_name": "LayoutModel",
            "justify_items": null,
            "grid_row": null,
            "max_height": null,
            "align_content": null,
            "visibility": null,
            "align_self": null,
            "height": null,
            "min_height": null,
            "padding": null,
            "grid_auto_rows": null,
            "grid_gap": null,
            "max_width": null,
            "order": null,
            "_view_module_version": "1.2.0",
            "grid_template_areas": null,
            "object_position": null,
            "object_fit": null,
            "grid_auto_columns": null,
            "margin": null,
            "display": null,
            "left": null
          }
        },
        "e54398aada1e415484f24a375ba9a7fc": {
          "model_module": "@jupyter-widgets/controls",
          "model_name": "DescriptionStyleModel",
          "model_module_version": "1.5.0",
          "state": {
            "_view_name": "StyleView",
            "_model_name": "DescriptionStyleModel",
            "description_width": "",
            "_view_module": "@jupyter-widgets/base",
            "_model_module_version": "1.5.0",
            "_view_count": null,
            "_view_module_version": "1.2.0",
            "_model_module": "@jupyter-widgets/controls"
          }
        },
        "9a96ecaaeb244780aca853eab6dbc460": {
          "model_module": "@jupyter-widgets/base",
          "model_name": "LayoutModel",
          "model_module_version": "1.2.0",
          "state": {
            "_view_name": "LayoutView",
            "grid_template_rows": null,
            "right": null,
            "justify_content": null,
            "_view_module": "@jupyter-widgets/base",
            "overflow": null,
            "_model_module_version": "1.2.0",
            "_view_count": null,
            "flex_flow": null,
            "width": null,
            "min_width": null,
            "border": null,
            "align_items": null,
            "bottom": null,
            "_model_module": "@jupyter-widgets/base",
            "top": null,
            "grid_column": null,
            "overflow_y": null,
            "overflow_x": null,
            "grid_auto_flow": null,
            "grid_area": null,
            "grid_template_columns": null,
            "flex": null,
            "_model_name": "LayoutModel",
            "justify_items": null,
            "grid_row": null,
            "max_height": null,
            "align_content": null,
            "visibility": null,
            "align_self": null,
            "height": null,
            "min_height": null,
            "padding": null,
            "grid_auto_rows": null,
            "grid_gap": null,
            "max_width": null,
            "order": null,
            "_view_module_version": "1.2.0",
            "grid_template_areas": null,
            "object_position": null,
            "object_fit": null,
            "grid_auto_columns": null,
            "margin": null,
            "display": null,
            "left": null
          }
        },
        "b0c82cc36bbd493aaff2aa0efa967dc4": {
          "model_module": "@jupyter-widgets/controls",
          "model_name": "HBoxModel",
          "model_module_version": "1.5.0",
          "state": {
            "_view_name": "HBoxView",
            "_dom_classes": [],
            "_model_name": "HBoxModel",
            "_view_module": "@jupyter-widgets/controls",
            "_model_module_version": "1.5.0",
            "_view_count": null,
            "_view_module_version": "1.5.0",
            "box_style": "",
            "layout": "IPY_MODEL_dea329fe8ff14229a39ceee5698e233a",
            "_model_module": "@jupyter-widgets/controls",
            "children": [
              "IPY_MODEL_105e734477bc46289d767ad87d861bf5",
              "IPY_MODEL_ca0d9abbf1764a9fb4c876dc1ab996f9",
              "IPY_MODEL_721af1f6709b4c09b070b407dce868a3"
            ]
          }
        },
        "dea329fe8ff14229a39ceee5698e233a": {
          "model_module": "@jupyter-widgets/base",
          "model_name": "LayoutModel",
          "model_module_version": "1.2.0",
          "state": {
            "_view_name": "LayoutView",
            "grid_template_rows": null,
            "right": null,
            "justify_content": null,
            "_view_module": "@jupyter-widgets/base",
            "overflow": null,
            "_model_module_version": "1.2.0",
            "_view_count": null,
            "flex_flow": null,
            "width": null,
            "min_width": null,
            "border": null,
            "align_items": null,
            "bottom": null,
            "_model_module": "@jupyter-widgets/base",
            "top": null,
            "grid_column": null,
            "overflow_y": null,
            "overflow_x": null,
            "grid_auto_flow": null,
            "grid_area": null,
            "grid_template_columns": null,
            "flex": null,
            "_model_name": "LayoutModel",
            "justify_items": null,
            "grid_row": null,
            "max_height": null,
            "align_content": null,
            "visibility": null,
            "align_self": null,
            "height": null,
            "min_height": null,
            "padding": null,
            "grid_auto_rows": null,
            "grid_gap": null,
            "max_width": null,
            "order": null,
            "_view_module_version": "1.2.0",
            "grid_template_areas": null,
            "object_position": null,
            "object_fit": null,
            "grid_auto_columns": null,
            "margin": null,
            "display": null,
            "left": null
          }
        },
        "105e734477bc46289d767ad87d861bf5": {
          "model_module": "@jupyter-widgets/controls",
          "model_name": "HTMLModel",
          "model_module_version": "1.5.0",
          "state": {
            "_view_name": "HTMLView",
            "style": "IPY_MODEL_9e5d5615891e4508b756440b66f203fd",
            "_dom_classes": [],
            "description": "",
            "_model_name": "HTMLModel",
            "placeholder": "​",
            "_view_module": "@jupyter-widgets/controls",
            "_model_module_version": "1.5.0",
            "value": "Downloading: 100%",
            "_view_count": null,
            "_view_module_version": "1.5.0",
            "description_tooltip": null,
            "_model_module": "@jupyter-widgets/controls",
            "layout": "IPY_MODEL_c77cd9d874bc4e53b0b9367f773da78e"
          }
        },
        "ca0d9abbf1764a9fb4c876dc1ab996f9": {
          "model_module": "@jupyter-widgets/controls",
          "model_name": "FloatProgressModel",
          "model_module_version": "1.5.0",
          "state": {
            "_view_name": "ProgressView",
            "style": "IPY_MODEL_12e60ccd8fab423cbab3c4cc8121c01a",
            "_dom_classes": [],
            "description": "",
            "_model_name": "FloatProgressModel",
            "bar_style": "success",
            "max": 3680,
            "_view_module": "@jupyter-widgets/controls",
            "_model_module_version": "1.5.0",
            "value": 3680,
            "_view_count": null,
            "_view_module_version": "1.5.0",
            "orientation": "horizontal",
            "min": 0,
            "description_tooltip": null,
            "_model_module": "@jupyter-widgets/controls",
            "layout": "IPY_MODEL_94f8c57073c346ce8f6ed54e0c935065"
          }
        },
        "721af1f6709b4c09b070b407dce868a3": {
          "model_module": "@jupyter-widgets/controls",
          "model_name": "HTMLModel",
          "model_module_version": "1.5.0",
          "state": {
            "_view_name": "HTMLView",
            "style": "IPY_MODEL_9599f08a74cf43c9a4eede3a0dd53f77",
            "_dom_classes": [],
            "description": "",
            "_model_name": "HTMLModel",
            "placeholder": "​",
            "_view_module": "@jupyter-widgets/controls",
            "_model_module_version": "1.5.0",
            "value": " 3.68k/3.68k [00:00&lt;00:00, 86.3kB/s]",
            "_view_count": null,
            "_view_module_version": "1.5.0",
            "description_tooltip": null,
            "_model_module": "@jupyter-widgets/controls",
            "layout": "IPY_MODEL_7957d55fc24242c6bcb0447e2135ab89"
          }
        },
        "9e5d5615891e4508b756440b66f203fd": {
          "model_module": "@jupyter-widgets/controls",
          "model_name": "DescriptionStyleModel",
          "model_module_version": "1.5.0",
          "state": {
            "_view_name": "StyleView",
            "_model_name": "DescriptionStyleModel",
            "description_width": "",
            "_view_module": "@jupyter-widgets/base",
            "_model_module_version": "1.5.0",
            "_view_count": null,
            "_view_module_version": "1.2.0",
            "_model_module": "@jupyter-widgets/controls"
          }
        },
        "c77cd9d874bc4e53b0b9367f773da78e": {
          "model_module": "@jupyter-widgets/base",
          "model_name": "LayoutModel",
          "model_module_version": "1.2.0",
          "state": {
            "_view_name": "LayoutView",
            "grid_template_rows": null,
            "right": null,
            "justify_content": null,
            "_view_module": "@jupyter-widgets/base",
            "overflow": null,
            "_model_module_version": "1.2.0",
            "_view_count": null,
            "flex_flow": null,
            "width": null,
            "min_width": null,
            "border": null,
            "align_items": null,
            "bottom": null,
            "_model_module": "@jupyter-widgets/base",
            "top": null,
            "grid_column": null,
            "overflow_y": null,
            "overflow_x": null,
            "grid_auto_flow": null,
            "grid_area": null,
            "grid_template_columns": null,
            "flex": null,
            "_model_name": "LayoutModel",
            "justify_items": null,
            "grid_row": null,
            "max_height": null,
            "align_content": null,
            "visibility": null,
            "align_self": null,
            "height": null,
            "min_height": null,
            "padding": null,
            "grid_auto_rows": null,
            "grid_gap": null,
            "max_width": null,
            "order": null,
            "_view_module_version": "1.2.0",
            "grid_template_areas": null,
            "object_position": null,
            "object_fit": null,
            "grid_auto_columns": null,
            "margin": null,
            "display": null,
            "left": null
          }
        },
        "12e60ccd8fab423cbab3c4cc8121c01a": {
          "model_module": "@jupyter-widgets/controls",
          "model_name": "ProgressStyleModel",
          "model_module_version": "1.5.0",
          "state": {
            "_view_name": "StyleView",
            "_model_name": "ProgressStyleModel",
            "description_width": "",
            "_view_module": "@jupyter-widgets/base",
            "_model_module_version": "1.5.0",
            "_view_count": null,
            "_view_module_version": "1.2.0",
            "bar_color": null,
            "_model_module": "@jupyter-widgets/controls"
          }
        },
        "94f8c57073c346ce8f6ed54e0c935065": {
          "model_module": "@jupyter-widgets/base",
          "model_name": "LayoutModel",
          "model_module_version": "1.2.0",
          "state": {
            "_view_name": "LayoutView",
            "grid_template_rows": null,
            "right": null,
            "justify_content": null,
            "_view_module": "@jupyter-widgets/base",
            "overflow": null,
            "_model_module_version": "1.2.0",
            "_view_count": null,
            "flex_flow": null,
            "width": null,
            "min_width": null,
            "border": null,
            "align_items": null,
            "bottom": null,
            "_model_module": "@jupyter-widgets/base",
            "top": null,
            "grid_column": null,
            "overflow_y": null,
            "overflow_x": null,
            "grid_auto_flow": null,
            "grid_area": null,
            "grid_template_columns": null,
            "flex": null,
            "_model_name": "LayoutModel",
            "justify_items": null,
            "grid_row": null,
            "max_height": null,
            "align_content": null,
            "visibility": null,
            "align_self": null,
            "height": null,
            "min_height": null,
            "padding": null,
            "grid_auto_rows": null,
            "grid_gap": null,
            "max_width": null,
            "order": null,
            "_view_module_version": "1.2.0",
            "grid_template_areas": null,
            "object_position": null,
            "object_fit": null,
            "grid_auto_columns": null,
            "margin": null,
            "display": null,
            "left": null
          }
        },
        "9599f08a74cf43c9a4eede3a0dd53f77": {
          "model_module": "@jupyter-widgets/controls",
          "model_name": "DescriptionStyleModel",
          "model_module_version": "1.5.0",
          "state": {
            "_view_name": "StyleView",
            "_model_name": "DescriptionStyleModel",
            "description_width": "",
            "_view_module": "@jupyter-widgets/base",
            "_model_module_version": "1.5.0",
            "_view_count": null,
            "_view_module_version": "1.2.0",
            "_model_module": "@jupyter-widgets/controls"
          }
        },
        "7957d55fc24242c6bcb0447e2135ab89": {
          "model_module": "@jupyter-widgets/base",
          "model_name": "LayoutModel",
          "model_module_version": "1.2.0",
          "state": {
            "_view_name": "LayoutView",
            "grid_template_rows": null,
            "right": null,
            "justify_content": null,
            "_view_module": "@jupyter-widgets/base",
            "overflow": null,
            "_model_module_version": "1.2.0",
            "_view_count": null,
            "flex_flow": null,
            "width": null,
            "min_width": null,
            "border": null,
            "align_items": null,
            "bottom": null,
            "_model_module": "@jupyter-widgets/base",
            "top": null,
            "grid_column": null,
            "overflow_y": null,
            "overflow_x": null,
            "grid_auto_flow": null,
            "grid_area": null,
            "grid_template_columns": null,
            "flex": null,
            "_model_name": "LayoutModel",
            "justify_items": null,
            "grid_row": null,
            "max_height": null,
            "align_content": null,
            "visibility": null,
            "align_self": null,
            "height": null,
            "min_height": null,
            "padding": null,
            "grid_auto_rows": null,
            "grid_gap": null,
            "max_width": null,
            "order": null,
            "_view_module_version": "1.2.0",
            "grid_template_areas": null,
            "object_position": null,
            "object_fit": null,
            "grid_auto_columns": null,
            "margin": null,
            "display": null,
            "left": null
          }
        },
        "9412552547cf4befa162c98e96325dc7": {
          "model_module": "@jupyter-widgets/controls",
          "model_name": "HBoxModel",
          "model_module_version": "1.5.0",
          "state": {
            "_view_name": "HBoxView",
            "_dom_classes": [],
            "_model_name": "HBoxModel",
            "_view_module": "@jupyter-widgets/controls",
            "_model_module_version": "1.5.0",
            "_view_count": null,
            "_view_module_version": "1.5.0",
            "box_style": "",
            "layout": "IPY_MODEL_cd5d5d6bdbd5488abb1872c43cea1297",
            "_model_module": "@jupyter-widgets/controls",
            "children": [
              "IPY_MODEL_795d53db81214afb88e12a3a4eb8c341",
              "IPY_MODEL_1b06a8ec8100463db0c261fe0b5c4e3b",
              "IPY_MODEL_6d5e714902ae4cbdab3698549fc20d68"
            ]
          }
        },
        "cd5d5d6bdbd5488abb1872c43cea1297": {
          "model_module": "@jupyter-widgets/base",
          "model_name": "LayoutModel",
          "model_module_version": "1.2.0",
          "state": {
            "_view_name": "LayoutView",
            "grid_template_rows": null,
            "right": null,
            "justify_content": null,
            "_view_module": "@jupyter-widgets/base",
            "overflow": null,
            "_model_module_version": "1.2.0",
            "_view_count": null,
            "flex_flow": null,
            "width": null,
            "min_width": null,
            "border": null,
            "align_items": null,
            "bottom": null,
            "_model_module": "@jupyter-widgets/base",
            "top": null,
            "grid_column": null,
            "overflow_y": null,
            "overflow_x": null,
            "grid_auto_flow": null,
            "grid_area": null,
            "grid_template_columns": null,
            "flex": null,
            "_model_name": "LayoutModel",
            "justify_items": null,
            "grid_row": null,
            "max_height": null,
            "align_content": null,
            "visibility": null,
            "align_self": null,
            "height": null,
            "min_height": null,
            "padding": null,
            "grid_auto_rows": null,
            "grid_gap": null,
            "max_width": null,
            "order": null,
            "_view_module_version": "1.2.0",
            "grid_template_areas": null,
            "object_position": null,
            "object_fit": null,
            "grid_auto_columns": null,
            "margin": null,
            "display": null,
            "left": null
          }
        },
        "795d53db81214afb88e12a3a4eb8c341": {
          "model_module": "@jupyter-widgets/controls",
          "model_name": "HTMLModel",
          "model_module_version": "1.5.0",
          "state": {
            "_view_name": "HTMLView",
            "style": "IPY_MODEL_271f8948812743298254e1daecf71301",
            "_dom_classes": [],
            "description": "",
            "_model_name": "HTMLModel",
            "placeholder": "​",
            "_view_module": "@jupyter-widgets/controls",
            "_model_module_version": "1.5.0",
            "value": "Downloading: 100%",
            "_view_count": null,
            "_view_module_version": "1.5.0",
            "description_tooltip": null,
            "_model_module": "@jupyter-widgets/controls",
            "layout": "IPY_MODEL_47b4b9ff34e847018b6d7bef042a2f81"
          }
        },
        "1b06a8ec8100463db0c261fe0b5c4e3b": {
          "model_module": "@jupyter-widgets/controls",
          "model_name": "FloatProgressModel",
          "model_module_version": "1.5.0",
          "state": {
            "_view_name": "ProgressView",
            "style": "IPY_MODEL_5a6af72b560844e9a70642c68e11b1e2",
            "_dom_classes": [],
            "description": "",
            "_model_name": "FloatProgressModel",
            "bar_style": "success",
            "max": 675,
            "_view_module": "@jupyter-widgets/controls",
            "_model_module_version": "1.5.0",
            "value": 675,
            "_view_count": null,
            "_view_module_version": "1.5.0",
            "orientation": "horizontal",
            "min": 0,
            "description_tooltip": null,
            "_model_module": "@jupyter-widgets/controls",
            "layout": "IPY_MODEL_1f9a36f3ef3749f0a9fb1ab62cd9edec"
          }
        },
        "6d5e714902ae4cbdab3698549fc20d68": {
          "model_module": "@jupyter-widgets/controls",
          "model_name": "HTMLModel",
          "model_module_version": "1.5.0",
          "state": {
            "_view_name": "HTMLView",
            "style": "IPY_MODEL_4c2a268a2f0a4c319acc21003ce8fef1",
            "_dom_classes": [],
            "description": "",
            "_model_name": "HTMLModel",
            "placeholder": "​",
            "_view_module": "@jupyter-widgets/controls",
            "_model_module_version": "1.5.0",
            "value": " 675/675 [00:00&lt;00:00, 17.7kB/s]",
            "_view_count": null,
            "_view_module_version": "1.5.0",
            "description_tooltip": null,
            "_model_module": "@jupyter-widgets/controls",
            "layout": "IPY_MODEL_51edd623250a4519a4c2c3f0834feaec"
          }
        },
        "271f8948812743298254e1daecf71301": {
          "model_module": "@jupyter-widgets/controls",
          "model_name": "DescriptionStyleModel",
          "model_module_version": "1.5.0",
          "state": {
            "_view_name": "StyleView",
            "_model_name": "DescriptionStyleModel",
            "description_width": "",
            "_view_module": "@jupyter-widgets/base",
            "_model_module_version": "1.5.0",
            "_view_count": null,
            "_view_module_version": "1.2.0",
            "_model_module": "@jupyter-widgets/controls"
          }
        },
        "47b4b9ff34e847018b6d7bef042a2f81": {
          "model_module": "@jupyter-widgets/base",
          "model_name": "LayoutModel",
          "model_module_version": "1.2.0",
          "state": {
            "_view_name": "LayoutView",
            "grid_template_rows": null,
            "right": null,
            "justify_content": null,
            "_view_module": "@jupyter-widgets/base",
            "overflow": null,
            "_model_module_version": "1.2.0",
            "_view_count": null,
            "flex_flow": null,
            "width": null,
            "min_width": null,
            "border": null,
            "align_items": null,
            "bottom": null,
            "_model_module": "@jupyter-widgets/base",
            "top": null,
            "grid_column": null,
            "overflow_y": null,
            "overflow_x": null,
            "grid_auto_flow": null,
            "grid_area": null,
            "grid_template_columns": null,
            "flex": null,
            "_model_name": "LayoutModel",
            "justify_items": null,
            "grid_row": null,
            "max_height": null,
            "align_content": null,
            "visibility": null,
            "align_self": null,
            "height": null,
            "min_height": null,
            "padding": null,
            "grid_auto_rows": null,
            "grid_gap": null,
            "max_width": null,
            "order": null,
            "_view_module_version": "1.2.0",
            "grid_template_areas": null,
            "object_position": null,
            "object_fit": null,
            "grid_auto_columns": null,
            "margin": null,
            "display": null,
            "left": null
          }
        },
        "5a6af72b560844e9a70642c68e11b1e2": {
          "model_module": "@jupyter-widgets/controls",
          "model_name": "ProgressStyleModel",
          "model_module_version": "1.5.0",
          "state": {
            "_view_name": "StyleView",
            "_model_name": "ProgressStyleModel",
            "description_width": "",
            "_view_module": "@jupyter-widgets/base",
            "_model_module_version": "1.5.0",
            "_view_count": null,
            "_view_module_version": "1.2.0",
            "bar_color": null,
            "_model_module": "@jupyter-widgets/controls"
          }
        },
        "1f9a36f3ef3749f0a9fb1ab62cd9edec": {
          "model_module": "@jupyter-widgets/base",
          "model_name": "LayoutModel",
          "model_module_version": "1.2.0",
          "state": {
            "_view_name": "LayoutView",
            "grid_template_rows": null,
            "right": null,
            "justify_content": null,
            "_view_module": "@jupyter-widgets/base",
            "overflow": null,
            "_model_module_version": "1.2.0",
            "_view_count": null,
            "flex_flow": null,
            "width": null,
            "min_width": null,
            "border": null,
            "align_items": null,
            "bottom": null,
            "_model_module": "@jupyter-widgets/base",
            "top": null,
            "grid_column": null,
            "overflow_y": null,
            "overflow_x": null,
            "grid_auto_flow": null,
            "grid_area": null,
            "grid_template_columns": null,
            "flex": null,
            "_model_name": "LayoutModel",
            "justify_items": null,
            "grid_row": null,
            "max_height": null,
            "align_content": null,
            "visibility": null,
            "align_self": null,
            "height": null,
            "min_height": null,
            "padding": null,
            "grid_auto_rows": null,
            "grid_gap": null,
            "max_width": null,
            "order": null,
            "_view_module_version": "1.2.0",
            "grid_template_areas": null,
            "object_position": null,
            "object_fit": null,
            "grid_auto_columns": null,
            "margin": null,
            "display": null,
            "left": null
          }
        },
        "4c2a268a2f0a4c319acc21003ce8fef1": {
          "model_module": "@jupyter-widgets/controls",
          "model_name": "DescriptionStyleModel",
          "model_module_version": "1.5.0",
          "state": {
            "_view_name": "StyleView",
            "_model_name": "DescriptionStyleModel",
            "description_width": "",
            "_view_module": "@jupyter-widgets/base",
            "_model_module_version": "1.5.0",
            "_view_count": null,
            "_view_module_version": "1.2.0",
            "_model_module": "@jupyter-widgets/controls"
          }
        },
        "51edd623250a4519a4c2c3f0834feaec": {
          "model_module": "@jupyter-widgets/base",
          "model_name": "LayoutModel",
          "model_module_version": "1.2.0",
          "state": {
            "_view_name": "LayoutView",
            "grid_template_rows": null,
            "right": null,
            "justify_content": null,
            "_view_module": "@jupyter-widgets/base",
            "overflow": null,
            "_model_module_version": "1.2.0",
            "_view_count": null,
            "flex_flow": null,
            "width": null,
            "min_width": null,
            "border": null,
            "align_items": null,
            "bottom": null,
            "_model_module": "@jupyter-widgets/base",
            "top": null,
            "grid_column": null,
            "overflow_y": null,
            "overflow_x": null,
            "grid_auto_flow": null,
            "grid_area": null,
            "grid_template_columns": null,
            "flex": null,
            "_model_name": "LayoutModel",
            "justify_items": null,
            "grid_row": null,
            "max_height": null,
            "align_content": null,
            "visibility": null,
            "align_self": null,
            "height": null,
            "min_height": null,
            "padding": null,
            "grid_auto_rows": null,
            "grid_gap": null,
            "max_width": null,
            "order": null,
            "_view_module_version": "1.2.0",
            "grid_template_areas": null,
            "object_position": null,
            "object_fit": null,
            "grid_auto_columns": null,
            "margin": null,
            "display": null,
            "left": null
          }
        },
        "9e355dcd51e84a40ad142e9cb33e12b5": {
          "model_module": "@jupyter-widgets/controls",
          "model_name": "HBoxModel",
          "model_module_version": "1.5.0",
          "state": {
            "_view_name": "HBoxView",
            "_dom_classes": [],
            "_model_name": "HBoxModel",
            "_view_module": "@jupyter-widgets/controls",
            "_model_module_version": "1.5.0",
            "_view_count": null,
            "_view_module_version": "1.5.0",
            "box_style": "",
            "layout": "IPY_MODEL_63818f780a0f4b529a8e675b68a4fd33",
            "_model_module": "@jupyter-widgets/controls",
            "children": [
              "IPY_MODEL_2636758286df40a9a51ebaf5b9ec50ef",
              "IPY_MODEL_6192557755ff4d259522796bf4960e03",
              "IPY_MODEL_79e8de22978e40fc8dcfade8a574e57c"
            ]
          }
        },
        "63818f780a0f4b529a8e675b68a4fd33": {
          "model_module": "@jupyter-widgets/base",
          "model_name": "LayoutModel",
          "model_module_version": "1.2.0",
          "state": {
            "_view_name": "LayoutView",
            "grid_template_rows": null,
            "right": null,
            "justify_content": null,
            "_view_module": "@jupyter-widgets/base",
            "overflow": null,
            "_model_module_version": "1.2.0",
            "_view_count": null,
            "flex_flow": null,
            "width": null,
            "min_width": null,
            "border": null,
            "align_items": null,
            "bottom": null,
            "_model_module": "@jupyter-widgets/base",
            "top": null,
            "grid_column": null,
            "overflow_y": null,
            "overflow_x": null,
            "grid_auto_flow": null,
            "grid_area": null,
            "grid_template_columns": null,
            "flex": null,
            "_model_name": "LayoutModel",
            "justify_items": null,
            "grid_row": null,
            "max_height": null,
            "align_content": null,
            "visibility": null,
            "align_self": null,
            "height": null,
            "min_height": null,
            "padding": null,
            "grid_auto_rows": null,
            "grid_gap": null,
            "max_width": null,
            "order": null,
            "_view_module_version": "1.2.0",
            "grid_template_areas": null,
            "object_position": null,
            "object_fit": null,
            "grid_auto_columns": null,
            "margin": null,
            "display": null,
            "left": null
          }
        },
        "2636758286df40a9a51ebaf5b9ec50ef": {
          "model_module": "@jupyter-widgets/controls",
          "model_name": "HTMLModel",
          "model_module_version": "1.5.0",
          "state": {
            "_view_name": "HTMLView",
            "style": "IPY_MODEL_0cb2215cbfeb44a4b5193d0e877c0c6b",
            "_dom_classes": [],
            "description": "",
            "_model_name": "HTMLModel",
            "placeholder": "​",
            "_view_module": "@jupyter-widgets/controls",
            "_model_module_version": "1.5.0",
            "value": "Downloading: 100%",
            "_view_count": null,
            "_view_module_version": "1.5.0",
            "description_tooltip": null,
            "_model_module": "@jupyter-widgets/controls",
            "layout": "IPY_MODEL_4e7e263c4af64e7b83eaa4942ed35b9d"
          }
        },
        "6192557755ff4d259522796bf4960e03": {
          "model_module": "@jupyter-widgets/controls",
          "model_name": "FloatProgressModel",
          "model_module_version": "1.5.0",
          "state": {
            "_view_name": "ProgressView",
            "style": "IPY_MODEL_ff41884f001d4ed483fe9981d9931a24",
            "_dom_classes": [],
            "description": "",
            "_model_name": "FloatProgressModel",
            "bar_style": "success",
            "max": 122,
            "_view_module": "@jupyter-widgets/controls",
            "_model_module_version": "1.5.0",
            "value": 122,
            "_view_count": null,
            "_view_module_version": "1.5.0",
            "orientation": "horizontal",
            "min": 0,
            "description_tooltip": null,
            "_model_module": "@jupyter-widgets/controls",
            "layout": "IPY_MODEL_79a20f89804a49a2b9088a1c7f5f09d1"
          }
        },
        "79e8de22978e40fc8dcfade8a574e57c": {
          "model_module": "@jupyter-widgets/controls",
          "model_name": "HTMLModel",
          "model_module_version": "1.5.0",
          "state": {
            "_view_name": "HTMLView",
            "style": "IPY_MODEL_2d7e3b966f74492a8410bbe8c02b71cb",
            "_dom_classes": [],
            "description": "",
            "_model_name": "HTMLModel",
            "placeholder": "​",
            "_view_module": "@jupyter-widgets/controls",
            "_model_module_version": "1.5.0",
            "value": " 122/122 [00:00&lt;00:00, 3.29kB/s]",
            "_view_count": null,
            "_view_module_version": "1.5.0",
            "description_tooltip": null,
            "_model_module": "@jupyter-widgets/controls",
            "layout": "IPY_MODEL_24c45102cb1f4b70a421c45cf73e292d"
          }
        },
        "0cb2215cbfeb44a4b5193d0e877c0c6b": {
          "model_module": "@jupyter-widgets/controls",
          "model_name": "DescriptionStyleModel",
          "model_module_version": "1.5.0",
          "state": {
            "_view_name": "StyleView",
            "_model_name": "DescriptionStyleModel",
            "description_width": "",
            "_view_module": "@jupyter-widgets/base",
            "_model_module_version": "1.5.0",
            "_view_count": null,
            "_view_module_version": "1.2.0",
            "_model_module": "@jupyter-widgets/controls"
          }
        },
        "4e7e263c4af64e7b83eaa4942ed35b9d": {
          "model_module": "@jupyter-widgets/base",
          "model_name": "LayoutModel",
          "model_module_version": "1.2.0",
          "state": {
            "_view_name": "LayoutView",
            "grid_template_rows": null,
            "right": null,
            "justify_content": null,
            "_view_module": "@jupyter-widgets/base",
            "overflow": null,
            "_model_module_version": "1.2.0",
            "_view_count": null,
            "flex_flow": null,
            "width": null,
            "min_width": null,
            "border": null,
            "align_items": null,
            "bottom": null,
            "_model_module": "@jupyter-widgets/base",
            "top": null,
            "grid_column": null,
            "overflow_y": null,
            "overflow_x": null,
            "grid_auto_flow": null,
            "grid_area": null,
            "grid_template_columns": null,
            "flex": null,
            "_model_name": "LayoutModel",
            "justify_items": null,
            "grid_row": null,
            "max_height": null,
            "align_content": null,
            "visibility": null,
            "align_self": null,
            "height": null,
            "min_height": null,
            "padding": null,
            "grid_auto_rows": null,
            "grid_gap": null,
            "max_width": null,
            "order": null,
            "_view_module_version": "1.2.0",
            "grid_template_areas": null,
            "object_position": null,
            "object_fit": null,
            "grid_auto_columns": null,
            "margin": null,
            "display": null,
            "left": null
          }
        },
        "ff41884f001d4ed483fe9981d9931a24": {
          "model_module": "@jupyter-widgets/controls",
          "model_name": "ProgressStyleModel",
          "model_module_version": "1.5.0",
          "state": {
            "_view_name": "StyleView",
            "_model_name": "ProgressStyleModel",
            "description_width": "",
            "_view_module": "@jupyter-widgets/base",
            "_model_module_version": "1.5.0",
            "_view_count": null,
            "_view_module_version": "1.2.0",
            "bar_color": null,
            "_model_module": "@jupyter-widgets/controls"
          }
        },
        "79a20f89804a49a2b9088a1c7f5f09d1": {
          "model_module": "@jupyter-widgets/base",
          "model_name": "LayoutModel",
          "model_module_version": "1.2.0",
          "state": {
            "_view_name": "LayoutView",
            "grid_template_rows": null,
            "right": null,
            "justify_content": null,
            "_view_module": "@jupyter-widgets/base",
            "overflow": null,
            "_model_module_version": "1.2.0",
            "_view_count": null,
            "flex_flow": null,
            "width": null,
            "min_width": null,
            "border": null,
            "align_items": null,
            "bottom": null,
            "_model_module": "@jupyter-widgets/base",
            "top": null,
            "grid_column": null,
            "overflow_y": null,
            "overflow_x": null,
            "grid_auto_flow": null,
            "grid_area": null,
            "grid_template_columns": null,
            "flex": null,
            "_model_name": "LayoutModel",
            "justify_items": null,
            "grid_row": null,
            "max_height": null,
            "align_content": null,
            "visibility": null,
            "align_self": null,
            "height": null,
            "min_height": null,
            "padding": null,
            "grid_auto_rows": null,
            "grid_gap": null,
            "max_width": null,
            "order": null,
            "_view_module_version": "1.2.0",
            "grid_template_areas": null,
            "object_position": null,
            "object_fit": null,
            "grid_auto_columns": null,
            "margin": null,
            "display": null,
            "left": null
          }
        },
        "2d7e3b966f74492a8410bbe8c02b71cb": {
          "model_module": "@jupyter-widgets/controls",
          "model_name": "DescriptionStyleModel",
          "model_module_version": "1.5.0",
          "state": {
            "_view_name": "StyleView",
            "_model_name": "DescriptionStyleModel",
            "description_width": "",
            "_view_module": "@jupyter-widgets/base",
            "_model_module_version": "1.5.0",
            "_view_count": null,
            "_view_module_version": "1.2.0",
            "_model_module": "@jupyter-widgets/controls"
          }
        },
        "24c45102cb1f4b70a421c45cf73e292d": {
          "model_module": "@jupyter-widgets/base",
          "model_name": "LayoutModel",
          "model_module_version": "1.2.0",
          "state": {
            "_view_name": "LayoutView",
            "grid_template_rows": null,
            "right": null,
            "justify_content": null,
            "_view_module": "@jupyter-widgets/base",
            "overflow": null,
            "_model_module_version": "1.2.0",
            "_view_count": null,
            "flex_flow": null,
            "width": null,
            "min_width": null,
            "border": null,
            "align_items": null,
            "bottom": null,
            "_model_module": "@jupyter-widgets/base",
            "top": null,
            "grid_column": null,
            "overflow_y": null,
            "overflow_x": null,
            "grid_auto_flow": null,
            "grid_area": null,
            "grid_template_columns": null,
            "flex": null,
            "_model_name": "LayoutModel",
            "justify_items": null,
            "grid_row": null,
            "max_height": null,
            "align_content": null,
            "visibility": null,
            "align_self": null,
            "height": null,
            "min_height": null,
            "padding": null,
            "grid_auto_rows": null,
            "grid_gap": null,
            "max_width": null,
            "order": null,
            "_view_module_version": "1.2.0",
            "grid_template_areas": null,
            "object_position": null,
            "object_fit": null,
            "grid_auto_columns": null,
            "margin": null,
            "display": null,
            "left": null
          }
        },
        "775338dbf7c74cebace2bd29ccd2c413": {
          "model_module": "@jupyter-widgets/controls",
          "model_name": "HBoxModel",
          "model_module_version": "1.5.0",
          "state": {
            "_view_name": "HBoxView",
            "_dom_classes": [],
            "_model_name": "HBoxModel",
            "_view_module": "@jupyter-widgets/controls",
            "_model_module_version": "1.5.0",
            "_view_count": null,
            "_view_module_version": "1.5.0",
            "box_style": "",
            "layout": "IPY_MODEL_c2bf7481404a4f6f9e53ec1a6da39141",
            "_model_module": "@jupyter-widgets/controls",
            "children": [
              "IPY_MODEL_90dfc3df0ee143c899aad1e278d694ae",
              "IPY_MODEL_7b2fd5f9ff714acaa5ae85664cf265ce",
              "IPY_MODEL_42733edd268a4817bcb32c3647629c28"
            ]
          }
        },
        "c2bf7481404a4f6f9e53ec1a6da39141": {
          "model_module": "@jupyter-widgets/base",
          "model_name": "LayoutModel",
          "model_module_version": "1.2.0",
          "state": {
            "_view_name": "LayoutView",
            "grid_template_rows": null,
            "right": null,
            "justify_content": null,
            "_view_module": "@jupyter-widgets/base",
            "overflow": null,
            "_model_module_version": "1.2.0",
            "_view_count": null,
            "flex_flow": null,
            "width": null,
            "min_width": null,
            "border": null,
            "align_items": null,
            "bottom": null,
            "_model_module": "@jupyter-widgets/base",
            "top": null,
            "grid_column": null,
            "overflow_y": null,
            "overflow_x": null,
            "grid_auto_flow": null,
            "grid_area": null,
            "grid_template_columns": null,
            "flex": null,
            "_model_name": "LayoutModel",
            "justify_items": null,
            "grid_row": null,
            "max_height": null,
            "align_content": null,
            "visibility": null,
            "align_self": null,
            "height": null,
            "min_height": null,
            "padding": null,
            "grid_auto_rows": null,
            "grid_gap": null,
            "max_width": null,
            "order": null,
            "_view_module_version": "1.2.0",
            "grid_template_areas": null,
            "object_position": null,
            "object_fit": null,
            "grid_auto_columns": null,
            "margin": null,
            "display": null,
            "left": null
          }
        },
        "90dfc3df0ee143c899aad1e278d694ae": {
          "model_module": "@jupyter-widgets/controls",
          "model_name": "HTMLModel",
          "model_module_version": "1.5.0",
          "state": {
            "_view_name": "HTMLView",
            "style": "IPY_MODEL_1368bb128d52416ea1c50bc6e8969b68",
            "_dom_classes": [],
            "description": "",
            "_model_name": "HTMLModel",
            "placeholder": "​",
            "_view_module": "@jupyter-widgets/controls",
            "_model_module_version": "1.5.0",
            "value": "Downloading: 100%",
            "_view_count": null,
            "_view_module_version": "1.5.0",
            "description_tooltip": null,
            "_model_module": "@jupyter-widgets/controls",
            "layout": "IPY_MODEL_85d37e62362144a0b2e870b9dda8ce68"
          }
        },
        "7b2fd5f9ff714acaa5ae85664cf265ce": {
          "model_module": "@jupyter-widgets/controls",
          "model_name": "FloatProgressModel",
          "model_module_version": "1.5.0",
          "state": {
            "_view_name": "ProgressView",
            "style": "IPY_MODEL_8044f1df5bea4128b72563100d5b4fe5",
            "_dom_classes": [],
            "description": "",
            "_model_name": "FloatProgressModel",
            "bar_style": "success",
            "max": 456356,
            "_view_module": "@jupyter-widgets/controls",
            "_model_module_version": "1.5.0",
            "value": 456356,
            "_view_count": null,
            "_view_module_version": "1.5.0",
            "orientation": "horizontal",
            "min": 0,
            "description_tooltip": null,
            "_model_module": "@jupyter-widgets/controls",
            "layout": "IPY_MODEL_0dbf79ce5f274f378ca1aac8e5b5baf7"
          }
        },
        "42733edd268a4817bcb32c3647629c28": {
          "model_module": "@jupyter-widgets/controls",
          "model_name": "HTMLModel",
          "model_module_version": "1.5.0",
          "state": {
            "_view_name": "HTMLView",
            "style": "IPY_MODEL_9b6c629e87fd459da4a967bbd73a118c",
            "_dom_classes": [],
            "description": "",
            "_model_name": "HTMLModel",
            "placeholder": "​",
            "_view_module": "@jupyter-widgets/controls",
            "_model_module_version": "1.5.0",
            "value": " 456k/456k [00:00&lt;00:00, 565kB/s]",
            "_view_count": null,
            "_view_module_version": "1.5.0",
            "description_tooltip": null,
            "_model_module": "@jupyter-widgets/controls",
            "layout": "IPY_MODEL_e39a4dd7233a4209b408d6dd224d2aa8"
          }
        },
        "1368bb128d52416ea1c50bc6e8969b68": {
          "model_module": "@jupyter-widgets/controls",
          "model_name": "DescriptionStyleModel",
          "model_module_version": "1.5.0",
          "state": {
            "_view_name": "StyleView",
            "_model_name": "DescriptionStyleModel",
            "description_width": "",
            "_view_module": "@jupyter-widgets/base",
            "_model_module_version": "1.5.0",
            "_view_count": null,
            "_view_module_version": "1.2.0",
            "_model_module": "@jupyter-widgets/controls"
          }
        },
        "85d37e62362144a0b2e870b9dda8ce68": {
          "model_module": "@jupyter-widgets/base",
          "model_name": "LayoutModel",
          "model_module_version": "1.2.0",
          "state": {
            "_view_name": "LayoutView",
            "grid_template_rows": null,
            "right": null,
            "justify_content": null,
            "_view_module": "@jupyter-widgets/base",
            "overflow": null,
            "_model_module_version": "1.2.0",
            "_view_count": null,
            "flex_flow": null,
            "width": null,
            "min_width": null,
            "border": null,
            "align_items": null,
            "bottom": null,
            "_model_module": "@jupyter-widgets/base",
            "top": null,
            "grid_column": null,
            "overflow_y": null,
            "overflow_x": null,
            "grid_auto_flow": null,
            "grid_area": null,
            "grid_template_columns": null,
            "flex": null,
            "_model_name": "LayoutModel",
            "justify_items": null,
            "grid_row": null,
            "max_height": null,
            "align_content": null,
            "visibility": null,
            "align_self": null,
            "height": null,
            "min_height": null,
            "padding": null,
            "grid_auto_rows": null,
            "grid_gap": null,
            "max_width": null,
            "order": null,
            "_view_module_version": "1.2.0",
            "grid_template_areas": null,
            "object_position": null,
            "object_fit": null,
            "grid_auto_columns": null,
            "margin": null,
            "display": null,
            "left": null
          }
        },
        "8044f1df5bea4128b72563100d5b4fe5": {
          "model_module": "@jupyter-widgets/controls",
          "model_name": "ProgressStyleModel",
          "model_module_version": "1.5.0",
          "state": {
            "_view_name": "StyleView",
            "_model_name": "ProgressStyleModel",
            "description_width": "",
            "_view_module": "@jupyter-widgets/base",
            "_model_module_version": "1.5.0",
            "_view_count": null,
            "_view_module_version": "1.2.0",
            "bar_color": null,
            "_model_module": "@jupyter-widgets/controls"
          }
        },
        "0dbf79ce5f274f378ca1aac8e5b5baf7": {
          "model_module": "@jupyter-widgets/base",
          "model_name": "LayoutModel",
          "model_module_version": "1.2.0",
          "state": {
            "_view_name": "LayoutView",
            "grid_template_rows": null,
            "right": null,
            "justify_content": null,
            "_view_module": "@jupyter-widgets/base",
            "overflow": null,
            "_model_module_version": "1.2.0",
            "_view_count": null,
            "flex_flow": null,
            "width": null,
            "min_width": null,
            "border": null,
            "align_items": null,
            "bottom": null,
            "_model_module": "@jupyter-widgets/base",
            "top": null,
            "grid_column": null,
            "overflow_y": null,
            "overflow_x": null,
            "grid_auto_flow": null,
            "grid_area": null,
            "grid_template_columns": null,
            "flex": null,
            "_model_name": "LayoutModel",
            "justify_items": null,
            "grid_row": null,
            "max_height": null,
            "align_content": null,
            "visibility": null,
            "align_self": null,
            "height": null,
            "min_height": null,
            "padding": null,
            "grid_auto_rows": null,
            "grid_gap": null,
            "max_width": null,
            "order": null,
            "_view_module_version": "1.2.0",
            "grid_template_areas": null,
            "object_position": null,
            "object_fit": null,
            "grid_auto_columns": null,
            "margin": null,
            "display": null,
            "left": null
          }
        },
        "9b6c629e87fd459da4a967bbd73a118c": {
          "model_module": "@jupyter-widgets/controls",
          "model_name": "DescriptionStyleModel",
          "model_module_version": "1.5.0",
          "state": {
            "_view_name": "StyleView",
            "_model_name": "DescriptionStyleModel",
            "description_width": "",
            "_view_module": "@jupyter-widgets/base",
            "_model_module_version": "1.5.0",
            "_view_count": null,
            "_view_module_version": "1.2.0",
            "_model_module": "@jupyter-widgets/controls"
          }
        },
        "e39a4dd7233a4209b408d6dd224d2aa8": {
          "model_module": "@jupyter-widgets/base",
          "model_name": "LayoutModel",
          "model_module_version": "1.2.0",
          "state": {
            "_view_name": "LayoutView",
            "grid_template_rows": null,
            "right": null,
            "justify_content": null,
            "_view_module": "@jupyter-widgets/base",
            "overflow": null,
            "_model_module_version": "1.2.0",
            "_view_count": null,
            "flex_flow": null,
            "width": null,
            "min_width": null,
            "border": null,
            "align_items": null,
            "bottom": null,
            "_model_module": "@jupyter-widgets/base",
            "top": null,
            "grid_column": null,
            "overflow_y": null,
            "overflow_x": null,
            "grid_auto_flow": null,
            "grid_area": null,
            "grid_template_columns": null,
            "flex": null,
            "_model_name": "LayoutModel",
            "justify_items": null,
            "grid_row": null,
            "max_height": null,
            "align_content": null,
            "visibility": null,
            "align_self": null,
            "height": null,
            "min_height": null,
            "padding": null,
            "grid_auto_rows": null,
            "grid_gap": null,
            "max_width": null,
            "order": null,
            "_view_module_version": "1.2.0",
            "grid_template_areas": null,
            "object_position": null,
            "object_fit": null,
            "grid_auto_columns": null,
            "margin": null,
            "display": null,
            "left": null
          }
        },
        "792c2f3153ae400389bbc37b4423621c": {
          "model_module": "@jupyter-widgets/controls",
          "model_name": "HBoxModel",
          "model_module_version": "1.5.0",
          "state": {
            "_view_name": "HBoxView",
            "_dom_classes": [],
            "_model_name": "HBoxModel",
            "_view_module": "@jupyter-widgets/controls",
            "_model_module_version": "1.5.0",
            "_view_count": null,
            "_view_module_version": "1.5.0",
            "box_style": "",
            "layout": "IPY_MODEL_4cc648ff7aec4a6f81abf8917b16cb97",
            "_model_module": "@jupyter-widgets/controls",
            "children": [
              "IPY_MODEL_6e83b4de17134f6d999e220d0959a87e",
              "IPY_MODEL_edd485204fc141dabf4bacf9ea5ed378",
              "IPY_MODEL_d8ee8deefe1546a48a344eed37f6788a"
            ]
          }
        },
        "4cc648ff7aec4a6f81abf8917b16cb97": {
          "model_module": "@jupyter-widgets/base",
          "model_name": "LayoutModel",
          "model_module_version": "1.2.0",
          "state": {
            "_view_name": "LayoutView",
            "grid_template_rows": null,
            "right": null,
            "justify_content": null,
            "_view_module": "@jupyter-widgets/base",
            "overflow": null,
            "_model_module_version": "1.2.0",
            "_view_count": null,
            "flex_flow": null,
            "width": null,
            "min_width": null,
            "border": null,
            "align_items": null,
            "bottom": null,
            "_model_module": "@jupyter-widgets/base",
            "top": null,
            "grid_column": null,
            "overflow_y": null,
            "overflow_x": null,
            "grid_auto_flow": null,
            "grid_area": null,
            "grid_template_columns": null,
            "flex": null,
            "_model_name": "LayoutModel",
            "justify_items": null,
            "grid_row": null,
            "max_height": null,
            "align_content": null,
            "visibility": null,
            "align_self": null,
            "height": null,
            "min_height": null,
            "padding": null,
            "grid_auto_rows": null,
            "grid_gap": null,
            "max_width": null,
            "order": null,
            "_view_module_version": "1.2.0",
            "grid_template_areas": null,
            "object_position": null,
            "object_fit": null,
            "grid_auto_columns": null,
            "margin": null,
            "display": null,
            "left": null
          }
        },
        "6e83b4de17134f6d999e220d0959a87e": {
          "model_module": "@jupyter-widgets/controls",
          "model_name": "HTMLModel",
          "model_module_version": "1.5.0",
          "state": {
            "_view_name": "HTMLView",
            "style": "IPY_MODEL_997845c321b34bee979390e969580487",
            "_dom_classes": [],
            "description": "",
            "_model_name": "HTMLModel",
            "placeholder": "​",
            "_view_module": "@jupyter-widgets/controls",
            "_model_module_version": "1.5.0",
            "value": "Downloading: 100%",
            "_view_count": null,
            "_view_module_version": "1.5.0",
            "description_tooltip": null,
            "_model_module": "@jupyter-widgets/controls",
            "layout": "IPY_MODEL_569e871bf3d54dd18270d8ed082ed6ee"
          }
        },
        "edd485204fc141dabf4bacf9ea5ed378": {
          "model_module": "@jupyter-widgets/controls",
          "model_name": "FloatProgressModel",
          "model_module_version": "1.5.0",
          "state": {
            "_view_name": "ProgressView",
            "style": "IPY_MODEL_22ab6614690240b393dad3091d4b1839",
            "_dom_classes": [],
            "description": "",
            "_model_name": "FloatProgressModel",
            "bar_style": "success",
            "max": 229,
            "_view_module": "@jupyter-widgets/controls",
            "_model_module_version": "1.5.0",
            "value": 229,
            "_view_count": null,
            "_view_module_version": "1.5.0",
            "orientation": "horizontal",
            "min": 0,
            "description_tooltip": null,
            "_model_module": "@jupyter-widgets/controls",
            "layout": "IPY_MODEL_a4f7056b59ce4de681fe28ab9e8bab7b"
          }
        },
        "d8ee8deefe1546a48a344eed37f6788a": {
          "model_module": "@jupyter-widgets/controls",
          "model_name": "HTMLModel",
          "model_module_version": "1.5.0",
          "state": {
            "_view_name": "HTMLView",
            "style": "IPY_MODEL_dd094c745f8640d783199a12f5eef6b6",
            "_dom_classes": [],
            "description": "",
            "_model_name": "HTMLModel",
            "placeholder": "​",
            "_view_module": "@jupyter-widgets/controls",
            "_model_module_version": "1.5.0",
            "value": " 229/229 [00:00&lt;00:00, 5.83kB/s]",
            "_view_count": null,
            "_view_module_version": "1.5.0",
            "description_tooltip": null,
            "_model_module": "@jupyter-widgets/controls",
            "layout": "IPY_MODEL_8d007951e9084dff898285b7c6b90ebf"
          }
        },
        "997845c321b34bee979390e969580487": {
          "model_module": "@jupyter-widgets/controls",
          "model_name": "DescriptionStyleModel",
          "model_module_version": "1.5.0",
          "state": {
            "_view_name": "StyleView",
            "_model_name": "DescriptionStyleModel",
            "description_width": "",
            "_view_module": "@jupyter-widgets/base",
            "_model_module_version": "1.5.0",
            "_view_count": null,
            "_view_module_version": "1.2.0",
            "_model_module": "@jupyter-widgets/controls"
          }
        },
        "569e871bf3d54dd18270d8ed082ed6ee": {
          "model_module": "@jupyter-widgets/base",
          "model_name": "LayoutModel",
          "model_module_version": "1.2.0",
          "state": {
            "_view_name": "LayoutView",
            "grid_template_rows": null,
            "right": null,
            "justify_content": null,
            "_view_module": "@jupyter-widgets/base",
            "overflow": null,
            "_model_module_version": "1.2.0",
            "_view_count": null,
            "flex_flow": null,
            "width": null,
            "min_width": null,
            "border": null,
            "align_items": null,
            "bottom": null,
            "_model_module": "@jupyter-widgets/base",
            "top": null,
            "grid_column": null,
            "overflow_y": null,
            "overflow_x": null,
            "grid_auto_flow": null,
            "grid_area": null,
            "grid_template_columns": null,
            "flex": null,
            "_model_name": "LayoutModel",
            "justify_items": null,
            "grid_row": null,
            "max_height": null,
            "align_content": null,
            "visibility": null,
            "align_self": null,
            "height": null,
            "min_height": null,
            "padding": null,
            "grid_auto_rows": null,
            "grid_gap": null,
            "max_width": null,
            "order": null,
            "_view_module_version": "1.2.0",
            "grid_template_areas": null,
            "object_position": null,
            "object_fit": null,
            "grid_auto_columns": null,
            "margin": null,
            "display": null,
            "left": null
          }
        },
        "22ab6614690240b393dad3091d4b1839": {
          "model_module": "@jupyter-widgets/controls",
          "model_name": "ProgressStyleModel",
          "model_module_version": "1.5.0",
          "state": {
            "_view_name": "StyleView",
            "_model_name": "ProgressStyleModel",
            "description_width": "",
            "_view_module": "@jupyter-widgets/base",
            "_model_module_version": "1.5.0",
            "_view_count": null,
            "_view_module_version": "1.2.0",
            "bar_color": null,
            "_model_module": "@jupyter-widgets/controls"
          }
        },
        "a4f7056b59ce4de681fe28ab9e8bab7b": {
          "model_module": "@jupyter-widgets/base",
          "model_name": "LayoutModel",
          "model_module_version": "1.2.0",
          "state": {
            "_view_name": "LayoutView",
            "grid_template_rows": null,
            "right": null,
            "justify_content": null,
            "_view_module": "@jupyter-widgets/base",
            "overflow": null,
            "_model_module_version": "1.2.0",
            "_view_count": null,
            "flex_flow": null,
            "width": null,
            "min_width": null,
            "border": null,
            "align_items": null,
            "bottom": null,
            "_model_module": "@jupyter-widgets/base",
            "top": null,
            "grid_column": null,
            "overflow_y": null,
            "overflow_x": null,
            "grid_auto_flow": null,
            "grid_area": null,
            "grid_template_columns": null,
            "flex": null,
            "_model_name": "LayoutModel",
            "justify_items": null,
            "grid_row": null,
            "max_height": null,
            "align_content": null,
            "visibility": null,
            "align_self": null,
            "height": null,
            "min_height": null,
            "padding": null,
            "grid_auto_rows": null,
            "grid_gap": null,
            "max_width": null,
            "order": null,
            "_view_module_version": "1.2.0",
            "grid_template_areas": null,
            "object_position": null,
            "object_fit": null,
            "grid_auto_columns": null,
            "margin": null,
            "display": null,
            "left": null
          }
        },
        "dd094c745f8640d783199a12f5eef6b6": {
          "model_module": "@jupyter-widgets/controls",
          "model_name": "DescriptionStyleModel",
          "model_module_version": "1.5.0",
          "state": {
            "_view_name": "StyleView",
            "_model_name": "DescriptionStyleModel",
            "description_width": "",
            "_view_module": "@jupyter-widgets/base",
            "_model_module_version": "1.5.0",
            "_view_count": null,
            "_view_module_version": "1.2.0",
            "_model_module": "@jupyter-widgets/controls"
          }
        },
        "8d007951e9084dff898285b7c6b90ebf": {
          "model_module": "@jupyter-widgets/base",
          "model_name": "LayoutModel",
          "model_module_version": "1.2.0",
          "state": {
            "_view_name": "LayoutView",
            "grid_template_rows": null,
            "right": null,
            "justify_content": null,
            "_view_module": "@jupyter-widgets/base",
            "overflow": null,
            "_model_module_version": "1.2.0",
            "_view_count": null,
            "flex_flow": null,
            "width": null,
            "min_width": null,
            "border": null,
            "align_items": null,
            "bottom": null,
            "_model_module": "@jupyter-widgets/base",
            "top": null,
            "grid_column": null,
            "overflow_y": null,
            "overflow_x": null,
            "grid_auto_flow": null,
            "grid_area": null,
            "grid_template_columns": null,
            "flex": null,
            "_model_name": "LayoutModel",
            "justify_items": null,
            "grid_row": null,
            "max_height": null,
            "align_content": null,
            "visibility": null,
            "align_self": null,
            "height": null,
            "min_height": null,
            "padding": null,
            "grid_auto_rows": null,
            "grid_gap": null,
            "max_width": null,
            "order": null,
            "_view_module_version": "1.2.0",
            "grid_template_areas": null,
            "object_position": null,
            "object_fit": null,
            "grid_auto_columns": null,
            "margin": null,
            "display": null,
            "left": null
          }
        },
        "75835d17a9d3407f8f183625342a7c20": {
          "model_module": "@jupyter-widgets/controls",
          "model_name": "HBoxModel",
          "model_module_version": "1.5.0",
          "state": {
            "_view_name": "HBoxView",
            "_dom_classes": [],
            "_model_name": "HBoxModel",
            "_view_module": "@jupyter-widgets/controls",
            "_model_module_version": "1.5.0",
            "_view_count": null,
            "_view_module_version": "1.5.0",
            "box_style": "",
            "layout": "IPY_MODEL_f30d8758a79f4c8fbd1a3e26421ecdea",
            "_model_module": "@jupyter-widgets/controls",
            "children": [
              "IPY_MODEL_52a4d41327884205ad89ae1deab0c1a0",
              "IPY_MODEL_aae94c4f8a88443693d03743842abbbc",
              "IPY_MODEL_0383674e496a46b8b691201764f2bf65"
            ]
          }
        },
        "f30d8758a79f4c8fbd1a3e26421ecdea": {
          "model_module": "@jupyter-widgets/base",
          "model_name": "LayoutModel",
          "model_module_version": "1.2.0",
          "state": {
            "_view_name": "LayoutView",
            "grid_template_rows": null,
            "right": null,
            "justify_content": null,
            "_view_module": "@jupyter-widgets/base",
            "overflow": null,
            "_model_module_version": "1.2.0",
            "_view_count": null,
            "flex_flow": null,
            "width": null,
            "min_width": null,
            "border": null,
            "align_items": null,
            "bottom": null,
            "_model_module": "@jupyter-widgets/base",
            "top": null,
            "grid_column": null,
            "overflow_y": null,
            "overflow_x": null,
            "grid_auto_flow": null,
            "grid_area": null,
            "grid_template_columns": null,
            "flex": null,
            "_model_name": "LayoutModel",
            "justify_items": null,
            "grid_row": null,
            "max_height": null,
            "align_content": null,
            "visibility": null,
            "align_self": null,
            "height": null,
            "min_height": null,
            "padding": null,
            "grid_auto_rows": null,
            "grid_gap": null,
            "max_width": null,
            "order": null,
            "_view_module_version": "1.2.0",
            "grid_template_areas": null,
            "object_position": null,
            "object_fit": null,
            "grid_auto_columns": null,
            "margin": null,
            "display": null,
            "left": null
          }
        },
        "52a4d41327884205ad89ae1deab0c1a0": {
          "model_module": "@jupyter-widgets/controls",
          "model_name": "HTMLModel",
          "model_module_version": "1.5.0",
          "state": {
            "_view_name": "HTMLView",
            "style": "IPY_MODEL_d553968dfe2c4a1f9be9abc519eb1b6c",
            "_dom_classes": [],
            "description": "",
            "_model_name": "HTMLModel",
            "placeholder": "​",
            "_view_module": "@jupyter-widgets/controls",
            "_model_module_version": "1.5.0",
            "value": "Downloading: 100%",
            "_view_count": null,
            "_view_module_version": "1.5.0",
            "description_tooltip": null,
            "_model_module": "@jupyter-widgets/controls",
            "layout": "IPY_MODEL_b9272458fb164683bfc0fd4429991b0f"
          }
        },
        "aae94c4f8a88443693d03743842abbbc": {
          "model_module": "@jupyter-widgets/controls",
          "model_name": "FloatProgressModel",
          "model_module_version": "1.5.0",
          "state": {
            "_view_name": "ProgressView",
            "style": "IPY_MODEL_36e4930f210f44b39c8a7d54dad96c52",
            "_dom_classes": [],
            "description": "",
            "_model_name": "FloatProgressModel",
            "bar_style": "success",
            "max": 498661169,
            "_view_module": "@jupyter-widgets/controls",
            "_model_module_version": "1.5.0",
            "value": 498661169,
            "_view_count": null,
            "_view_module_version": "1.5.0",
            "orientation": "horizontal",
            "min": 0,
            "description_tooltip": null,
            "_model_module": "@jupyter-widgets/controls",
            "layout": "IPY_MODEL_4fa2e016c3f54ee5b61612ffcabba7c4"
          }
        },
        "0383674e496a46b8b691201764f2bf65": {
          "model_module": "@jupyter-widgets/controls",
          "model_name": "HTMLModel",
          "model_module_version": "1.5.0",
          "state": {
            "_view_name": "HTMLView",
            "style": "IPY_MODEL_300bf7b59aed43f5a8962d61a451f626",
            "_dom_classes": [],
            "description": "",
            "_model_name": "HTMLModel",
            "placeholder": "​",
            "_view_module": "@jupyter-widgets/controls",
            "_model_module_version": "1.5.0",
            "value": " 499M/499M [00:23&lt;00:00, 29.4MB/s]",
            "_view_count": null,
            "_view_module_version": "1.5.0",
            "description_tooltip": null,
            "_model_module": "@jupyter-widgets/controls",
            "layout": "IPY_MODEL_176da9630f0f447da1ceb2746be2677e"
          }
        },
        "d553968dfe2c4a1f9be9abc519eb1b6c": {
          "model_module": "@jupyter-widgets/controls",
          "model_name": "DescriptionStyleModel",
          "model_module_version": "1.5.0",
          "state": {
            "_view_name": "StyleView",
            "_model_name": "DescriptionStyleModel",
            "description_width": "",
            "_view_module": "@jupyter-widgets/base",
            "_model_module_version": "1.5.0",
            "_view_count": null,
            "_view_module_version": "1.2.0",
            "_model_module": "@jupyter-widgets/controls"
          }
        },
        "b9272458fb164683bfc0fd4429991b0f": {
          "model_module": "@jupyter-widgets/base",
          "model_name": "LayoutModel",
          "model_module_version": "1.2.0",
          "state": {
            "_view_name": "LayoutView",
            "grid_template_rows": null,
            "right": null,
            "justify_content": null,
            "_view_module": "@jupyter-widgets/base",
            "overflow": null,
            "_model_module_version": "1.2.0",
            "_view_count": null,
            "flex_flow": null,
            "width": null,
            "min_width": null,
            "border": null,
            "align_items": null,
            "bottom": null,
            "_model_module": "@jupyter-widgets/base",
            "top": null,
            "grid_column": null,
            "overflow_y": null,
            "overflow_x": null,
            "grid_auto_flow": null,
            "grid_area": null,
            "grid_template_columns": null,
            "flex": null,
            "_model_name": "LayoutModel",
            "justify_items": null,
            "grid_row": null,
            "max_height": null,
            "align_content": null,
            "visibility": null,
            "align_self": null,
            "height": null,
            "min_height": null,
            "padding": null,
            "grid_auto_rows": null,
            "grid_gap": null,
            "max_width": null,
            "order": null,
            "_view_module_version": "1.2.0",
            "grid_template_areas": null,
            "object_position": null,
            "object_fit": null,
            "grid_auto_columns": null,
            "margin": null,
            "display": null,
            "left": null
          }
        },
        "36e4930f210f44b39c8a7d54dad96c52": {
          "model_module": "@jupyter-widgets/controls",
          "model_name": "ProgressStyleModel",
          "model_module_version": "1.5.0",
          "state": {
            "_view_name": "StyleView",
            "_model_name": "ProgressStyleModel",
            "description_width": "",
            "_view_module": "@jupyter-widgets/base",
            "_model_module_version": "1.5.0",
            "_view_count": null,
            "_view_module_version": "1.2.0",
            "bar_color": null,
            "_model_module": "@jupyter-widgets/controls"
          }
        },
        "4fa2e016c3f54ee5b61612ffcabba7c4": {
          "model_module": "@jupyter-widgets/base",
          "model_name": "LayoutModel",
          "model_module_version": "1.2.0",
          "state": {
            "_view_name": "LayoutView",
            "grid_template_rows": null,
            "right": null,
            "justify_content": null,
            "_view_module": "@jupyter-widgets/base",
            "overflow": null,
            "_model_module_version": "1.2.0",
            "_view_count": null,
            "flex_flow": null,
            "width": null,
            "min_width": null,
            "border": null,
            "align_items": null,
            "bottom": null,
            "_model_module": "@jupyter-widgets/base",
            "top": null,
            "grid_column": null,
            "overflow_y": null,
            "overflow_x": null,
            "grid_auto_flow": null,
            "grid_area": null,
            "grid_template_columns": null,
            "flex": null,
            "_model_name": "LayoutModel",
            "justify_items": null,
            "grid_row": null,
            "max_height": null,
            "align_content": null,
            "visibility": null,
            "align_self": null,
            "height": null,
            "min_height": null,
            "padding": null,
            "grid_auto_rows": null,
            "grid_gap": null,
            "max_width": null,
            "order": null,
            "_view_module_version": "1.2.0",
            "grid_template_areas": null,
            "object_position": null,
            "object_fit": null,
            "grid_auto_columns": null,
            "margin": null,
            "display": null,
            "left": null
          }
        },
        "300bf7b59aed43f5a8962d61a451f626": {
          "model_module": "@jupyter-widgets/controls",
          "model_name": "DescriptionStyleModel",
          "model_module_version": "1.5.0",
          "state": {
            "_view_name": "StyleView",
            "_model_name": "DescriptionStyleModel",
            "description_width": "",
            "_view_module": "@jupyter-widgets/base",
            "_model_module_version": "1.5.0",
            "_view_count": null,
            "_view_module_version": "1.2.0",
            "_model_module": "@jupyter-widgets/controls"
          }
        },
        "176da9630f0f447da1ceb2746be2677e": {
          "model_module": "@jupyter-widgets/base",
          "model_name": "LayoutModel",
          "model_module_version": "1.2.0",
          "state": {
            "_view_name": "LayoutView",
            "grid_template_rows": null,
            "right": null,
            "justify_content": null,
            "_view_module": "@jupyter-widgets/base",
            "overflow": null,
            "_model_module_version": "1.2.0",
            "_view_count": null,
            "flex_flow": null,
            "width": null,
            "min_width": null,
            "border": null,
            "align_items": null,
            "bottom": null,
            "_model_module": "@jupyter-widgets/base",
            "top": null,
            "grid_column": null,
            "overflow_y": null,
            "overflow_x": null,
            "grid_auto_flow": null,
            "grid_area": null,
            "grid_template_columns": null,
            "flex": null,
            "_model_name": "LayoutModel",
            "justify_items": null,
            "grid_row": null,
            "max_height": null,
            "align_content": null,
            "visibility": null,
            "align_self": null,
            "height": null,
            "min_height": null,
            "padding": null,
            "grid_auto_rows": null,
            "grid_gap": null,
            "max_width": null,
            "order": null,
            "_view_module_version": "1.2.0",
            "grid_template_areas": null,
            "object_position": null,
            "object_fit": null,
            "grid_auto_columns": null,
            "margin": null,
            "display": null,
            "left": null
          }
        },
        "71cf2bf930cd4b838a5a68d50a18d856": {
          "model_module": "@jupyter-widgets/controls",
          "model_name": "HBoxModel",
          "model_module_version": "1.5.0",
          "state": {
            "_view_name": "HBoxView",
            "_dom_classes": [],
            "_model_name": "HBoxModel",
            "_view_module": "@jupyter-widgets/controls",
            "_model_module_version": "1.5.0",
            "_view_count": null,
            "_view_module_version": "1.5.0",
            "box_style": "",
            "layout": "IPY_MODEL_f590c5dd540c42bdaeb111fb751f4943",
            "_model_module": "@jupyter-widgets/controls",
            "children": [
              "IPY_MODEL_0b3738c2c0b347b6808218fd7f9aa6c4",
              "IPY_MODEL_a58292ab7afb43758c70fc245d90e838",
              "IPY_MODEL_966d58ada2e2467f946d32855eb86baa"
            ]
          }
        },
        "f590c5dd540c42bdaeb111fb751f4943": {
          "model_module": "@jupyter-widgets/base",
          "model_name": "LayoutModel",
          "model_module_version": "1.2.0",
          "state": {
            "_view_name": "LayoutView",
            "grid_template_rows": null,
            "right": null,
            "justify_content": null,
            "_view_module": "@jupyter-widgets/base",
            "overflow": null,
            "_model_module_version": "1.2.0",
            "_view_count": null,
            "flex_flow": null,
            "width": null,
            "min_width": null,
            "border": null,
            "align_items": null,
            "bottom": null,
            "_model_module": "@jupyter-widgets/base",
            "top": null,
            "grid_column": null,
            "overflow_y": null,
            "overflow_x": null,
            "grid_auto_flow": null,
            "grid_area": null,
            "grid_template_columns": null,
            "flex": null,
            "_model_name": "LayoutModel",
            "justify_items": null,
            "grid_row": null,
            "max_height": null,
            "align_content": null,
            "visibility": null,
            "align_self": null,
            "height": null,
            "min_height": null,
            "padding": null,
            "grid_auto_rows": null,
            "grid_gap": null,
            "max_width": null,
            "order": null,
            "_view_module_version": "1.2.0",
            "grid_template_areas": null,
            "object_position": null,
            "object_fit": null,
            "grid_auto_columns": null,
            "margin": null,
            "display": null,
            "left": null
          }
        },
        "0b3738c2c0b347b6808218fd7f9aa6c4": {
          "model_module": "@jupyter-widgets/controls",
          "model_name": "HTMLModel",
          "model_module_version": "1.5.0",
          "state": {
            "_view_name": "HTMLView",
            "style": "IPY_MODEL_2c2a2c4bab55433a842704a1459ee829",
            "_dom_classes": [],
            "description": "",
            "_model_name": "HTMLModel",
            "placeholder": "​",
            "_view_module": "@jupyter-widgets/controls",
            "_model_module_version": "1.5.0",
            "value": "Downloading: 100%",
            "_view_count": null,
            "_view_module_version": "1.5.0",
            "description_tooltip": null,
            "_model_module": "@jupyter-widgets/controls",
            "layout": "IPY_MODEL_280f3d0c5a404c91bffba3dd0eae9a56"
          }
        },
        "a58292ab7afb43758c70fc245d90e838": {
          "model_module": "@jupyter-widgets/controls",
          "model_name": "FloatProgressModel",
          "model_module_version": "1.5.0",
          "state": {
            "_view_name": "ProgressView",
            "style": "IPY_MODEL_a34f6d4c195d4cdaa75c805a7725a776",
            "_dom_classes": [],
            "description": "",
            "_model_name": "FloatProgressModel",
            "bar_style": "success",
            "max": 52,
            "_view_module": "@jupyter-widgets/controls",
            "_model_module_version": "1.5.0",
            "value": 52,
            "_view_count": null,
            "_view_module_version": "1.5.0",
            "orientation": "horizontal",
            "min": 0,
            "description_tooltip": null,
            "_model_module": "@jupyter-widgets/controls",
            "layout": "IPY_MODEL_241f9e7a551f443aad91b29f779e9f53"
          }
        },
        "966d58ada2e2467f946d32855eb86baa": {
          "model_module": "@jupyter-widgets/controls",
          "model_name": "HTMLModel",
          "model_module_version": "1.5.0",
          "state": {
            "_view_name": "HTMLView",
            "style": "IPY_MODEL_9d26d8e1b8a44a40869aee6be727fbfa",
            "_dom_classes": [],
            "description": "",
            "_model_name": "HTMLModel",
            "placeholder": "​",
            "_view_module": "@jupyter-widgets/controls",
            "_model_module_version": "1.5.0",
            "value": " 52.0/52.0 [00:00&lt;00:00, 1.38kB/s]",
            "_view_count": null,
            "_view_module_version": "1.5.0",
            "description_tooltip": null,
            "_model_module": "@jupyter-widgets/controls",
            "layout": "IPY_MODEL_85addd06bc904e7cad24dd762ec21c1f"
          }
        },
        "2c2a2c4bab55433a842704a1459ee829": {
          "model_module": "@jupyter-widgets/controls",
          "model_name": "DescriptionStyleModel",
          "model_module_version": "1.5.0",
          "state": {
            "_view_name": "StyleView",
            "_model_name": "DescriptionStyleModel",
            "description_width": "",
            "_view_module": "@jupyter-widgets/base",
            "_model_module_version": "1.5.0",
            "_view_count": null,
            "_view_module_version": "1.2.0",
            "_model_module": "@jupyter-widgets/controls"
          }
        },
        "280f3d0c5a404c91bffba3dd0eae9a56": {
          "model_module": "@jupyter-widgets/base",
          "model_name": "LayoutModel",
          "model_module_version": "1.2.0",
          "state": {
            "_view_name": "LayoutView",
            "grid_template_rows": null,
            "right": null,
            "justify_content": null,
            "_view_module": "@jupyter-widgets/base",
            "overflow": null,
            "_model_module_version": "1.2.0",
            "_view_count": null,
            "flex_flow": null,
            "width": null,
            "min_width": null,
            "border": null,
            "align_items": null,
            "bottom": null,
            "_model_module": "@jupyter-widgets/base",
            "top": null,
            "grid_column": null,
            "overflow_y": null,
            "overflow_x": null,
            "grid_auto_flow": null,
            "grid_area": null,
            "grid_template_columns": null,
            "flex": null,
            "_model_name": "LayoutModel",
            "justify_items": null,
            "grid_row": null,
            "max_height": null,
            "align_content": null,
            "visibility": null,
            "align_self": null,
            "height": null,
            "min_height": null,
            "padding": null,
            "grid_auto_rows": null,
            "grid_gap": null,
            "max_width": null,
            "order": null,
            "_view_module_version": "1.2.0",
            "grid_template_areas": null,
            "object_position": null,
            "object_fit": null,
            "grid_auto_columns": null,
            "margin": null,
            "display": null,
            "left": null
          }
        },
        "a34f6d4c195d4cdaa75c805a7725a776": {
          "model_module": "@jupyter-widgets/controls",
          "model_name": "ProgressStyleModel",
          "model_module_version": "1.5.0",
          "state": {
            "_view_name": "StyleView",
            "_model_name": "ProgressStyleModel",
            "description_width": "",
            "_view_module": "@jupyter-widgets/base",
            "_model_module_version": "1.5.0",
            "_view_count": null,
            "_view_module_version": "1.2.0",
            "bar_color": null,
            "_model_module": "@jupyter-widgets/controls"
          }
        },
        "241f9e7a551f443aad91b29f779e9f53": {
          "model_module": "@jupyter-widgets/base",
          "model_name": "LayoutModel",
          "model_module_version": "1.2.0",
          "state": {
            "_view_name": "LayoutView",
            "grid_template_rows": null,
            "right": null,
            "justify_content": null,
            "_view_module": "@jupyter-widgets/base",
            "overflow": null,
            "_model_module_version": "1.2.0",
            "_view_count": null,
            "flex_flow": null,
            "width": null,
            "min_width": null,
            "border": null,
            "align_items": null,
            "bottom": null,
            "_model_module": "@jupyter-widgets/base",
            "top": null,
            "grid_column": null,
            "overflow_y": null,
            "overflow_x": null,
            "grid_auto_flow": null,
            "grid_area": null,
            "grid_template_columns": null,
            "flex": null,
            "_model_name": "LayoutModel",
            "justify_items": null,
            "grid_row": null,
            "max_height": null,
            "align_content": null,
            "visibility": null,
            "align_self": null,
            "height": null,
            "min_height": null,
            "padding": null,
            "grid_auto_rows": null,
            "grid_gap": null,
            "max_width": null,
            "order": null,
            "_view_module_version": "1.2.0",
            "grid_template_areas": null,
            "object_position": null,
            "object_fit": null,
            "grid_auto_columns": null,
            "margin": null,
            "display": null,
            "left": null
          }
        },
        "9d26d8e1b8a44a40869aee6be727fbfa": {
          "model_module": "@jupyter-widgets/controls",
          "model_name": "DescriptionStyleModel",
          "model_module_version": "1.5.0",
          "state": {
            "_view_name": "StyleView",
            "_model_name": "DescriptionStyleModel",
            "description_width": "",
            "_view_module": "@jupyter-widgets/base",
            "_model_module_version": "1.5.0",
            "_view_count": null,
            "_view_module_version": "1.2.0",
            "_model_module": "@jupyter-widgets/controls"
          }
        },
        "85addd06bc904e7cad24dd762ec21c1f": {
          "model_module": "@jupyter-widgets/base",
          "model_name": "LayoutModel",
          "model_module_version": "1.2.0",
          "state": {
            "_view_name": "LayoutView",
            "grid_template_rows": null,
            "right": null,
            "justify_content": null,
            "_view_module": "@jupyter-widgets/base",
            "overflow": null,
            "_model_module_version": "1.2.0",
            "_view_count": null,
            "flex_flow": null,
            "width": null,
            "min_width": null,
            "border": null,
            "align_items": null,
            "bottom": null,
            "_model_module": "@jupyter-widgets/base",
            "top": null,
            "grid_column": null,
            "overflow_y": null,
            "overflow_x": null,
            "grid_auto_flow": null,
            "grid_area": null,
            "grid_template_columns": null,
            "flex": null,
            "_model_name": "LayoutModel",
            "justify_items": null,
            "grid_row": null,
            "max_height": null,
            "align_content": null,
            "visibility": null,
            "align_self": null,
            "height": null,
            "min_height": null,
            "padding": null,
            "grid_auto_rows": null,
            "grid_gap": null,
            "max_width": null,
            "order": null,
            "_view_module_version": "1.2.0",
            "grid_template_areas": null,
            "object_position": null,
            "object_fit": null,
            "grid_auto_columns": null,
            "margin": null,
            "display": null,
            "left": null
          }
        },
        "80889d441f464eceb54c37a776774541": {
          "model_module": "@jupyter-widgets/controls",
          "model_name": "HBoxModel",
          "model_module_version": "1.5.0",
          "state": {
            "_view_name": "HBoxView",
            "_dom_classes": [],
            "_model_name": "HBoxModel",
            "_view_module": "@jupyter-widgets/controls",
            "_model_module_version": "1.5.0",
            "_view_count": null,
            "_view_module_version": "1.5.0",
            "box_style": "",
            "layout": "IPY_MODEL_c5c737f679704d19adadb2143942249f",
            "_model_module": "@jupyter-widgets/controls",
            "children": [
              "IPY_MODEL_2c38793725d54b49abfa211b0274f56b",
              "IPY_MODEL_246fa0221422419983c52c3b207e7258",
              "IPY_MODEL_e4e86c428d894089b881ca2e06c9e0f5"
            ]
          }
        },
        "c5c737f679704d19adadb2143942249f": {
          "model_module": "@jupyter-widgets/base",
          "model_name": "LayoutModel",
          "model_module_version": "1.2.0",
          "state": {
            "_view_name": "LayoutView",
            "grid_template_rows": null,
            "right": null,
            "justify_content": null,
            "_view_module": "@jupyter-widgets/base",
            "overflow": null,
            "_model_module_version": "1.2.0",
            "_view_count": null,
            "flex_flow": null,
            "width": null,
            "min_width": null,
            "border": null,
            "align_items": null,
            "bottom": null,
            "_model_module": "@jupyter-widgets/base",
            "top": null,
            "grid_column": null,
            "overflow_y": null,
            "overflow_x": null,
            "grid_auto_flow": null,
            "grid_area": null,
            "grid_template_columns": null,
            "flex": null,
            "_model_name": "LayoutModel",
            "justify_items": null,
            "grid_row": null,
            "max_height": null,
            "align_content": null,
            "visibility": null,
            "align_self": null,
            "height": null,
            "min_height": null,
            "padding": null,
            "grid_auto_rows": null,
            "grid_gap": null,
            "max_width": null,
            "order": null,
            "_view_module_version": "1.2.0",
            "grid_template_areas": null,
            "object_position": null,
            "object_fit": null,
            "grid_auto_columns": null,
            "margin": null,
            "display": null,
            "left": null
          }
        },
        "2c38793725d54b49abfa211b0274f56b": {
          "model_module": "@jupyter-widgets/controls",
          "model_name": "HTMLModel",
          "model_module_version": "1.5.0",
          "state": {
            "_view_name": "HTMLView",
            "style": "IPY_MODEL_0f8c855cf06e41aab3f86d4261d57bdf",
            "_dom_classes": [],
            "description": "",
            "_model_name": "HTMLModel",
            "placeholder": "​",
            "_view_module": "@jupyter-widgets/controls",
            "_model_module_version": "1.5.0",
            "value": "Downloading: 100%",
            "_view_count": null,
            "_view_module_version": "1.5.0",
            "description_tooltip": null,
            "_model_module": "@jupyter-widgets/controls",
            "layout": "IPY_MODEL_cfb9a7f98fce428b8dee3a173f37d598"
          }
        },
        "246fa0221422419983c52c3b207e7258": {
          "model_module": "@jupyter-widgets/controls",
          "model_name": "FloatProgressModel",
          "model_module_version": "1.5.0",
          "state": {
            "_view_name": "ProgressView",
            "style": "IPY_MODEL_217224283bbf40dbb308e66cff5bb217",
            "_dom_classes": [],
            "description": "",
            "_model_name": "FloatProgressModel",
            "bar_style": "success",
            "max": 239,
            "_view_module": "@jupyter-widgets/controls",
            "_model_module_version": "1.5.0",
            "value": 239,
            "_view_count": null,
            "_view_module_version": "1.5.0",
            "orientation": "horizontal",
            "min": 0,
            "description_tooltip": null,
            "_model_module": "@jupyter-widgets/controls",
            "layout": "IPY_MODEL_e51af9072f11437b923aed9c79b47ec1"
          }
        },
        "e4e86c428d894089b881ca2e06c9e0f5": {
          "model_module": "@jupyter-widgets/controls",
          "model_name": "HTMLModel",
          "model_module_version": "1.5.0",
          "state": {
            "_view_name": "HTMLView",
            "style": "IPY_MODEL_5fba95066cd64a66a9ccb082039db0bf",
            "_dom_classes": [],
            "description": "",
            "_model_name": "HTMLModel",
            "placeholder": "​",
            "_view_module": "@jupyter-widgets/controls",
            "_model_module_version": "1.5.0",
            "value": " 239/239 [00:00&lt;00:00, 5.88kB/s]",
            "_view_count": null,
            "_view_module_version": "1.5.0",
            "description_tooltip": null,
            "_model_module": "@jupyter-widgets/controls",
            "layout": "IPY_MODEL_a6b994cb16484cfcbf9f10558f712868"
          }
        },
        "0f8c855cf06e41aab3f86d4261d57bdf": {
          "model_module": "@jupyter-widgets/controls",
          "model_name": "DescriptionStyleModel",
          "model_module_version": "1.5.0",
          "state": {
            "_view_name": "StyleView",
            "_model_name": "DescriptionStyleModel",
            "description_width": "",
            "_view_module": "@jupyter-widgets/base",
            "_model_module_version": "1.5.0",
            "_view_count": null,
            "_view_module_version": "1.2.0",
            "_model_module": "@jupyter-widgets/controls"
          }
        },
        "cfb9a7f98fce428b8dee3a173f37d598": {
          "model_module": "@jupyter-widgets/base",
          "model_name": "LayoutModel",
          "model_module_version": "1.2.0",
          "state": {
            "_view_name": "LayoutView",
            "grid_template_rows": null,
            "right": null,
            "justify_content": null,
            "_view_module": "@jupyter-widgets/base",
            "overflow": null,
            "_model_module_version": "1.2.0",
            "_view_count": null,
            "flex_flow": null,
            "width": null,
            "min_width": null,
            "border": null,
            "align_items": null,
            "bottom": null,
            "_model_module": "@jupyter-widgets/base",
            "top": null,
            "grid_column": null,
            "overflow_y": null,
            "overflow_x": null,
            "grid_auto_flow": null,
            "grid_area": null,
            "grid_template_columns": null,
            "flex": null,
            "_model_name": "LayoutModel",
            "justify_items": null,
            "grid_row": null,
            "max_height": null,
            "align_content": null,
            "visibility": null,
            "align_self": null,
            "height": null,
            "min_height": null,
            "padding": null,
            "grid_auto_rows": null,
            "grid_gap": null,
            "max_width": null,
            "order": null,
            "_view_module_version": "1.2.0",
            "grid_template_areas": null,
            "object_position": null,
            "object_fit": null,
            "grid_auto_columns": null,
            "margin": null,
            "display": null,
            "left": null
          }
        },
        "217224283bbf40dbb308e66cff5bb217": {
          "model_module": "@jupyter-widgets/controls",
          "model_name": "ProgressStyleModel",
          "model_module_version": "1.5.0",
          "state": {
            "_view_name": "StyleView",
            "_model_name": "ProgressStyleModel",
            "description_width": "",
            "_view_module": "@jupyter-widgets/base",
            "_model_module_version": "1.5.0",
            "_view_count": null,
            "_view_module_version": "1.2.0",
            "bar_color": null,
            "_model_module": "@jupyter-widgets/controls"
          }
        },
        "e51af9072f11437b923aed9c79b47ec1": {
          "model_module": "@jupyter-widgets/base",
          "model_name": "LayoutModel",
          "model_module_version": "1.2.0",
          "state": {
            "_view_name": "LayoutView",
            "grid_template_rows": null,
            "right": null,
            "justify_content": null,
            "_view_module": "@jupyter-widgets/base",
            "overflow": null,
            "_model_module_version": "1.2.0",
            "_view_count": null,
            "flex_flow": null,
            "width": null,
            "min_width": null,
            "border": null,
            "align_items": null,
            "bottom": null,
            "_model_module": "@jupyter-widgets/base",
            "top": null,
            "grid_column": null,
            "overflow_y": null,
            "overflow_x": null,
            "grid_auto_flow": null,
            "grid_area": null,
            "grid_template_columns": null,
            "flex": null,
            "_model_name": "LayoutModel",
            "justify_items": null,
            "grid_row": null,
            "max_height": null,
            "align_content": null,
            "visibility": null,
            "align_self": null,
            "height": null,
            "min_height": null,
            "padding": null,
            "grid_auto_rows": null,
            "grid_gap": null,
            "max_width": null,
            "order": null,
            "_view_module_version": "1.2.0",
            "grid_template_areas": null,
            "object_position": null,
            "object_fit": null,
            "grid_auto_columns": null,
            "margin": null,
            "display": null,
            "left": null
          }
        },
        "5fba95066cd64a66a9ccb082039db0bf": {
          "model_module": "@jupyter-widgets/controls",
          "model_name": "DescriptionStyleModel",
          "model_module_version": "1.5.0",
          "state": {
            "_view_name": "StyleView",
            "_model_name": "DescriptionStyleModel",
            "description_width": "",
            "_view_module": "@jupyter-widgets/base",
            "_model_module_version": "1.5.0",
            "_view_count": null,
            "_view_module_version": "1.2.0",
            "_model_module": "@jupyter-widgets/controls"
          }
        },
        "a6b994cb16484cfcbf9f10558f712868": {
          "model_module": "@jupyter-widgets/base",
          "model_name": "LayoutModel",
          "model_module_version": "1.2.0",
          "state": {
            "_view_name": "LayoutView",
            "grid_template_rows": null,
            "right": null,
            "justify_content": null,
            "_view_module": "@jupyter-widgets/base",
            "overflow": null,
            "_model_module_version": "1.2.0",
            "_view_count": null,
            "flex_flow": null,
            "width": null,
            "min_width": null,
            "border": null,
            "align_items": null,
            "bottom": null,
            "_model_module": "@jupyter-widgets/base",
            "top": null,
            "grid_column": null,
            "overflow_y": null,
            "overflow_x": null,
            "grid_auto_flow": null,
            "grid_area": null,
            "grid_template_columns": null,
            "flex": null,
            "_model_name": "LayoutModel",
            "justify_items": null,
            "grid_row": null,
            "max_height": null,
            "align_content": null,
            "visibility": null,
            "align_self": null,
            "height": null,
            "min_height": null,
            "padding": null,
            "grid_auto_rows": null,
            "grid_gap": null,
            "max_width": null,
            "order": null,
            "_view_module_version": "1.2.0",
            "grid_template_areas": null,
            "object_position": null,
            "object_fit": null,
            "grid_auto_columns": null,
            "margin": null,
            "display": null,
            "left": null
          }
        },
        "cca76769af784cd095f323e91c4a22ec": {
          "model_module": "@jupyter-widgets/controls",
          "model_name": "HBoxModel",
          "model_module_version": "1.5.0",
          "state": {
            "_view_name": "HBoxView",
            "_dom_classes": [],
            "_model_name": "HBoxModel",
            "_view_module": "@jupyter-widgets/controls",
            "_model_module_version": "1.5.0",
            "_view_count": null,
            "_view_module_version": "1.5.0",
            "box_style": "",
            "layout": "IPY_MODEL_6648e94cd2264de5aa1e662fc830142e",
            "_model_module": "@jupyter-widgets/controls",
            "children": [
              "IPY_MODEL_957b52d5a3c44f83b4217f49d0084e9c",
              "IPY_MODEL_18b4649637094185b9d53e314a2c43be",
              "IPY_MODEL_44df29d96cd142dbb55f2569d5432256"
            ]
          }
        },
        "6648e94cd2264de5aa1e662fc830142e": {
          "model_module": "@jupyter-widgets/base",
          "model_name": "LayoutModel",
          "model_module_version": "1.2.0",
          "state": {
            "_view_name": "LayoutView",
            "grid_template_rows": null,
            "right": null,
            "justify_content": null,
            "_view_module": "@jupyter-widgets/base",
            "overflow": null,
            "_model_module_version": "1.2.0",
            "_view_count": null,
            "flex_flow": null,
            "width": null,
            "min_width": null,
            "border": null,
            "align_items": null,
            "bottom": null,
            "_model_module": "@jupyter-widgets/base",
            "top": null,
            "grid_column": null,
            "overflow_y": null,
            "overflow_x": null,
            "grid_auto_flow": null,
            "grid_area": null,
            "grid_template_columns": null,
            "flex": null,
            "_model_name": "LayoutModel",
            "justify_items": null,
            "grid_row": null,
            "max_height": null,
            "align_content": null,
            "visibility": null,
            "align_self": null,
            "height": null,
            "min_height": null,
            "padding": null,
            "grid_auto_rows": null,
            "grid_gap": null,
            "max_width": null,
            "order": null,
            "_view_module_version": "1.2.0",
            "grid_template_areas": null,
            "object_position": null,
            "object_fit": null,
            "grid_auto_columns": null,
            "margin": null,
            "display": null,
            "left": null
          }
        },
        "957b52d5a3c44f83b4217f49d0084e9c": {
          "model_module": "@jupyter-widgets/controls",
          "model_name": "HTMLModel",
          "model_module_version": "1.5.0",
          "state": {
            "_view_name": "HTMLView",
            "style": "IPY_MODEL_5caf2905e48b4e26b7de0e2eb03d4b65",
            "_dom_classes": [],
            "description": "",
            "_model_name": "HTMLModel",
            "placeholder": "​",
            "_view_module": "@jupyter-widgets/controls",
            "_model_module_version": "1.5.0",
            "value": "Downloading: 100%",
            "_view_count": null,
            "_view_module_version": "1.5.0",
            "description_tooltip": null,
            "_model_module": "@jupyter-widgets/controls",
            "layout": "IPY_MODEL_fd2ef9c3d69f46a6b6bf08d6190400a2"
          }
        },
        "18b4649637094185b9d53e314a2c43be": {
          "model_module": "@jupyter-widgets/controls",
          "model_name": "FloatProgressModel",
          "model_module_version": "1.5.0",
          "state": {
            "_view_name": "ProgressView",
            "style": "IPY_MODEL_36d26ef7e16240e69875915b6d62ed9a",
            "_dom_classes": [],
            "description": "",
            "_model_name": "FloatProgressModel",
            "bar_style": "success",
            "max": 1355881,
            "_view_module": "@jupyter-widgets/controls",
            "_model_module_version": "1.5.0",
            "value": 1355881,
            "_view_count": null,
            "_view_module_version": "1.5.0",
            "orientation": "horizontal",
            "min": 0,
            "description_tooltip": null,
            "_model_module": "@jupyter-widgets/controls",
            "layout": "IPY_MODEL_ace08351dc73453a9ee5fe08d065dda4"
          }
        },
        "44df29d96cd142dbb55f2569d5432256": {
          "model_module": "@jupyter-widgets/controls",
          "model_name": "HTMLModel",
          "model_module_version": "1.5.0",
          "state": {
            "_view_name": "HTMLView",
            "style": "IPY_MODEL_af8aeb5e5de64dd896f8f27a661ae252",
            "_dom_classes": [],
            "description": "",
            "_model_name": "HTMLModel",
            "placeholder": "​",
            "_view_module": "@jupyter-widgets/controls",
            "_model_module_version": "1.5.0",
            "value": " 1.36M/1.36M [00:01&lt;00:00, 1.16MB/s]",
            "_view_count": null,
            "_view_module_version": "1.5.0",
            "description_tooltip": null,
            "_model_module": "@jupyter-widgets/controls",
            "layout": "IPY_MODEL_d267f39a564249cf9f2134e6e0bafe34"
          }
        },
        "5caf2905e48b4e26b7de0e2eb03d4b65": {
          "model_module": "@jupyter-widgets/controls",
          "model_name": "DescriptionStyleModel",
          "model_module_version": "1.5.0",
          "state": {
            "_view_name": "StyleView",
            "_model_name": "DescriptionStyleModel",
            "description_width": "",
            "_view_module": "@jupyter-widgets/base",
            "_model_module_version": "1.5.0",
            "_view_count": null,
            "_view_module_version": "1.2.0",
            "_model_module": "@jupyter-widgets/controls"
          }
        },
        "fd2ef9c3d69f46a6b6bf08d6190400a2": {
          "model_module": "@jupyter-widgets/base",
          "model_name": "LayoutModel",
          "model_module_version": "1.2.0",
          "state": {
            "_view_name": "LayoutView",
            "grid_template_rows": null,
            "right": null,
            "justify_content": null,
            "_view_module": "@jupyter-widgets/base",
            "overflow": null,
            "_model_module_version": "1.2.0",
            "_view_count": null,
            "flex_flow": null,
            "width": null,
            "min_width": null,
            "border": null,
            "align_items": null,
            "bottom": null,
            "_model_module": "@jupyter-widgets/base",
            "top": null,
            "grid_column": null,
            "overflow_y": null,
            "overflow_x": null,
            "grid_auto_flow": null,
            "grid_area": null,
            "grid_template_columns": null,
            "flex": null,
            "_model_name": "LayoutModel",
            "justify_items": null,
            "grid_row": null,
            "max_height": null,
            "align_content": null,
            "visibility": null,
            "align_self": null,
            "height": null,
            "min_height": null,
            "padding": null,
            "grid_auto_rows": null,
            "grid_gap": null,
            "max_width": null,
            "order": null,
            "_view_module_version": "1.2.0",
            "grid_template_areas": null,
            "object_position": null,
            "object_fit": null,
            "grid_auto_columns": null,
            "margin": null,
            "display": null,
            "left": null
          }
        },
        "36d26ef7e16240e69875915b6d62ed9a": {
          "model_module": "@jupyter-widgets/controls",
          "model_name": "ProgressStyleModel",
          "model_module_version": "1.5.0",
          "state": {
            "_view_name": "StyleView",
            "_model_name": "ProgressStyleModel",
            "description_width": "",
            "_view_module": "@jupyter-widgets/base",
            "_model_module_version": "1.5.0",
            "_view_count": null,
            "_view_module_version": "1.2.0",
            "bar_color": null,
            "_model_module": "@jupyter-widgets/controls"
          }
        },
        "ace08351dc73453a9ee5fe08d065dda4": {
          "model_module": "@jupyter-widgets/base",
          "model_name": "LayoutModel",
          "model_module_version": "1.2.0",
          "state": {
            "_view_name": "LayoutView",
            "grid_template_rows": null,
            "right": null,
            "justify_content": null,
            "_view_module": "@jupyter-widgets/base",
            "overflow": null,
            "_model_module_version": "1.2.0",
            "_view_count": null,
            "flex_flow": null,
            "width": null,
            "min_width": null,
            "border": null,
            "align_items": null,
            "bottom": null,
            "_model_module": "@jupyter-widgets/base",
            "top": null,
            "grid_column": null,
            "overflow_y": null,
            "overflow_x": null,
            "grid_auto_flow": null,
            "grid_area": null,
            "grid_template_columns": null,
            "flex": null,
            "_model_name": "LayoutModel",
            "justify_items": null,
            "grid_row": null,
            "max_height": null,
            "align_content": null,
            "visibility": null,
            "align_self": null,
            "height": null,
            "min_height": null,
            "padding": null,
            "grid_auto_rows": null,
            "grid_gap": null,
            "max_width": null,
            "order": null,
            "_view_module_version": "1.2.0",
            "grid_template_areas": null,
            "object_position": null,
            "object_fit": null,
            "grid_auto_columns": null,
            "margin": null,
            "display": null,
            "left": null
          }
        },
        "af8aeb5e5de64dd896f8f27a661ae252": {
          "model_module": "@jupyter-widgets/controls",
          "model_name": "DescriptionStyleModel",
          "model_module_version": "1.5.0",
          "state": {
            "_view_name": "StyleView",
            "_model_name": "DescriptionStyleModel",
            "description_width": "",
            "_view_module": "@jupyter-widgets/base",
            "_model_module_version": "1.5.0",
            "_view_count": null,
            "_view_module_version": "1.2.0",
            "_model_module": "@jupyter-widgets/controls"
          }
        },
        "d267f39a564249cf9f2134e6e0bafe34": {
          "model_module": "@jupyter-widgets/base",
          "model_name": "LayoutModel",
          "model_module_version": "1.2.0",
          "state": {
            "_view_name": "LayoutView",
            "grid_template_rows": null,
            "right": null,
            "justify_content": null,
            "_view_module": "@jupyter-widgets/base",
            "overflow": null,
            "_model_module_version": "1.2.0",
            "_view_count": null,
            "flex_flow": null,
            "width": null,
            "min_width": null,
            "border": null,
            "align_items": null,
            "bottom": null,
            "_model_module": "@jupyter-widgets/base",
            "top": null,
            "grid_column": null,
            "overflow_y": null,
            "overflow_x": null,
            "grid_auto_flow": null,
            "grid_area": null,
            "grid_template_columns": null,
            "flex": null,
            "_model_name": "LayoutModel",
            "justify_items": null,
            "grid_row": null,
            "max_height": null,
            "align_content": null,
            "visibility": null,
            "align_self": null,
            "height": null,
            "min_height": null,
            "padding": null,
            "grid_auto_rows": null,
            "grid_gap": null,
            "max_width": null,
            "order": null,
            "_view_module_version": "1.2.0",
            "grid_template_areas": null,
            "object_position": null,
            "object_fit": null,
            "grid_auto_columns": null,
            "margin": null,
            "display": null,
            "left": null
          }
        },
        "53a54ea7add54f039d29b26a70817f96": {
          "model_module": "@jupyter-widgets/controls",
          "model_name": "HBoxModel",
          "model_module_version": "1.5.0",
          "state": {
            "_view_name": "HBoxView",
            "_dom_classes": [],
            "_model_name": "HBoxModel",
            "_view_module": "@jupyter-widgets/controls",
            "_model_module_version": "1.5.0",
            "_view_count": null,
            "_view_module_version": "1.5.0",
            "box_style": "",
            "layout": "IPY_MODEL_476450d2d17744ff89e3efaaba85f06b",
            "_model_module": "@jupyter-widgets/controls",
            "children": [
              "IPY_MODEL_165bea83068a4363894686fb7de3441d",
              "IPY_MODEL_5f921c81400d4d88a2e9d8bdbcb889af",
              "IPY_MODEL_2ce0e5b6adfa49ca86d911851c24141a"
            ]
          }
        },
        "476450d2d17744ff89e3efaaba85f06b": {
          "model_module": "@jupyter-widgets/base",
          "model_name": "LayoutModel",
          "model_module_version": "1.2.0",
          "state": {
            "_view_name": "LayoutView",
            "grid_template_rows": null,
            "right": null,
            "justify_content": null,
            "_view_module": "@jupyter-widgets/base",
            "overflow": null,
            "_model_module_version": "1.2.0",
            "_view_count": null,
            "flex_flow": null,
            "width": null,
            "min_width": null,
            "border": null,
            "align_items": null,
            "bottom": null,
            "_model_module": "@jupyter-widgets/base",
            "top": null,
            "grid_column": null,
            "overflow_y": null,
            "overflow_x": null,
            "grid_auto_flow": null,
            "grid_area": null,
            "grid_template_columns": null,
            "flex": null,
            "_model_name": "LayoutModel",
            "justify_items": null,
            "grid_row": null,
            "max_height": null,
            "align_content": null,
            "visibility": null,
            "align_self": null,
            "height": null,
            "min_height": null,
            "padding": null,
            "grid_auto_rows": null,
            "grid_gap": null,
            "max_width": null,
            "order": null,
            "_view_module_version": "1.2.0",
            "grid_template_areas": null,
            "object_position": null,
            "object_fit": null,
            "grid_auto_columns": null,
            "margin": null,
            "display": null,
            "left": null
          }
        },
        "165bea83068a4363894686fb7de3441d": {
          "model_module": "@jupyter-widgets/controls",
          "model_name": "HTMLModel",
          "model_module_version": "1.5.0",
          "state": {
            "_view_name": "HTMLView",
            "style": "IPY_MODEL_2a0b0c6436b04cf1a58d3eec733ea941",
            "_dom_classes": [],
            "description": "",
            "_model_name": "HTMLModel",
            "placeholder": "​",
            "_view_module": "@jupyter-widgets/controls",
            "_model_module_version": "1.5.0",
            "value": "Downloading: 100%",
            "_view_count": null,
            "_view_module_version": "1.5.0",
            "description_tooltip": null,
            "_model_module": "@jupyter-widgets/controls",
            "layout": "IPY_MODEL_2a09168ff71c41d4866e6057ffbb317b"
          }
        },
        "5f921c81400d4d88a2e9d8bdbcb889af": {
          "model_module": "@jupyter-widgets/controls",
          "model_name": "FloatProgressModel",
          "model_module_version": "1.5.0",
          "state": {
            "_view_name": "ProgressView",
            "style": "IPY_MODEL_ac9c3c4233004a7a8a215220bc128d76",
            "_dom_classes": [],
            "description": "",
            "_model_name": "FloatProgressModel",
            "bar_style": "success",
            "max": 1111,
            "_view_module": "@jupyter-widgets/controls",
            "_model_module_version": "1.5.0",
            "value": 1111,
            "_view_count": null,
            "_view_module_version": "1.5.0",
            "orientation": "horizontal",
            "min": 0,
            "description_tooltip": null,
            "_model_module": "@jupyter-widgets/controls",
            "layout": "IPY_MODEL_41455e0865ea4913abc7ccaac9b4989c"
          }
        },
        "2ce0e5b6adfa49ca86d911851c24141a": {
          "model_module": "@jupyter-widgets/controls",
          "model_name": "HTMLModel",
          "model_module_version": "1.5.0",
          "state": {
            "_view_name": "HTMLView",
            "style": "IPY_MODEL_b45a68c03eda412baf33decf863b9466",
            "_dom_classes": [],
            "description": "",
            "_model_name": "HTMLModel",
            "placeholder": "​",
            "_view_module": "@jupyter-widgets/controls",
            "_model_module_version": "1.5.0",
            "value": " 1.11k/1.11k [00:00&lt;00:00, 30.4kB/s]",
            "_view_count": null,
            "_view_module_version": "1.5.0",
            "description_tooltip": null,
            "_model_module": "@jupyter-widgets/controls",
            "layout": "IPY_MODEL_8163b1b7649e442fb8d96ba1fd6d7c19"
          }
        },
        "2a0b0c6436b04cf1a58d3eec733ea941": {
          "model_module": "@jupyter-widgets/controls",
          "model_name": "DescriptionStyleModel",
          "model_module_version": "1.5.0",
          "state": {
            "_view_name": "StyleView",
            "_model_name": "DescriptionStyleModel",
            "description_width": "",
            "_view_module": "@jupyter-widgets/base",
            "_model_module_version": "1.5.0",
            "_view_count": null,
            "_view_module_version": "1.2.0",
            "_model_module": "@jupyter-widgets/controls"
          }
        },
        "2a09168ff71c41d4866e6057ffbb317b": {
          "model_module": "@jupyter-widgets/base",
          "model_name": "LayoutModel",
          "model_module_version": "1.2.0",
          "state": {
            "_view_name": "LayoutView",
            "grid_template_rows": null,
            "right": null,
            "justify_content": null,
            "_view_module": "@jupyter-widgets/base",
            "overflow": null,
            "_model_module_version": "1.2.0",
            "_view_count": null,
            "flex_flow": null,
            "width": null,
            "min_width": null,
            "border": null,
            "align_items": null,
            "bottom": null,
            "_model_module": "@jupyter-widgets/base",
            "top": null,
            "grid_column": null,
            "overflow_y": null,
            "overflow_x": null,
            "grid_auto_flow": null,
            "grid_area": null,
            "grid_template_columns": null,
            "flex": null,
            "_model_name": "LayoutModel",
            "justify_items": null,
            "grid_row": null,
            "max_height": null,
            "align_content": null,
            "visibility": null,
            "align_self": null,
            "height": null,
            "min_height": null,
            "padding": null,
            "grid_auto_rows": null,
            "grid_gap": null,
            "max_width": null,
            "order": null,
            "_view_module_version": "1.2.0",
            "grid_template_areas": null,
            "object_position": null,
            "object_fit": null,
            "grid_auto_columns": null,
            "margin": null,
            "display": null,
            "left": null
          }
        },
        "ac9c3c4233004a7a8a215220bc128d76": {
          "model_module": "@jupyter-widgets/controls",
          "model_name": "ProgressStyleModel",
          "model_module_version": "1.5.0",
          "state": {
            "_view_name": "StyleView",
            "_model_name": "ProgressStyleModel",
            "description_width": "",
            "_view_module": "@jupyter-widgets/base",
            "_model_module_version": "1.5.0",
            "_view_count": null,
            "_view_module_version": "1.2.0",
            "bar_color": null,
            "_model_module": "@jupyter-widgets/controls"
          }
        },
        "41455e0865ea4913abc7ccaac9b4989c": {
          "model_module": "@jupyter-widgets/base",
          "model_name": "LayoutModel",
          "model_module_version": "1.2.0",
          "state": {
            "_view_name": "LayoutView",
            "grid_template_rows": null,
            "right": null,
            "justify_content": null,
            "_view_module": "@jupyter-widgets/base",
            "overflow": null,
            "_model_module_version": "1.2.0",
            "_view_count": null,
            "flex_flow": null,
            "width": null,
            "min_width": null,
            "border": null,
            "align_items": null,
            "bottom": null,
            "_model_module": "@jupyter-widgets/base",
            "top": null,
            "grid_column": null,
            "overflow_y": null,
            "overflow_x": null,
            "grid_auto_flow": null,
            "grid_area": null,
            "grid_template_columns": null,
            "flex": null,
            "_model_name": "LayoutModel",
            "justify_items": null,
            "grid_row": null,
            "max_height": null,
            "align_content": null,
            "visibility": null,
            "align_self": null,
            "height": null,
            "min_height": null,
            "padding": null,
            "grid_auto_rows": null,
            "grid_gap": null,
            "max_width": null,
            "order": null,
            "_view_module_version": "1.2.0",
            "grid_template_areas": null,
            "object_position": null,
            "object_fit": null,
            "grid_auto_columns": null,
            "margin": null,
            "display": null,
            "left": null
          }
        },
        "b45a68c03eda412baf33decf863b9466": {
          "model_module": "@jupyter-widgets/controls",
          "model_name": "DescriptionStyleModel",
          "model_module_version": "1.5.0",
          "state": {
            "_view_name": "StyleView",
            "_model_name": "DescriptionStyleModel",
            "description_width": "",
            "_view_module": "@jupyter-widgets/base",
            "_model_module_version": "1.5.0",
            "_view_count": null,
            "_view_module_version": "1.2.0",
            "_model_module": "@jupyter-widgets/controls"
          }
        },
        "8163b1b7649e442fb8d96ba1fd6d7c19": {
          "model_module": "@jupyter-widgets/base",
          "model_name": "LayoutModel",
          "model_module_version": "1.2.0",
          "state": {
            "_view_name": "LayoutView",
            "grid_template_rows": null,
            "right": null,
            "justify_content": null,
            "_view_module": "@jupyter-widgets/base",
            "overflow": null,
            "_model_module_version": "1.2.0",
            "_view_count": null,
            "flex_flow": null,
            "width": null,
            "min_width": null,
            "border": null,
            "align_items": null,
            "bottom": null,
            "_model_module": "@jupyter-widgets/base",
            "top": null,
            "grid_column": null,
            "overflow_y": null,
            "overflow_x": null,
            "grid_auto_flow": null,
            "grid_area": null,
            "grid_template_columns": null,
            "flex": null,
            "_model_name": "LayoutModel",
            "justify_items": null,
            "grid_row": null,
            "max_height": null,
            "align_content": null,
            "visibility": null,
            "align_self": null,
            "height": null,
            "min_height": null,
            "padding": null,
            "grid_auto_rows": null,
            "grid_gap": null,
            "max_width": null,
            "order": null,
            "_view_module_version": "1.2.0",
            "grid_template_areas": null,
            "object_position": null,
            "object_fit": null,
            "grid_auto_columns": null,
            "margin": null,
            "display": null,
            "left": null
          }
        },
        "552c648a157642b1bcbce84258f8711a": {
          "model_module": "@jupyter-widgets/controls",
          "model_name": "HBoxModel",
          "model_module_version": "1.5.0",
          "state": {
            "_view_name": "HBoxView",
            "_dom_classes": [],
            "_model_name": "HBoxModel",
            "_view_module": "@jupyter-widgets/controls",
            "_model_module_version": "1.5.0",
            "_view_count": null,
            "_view_module_version": "1.5.0",
            "box_style": "",
            "layout": "IPY_MODEL_ff17a9cd16a34e718d6b16bf2bb8ea07",
            "_model_module": "@jupyter-widgets/controls",
            "children": [
              "IPY_MODEL_738c984108d346cd82659e328015996b",
              "IPY_MODEL_70d06937cc7343bb9435b48fe6d63639",
              "IPY_MODEL_de6b11926fe743c2b181fc20b3850286"
            ]
          }
        },
        "ff17a9cd16a34e718d6b16bf2bb8ea07": {
          "model_module": "@jupyter-widgets/base",
          "model_name": "LayoutModel",
          "model_module_version": "1.2.0",
          "state": {
            "_view_name": "LayoutView",
            "grid_template_rows": null,
            "right": null,
            "justify_content": null,
            "_view_module": "@jupyter-widgets/base",
            "overflow": null,
            "_model_module_version": "1.2.0",
            "_view_count": null,
            "flex_flow": null,
            "width": null,
            "min_width": null,
            "border": null,
            "align_items": null,
            "bottom": null,
            "_model_module": "@jupyter-widgets/base",
            "top": null,
            "grid_column": null,
            "overflow_y": null,
            "overflow_x": null,
            "grid_auto_flow": null,
            "grid_area": null,
            "grid_template_columns": null,
            "flex": null,
            "_model_name": "LayoutModel",
            "justify_items": null,
            "grid_row": null,
            "max_height": null,
            "align_content": null,
            "visibility": null,
            "align_self": null,
            "height": null,
            "min_height": null,
            "padding": null,
            "grid_auto_rows": null,
            "grid_gap": null,
            "max_width": null,
            "order": null,
            "_view_module_version": "1.2.0",
            "grid_template_areas": null,
            "object_position": null,
            "object_fit": null,
            "grid_auto_columns": null,
            "margin": null,
            "display": null,
            "left": null
          }
        },
        "738c984108d346cd82659e328015996b": {
          "model_module": "@jupyter-widgets/controls",
          "model_name": "HTMLModel",
          "model_module_version": "1.5.0",
          "state": {
            "_view_name": "HTMLView",
            "style": "IPY_MODEL_fe4f57b7d5d141c7a8800682f7f05517",
            "_dom_classes": [],
            "description": "",
            "_model_name": "HTMLModel",
            "placeholder": "​",
            "_view_module": "@jupyter-widgets/controls",
            "_model_module_version": "1.5.0",
            "value": "Downloading: 100%",
            "_view_count": null,
            "_view_module_version": "1.5.0",
            "description_tooltip": null,
            "_model_module": "@jupyter-widgets/controls",
            "layout": "IPY_MODEL_7003c49e21304329ba956b215852adf2"
          }
        },
        "70d06937cc7343bb9435b48fe6d63639": {
          "model_module": "@jupyter-widgets/controls",
          "model_name": "FloatProgressModel",
          "model_module_version": "1.5.0",
          "state": {
            "_view_name": "ProgressView",
            "style": "IPY_MODEL_39965d737b1445b9ba9884abad8d30b5",
            "_dom_classes": [],
            "description": "",
            "_model_name": "FloatProgressModel",
            "bar_style": "success",
            "max": 798293,
            "_view_module": "@jupyter-widgets/controls",
            "_model_module_version": "1.5.0",
            "value": 798293,
            "_view_count": null,
            "_view_module_version": "1.5.0",
            "orientation": "horizontal",
            "min": 0,
            "description_tooltip": null,
            "_model_module": "@jupyter-widgets/controls",
            "layout": "IPY_MODEL_b511ea9d55b64ad4b57f87e140ec0456"
          }
        },
        "de6b11926fe743c2b181fc20b3850286": {
          "model_module": "@jupyter-widgets/controls",
          "model_name": "HTMLModel",
          "model_module_version": "1.5.0",
          "state": {
            "_view_name": "HTMLView",
            "style": "IPY_MODEL_484ed0e81a1d438f9091ab3eaa347897",
            "_dom_classes": [],
            "description": "",
            "_model_name": "HTMLModel",
            "placeholder": "​",
            "_view_module": "@jupyter-widgets/controls",
            "_model_module_version": "1.5.0",
            "value": " 798k/798k [00:01&lt;00:00, 1.09MB/s]",
            "_view_count": null,
            "_view_module_version": "1.5.0",
            "description_tooltip": null,
            "_model_module": "@jupyter-widgets/controls",
            "layout": "IPY_MODEL_1df7ee8b9d724740ba290a40d7b67dea"
          }
        },
        "fe4f57b7d5d141c7a8800682f7f05517": {
          "model_module": "@jupyter-widgets/controls",
          "model_name": "DescriptionStyleModel",
          "model_module_version": "1.5.0",
          "state": {
            "_view_name": "StyleView",
            "_model_name": "DescriptionStyleModel",
            "description_width": "",
            "_view_module": "@jupyter-widgets/base",
            "_model_module_version": "1.5.0",
            "_view_count": null,
            "_view_module_version": "1.2.0",
            "_model_module": "@jupyter-widgets/controls"
          }
        },
        "7003c49e21304329ba956b215852adf2": {
          "model_module": "@jupyter-widgets/base",
          "model_name": "LayoutModel",
          "model_module_version": "1.2.0",
          "state": {
            "_view_name": "LayoutView",
            "grid_template_rows": null,
            "right": null,
            "justify_content": null,
            "_view_module": "@jupyter-widgets/base",
            "overflow": null,
            "_model_module_version": "1.2.0",
            "_view_count": null,
            "flex_flow": null,
            "width": null,
            "min_width": null,
            "border": null,
            "align_items": null,
            "bottom": null,
            "_model_module": "@jupyter-widgets/base",
            "top": null,
            "grid_column": null,
            "overflow_y": null,
            "overflow_x": null,
            "grid_auto_flow": null,
            "grid_area": null,
            "grid_template_columns": null,
            "flex": null,
            "_model_name": "LayoutModel",
            "justify_items": null,
            "grid_row": null,
            "max_height": null,
            "align_content": null,
            "visibility": null,
            "align_self": null,
            "height": null,
            "min_height": null,
            "padding": null,
            "grid_auto_rows": null,
            "grid_gap": null,
            "max_width": null,
            "order": null,
            "_view_module_version": "1.2.0",
            "grid_template_areas": null,
            "object_position": null,
            "object_fit": null,
            "grid_auto_columns": null,
            "margin": null,
            "display": null,
            "left": null
          }
        },
        "39965d737b1445b9ba9884abad8d30b5": {
          "model_module": "@jupyter-widgets/controls",
          "model_name": "ProgressStyleModel",
          "model_module_version": "1.5.0",
          "state": {
            "_view_name": "StyleView",
            "_model_name": "ProgressStyleModel",
            "description_width": "",
            "_view_module": "@jupyter-widgets/base",
            "_model_module_version": "1.5.0",
            "_view_count": null,
            "_view_module_version": "1.2.0",
            "bar_color": null,
            "_model_module": "@jupyter-widgets/controls"
          }
        },
        "b511ea9d55b64ad4b57f87e140ec0456": {
          "model_module": "@jupyter-widgets/base",
          "model_name": "LayoutModel",
          "model_module_version": "1.2.0",
          "state": {
            "_view_name": "LayoutView",
            "grid_template_rows": null,
            "right": null,
            "justify_content": null,
            "_view_module": "@jupyter-widgets/base",
            "overflow": null,
            "_model_module_version": "1.2.0",
            "_view_count": null,
            "flex_flow": null,
            "width": null,
            "min_width": null,
            "border": null,
            "align_items": null,
            "bottom": null,
            "_model_module": "@jupyter-widgets/base",
            "top": null,
            "grid_column": null,
            "overflow_y": null,
            "overflow_x": null,
            "grid_auto_flow": null,
            "grid_area": null,
            "grid_template_columns": null,
            "flex": null,
            "_model_name": "LayoutModel",
            "justify_items": null,
            "grid_row": null,
            "max_height": null,
            "align_content": null,
            "visibility": null,
            "align_self": null,
            "height": null,
            "min_height": null,
            "padding": null,
            "grid_auto_rows": null,
            "grid_gap": null,
            "max_width": null,
            "order": null,
            "_view_module_version": "1.2.0",
            "grid_template_areas": null,
            "object_position": null,
            "object_fit": null,
            "grid_auto_columns": null,
            "margin": null,
            "display": null,
            "left": null
          }
        },
        "484ed0e81a1d438f9091ab3eaa347897": {
          "model_module": "@jupyter-widgets/controls",
          "model_name": "DescriptionStyleModel",
          "model_module_version": "1.5.0",
          "state": {
            "_view_name": "StyleView",
            "_model_name": "DescriptionStyleModel",
            "description_width": "",
            "_view_module": "@jupyter-widgets/base",
            "_model_module_version": "1.5.0",
            "_view_count": null,
            "_view_module_version": "1.2.0",
            "_model_module": "@jupyter-widgets/controls"
          }
        },
        "1df7ee8b9d724740ba290a40d7b67dea": {
          "model_module": "@jupyter-widgets/base",
          "model_name": "LayoutModel",
          "model_module_version": "1.2.0",
          "state": {
            "_view_name": "LayoutView",
            "grid_template_rows": null,
            "right": null,
            "justify_content": null,
            "_view_module": "@jupyter-widgets/base",
            "overflow": null,
            "_model_module_version": "1.2.0",
            "_view_count": null,
            "flex_flow": null,
            "width": null,
            "min_width": null,
            "border": null,
            "align_items": null,
            "bottom": null,
            "_model_module": "@jupyter-widgets/base",
            "top": null,
            "grid_column": null,
            "overflow_y": null,
            "overflow_x": null,
            "grid_auto_flow": null,
            "grid_area": null,
            "grid_template_columns": null,
            "flex": null,
            "_model_name": "LayoutModel",
            "justify_items": null,
            "grid_row": null,
            "max_height": null,
            "align_content": null,
            "visibility": null,
            "align_self": null,
            "height": null,
            "min_height": null,
            "padding": null,
            "grid_auto_rows": null,
            "grid_gap": null,
            "max_width": null,
            "order": null,
            "_view_module_version": "1.2.0",
            "grid_template_areas": null,
            "object_position": null,
            "object_fit": null,
            "grid_auto_columns": null,
            "margin": null,
            "display": null,
            "left": null
          }
        },
        "357595355a2244cb999812f5dae641b7": {
          "model_module": "@jupyter-widgets/controls",
          "model_name": "HBoxModel",
          "model_module_version": "1.5.0",
          "state": {
            "_view_name": "HBoxView",
            "_dom_classes": [],
            "_model_name": "HBoxModel",
            "_view_module": "@jupyter-widgets/controls",
            "_model_module_version": "1.5.0",
            "_view_count": null,
            "_view_module_version": "1.5.0",
            "box_style": "",
            "layout": "IPY_MODEL_ea5294f7facb4a4b85b0865771c34f29",
            "_model_module": "@jupyter-widgets/controls",
            "children": [
              "IPY_MODEL_a52e21b2014148948023a2b0b9581f89",
              "IPY_MODEL_343ed381d4e94c268023f2a8fb5aa3a9",
              "IPY_MODEL_76fefb91feda4ed7a8e02f16e85455cc"
            ]
          }
        },
        "ea5294f7facb4a4b85b0865771c34f29": {
          "model_module": "@jupyter-widgets/base",
          "model_name": "LayoutModel",
          "model_module_version": "1.2.0",
          "state": {
            "_view_name": "LayoutView",
            "grid_template_rows": null,
            "right": null,
            "justify_content": null,
            "_view_module": "@jupyter-widgets/base",
            "overflow": null,
            "_model_module_version": "1.2.0",
            "_view_count": null,
            "flex_flow": null,
            "width": null,
            "min_width": null,
            "border": null,
            "align_items": null,
            "bottom": null,
            "_model_module": "@jupyter-widgets/base",
            "top": null,
            "grid_column": null,
            "overflow_y": null,
            "overflow_x": null,
            "grid_auto_flow": null,
            "grid_area": null,
            "grid_template_columns": null,
            "flex": null,
            "_model_name": "LayoutModel",
            "justify_items": null,
            "grid_row": null,
            "max_height": null,
            "align_content": null,
            "visibility": null,
            "align_self": null,
            "height": null,
            "min_height": null,
            "padding": null,
            "grid_auto_rows": null,
            "grid_gap": null,
            "max_width": null,
            "order": null,
            "_view_module_version": "1.2.0",
            "grid_template_areas": null,
            "object_position": null,
            "object_fit": null,
            "grid_auto_columns": null,
            "margin": null,
            "display": null,
            "left": null
          }
        },
        "a52e21b2014148948023a2b0b9581f89": {
          "model_module": "@jupyter-widgets/controls",
          "model_name": "HTMLModel",
          "model_module_version": "1.5.0",
          "state": {
            "_view_name": "HTMLView",
            "style": "IPY_MODEL_1f676f94b66e468d85be6fd5603bc842",
            "_dom_classes": [],
            "description": "",
            "_model_name": "HTMLModel",
            "placeholder": "​",
            "_view_module": "@jupyter-widgets/controls",
            "_model_module_version": "1.5.0",
            "value": "Downloading: 100%",
            "_view_count": null,
            "_view_module_version": "1.5.0",
            "description_tooltip": null,
            "_model_module": "@jupyter-widgets/controls",
            "layout": "IPY_MODEL_11b2ec15ccee473ea4ef3e7d04997480"
          }
        },
        "343ed381d4e94c268023f2a8fb5aa3a9": {
          "model_module": "@jupyter-widgets/controls",
          "model_name": "FloatProgressModel",
          "model_module_version": "1.5.0",
          "state": {
            "_view_name": "ProgressView",
            "style": "IPY_MODEL_568ffde0e63341c1a96aeb42700a7769",
            "_dom_classes": [],
            "description": "",
            "_model_name": "FloatProgressModel",
            "bar_style": "success",
            "max": 190,
            "_view_module": "@jupyter-widgets/controls",
            "_model_module_version": "1.5.0",
            "value": 190,
            "_view_count": null,
            "_view_module_version": "1.5.0",
            "orientation": "horizontal",
            "min": 0,
            "description_tooltip": null,
            "_model_module": "@jupyter-widgets/controls",
            "layout": "IPY_MODEL_7e44baccbf8e46a687e753e728d98bf3"
          }
        },
        "76fefb91feda4ed7a8e02f16e85455cc": {
          "model_module": "@jupyter-widgets/controls",
          "model_name": "HTMLModel",
          "model_module_version": "1.5.0",
          "state": {
            "_view_name": "HTMLView",
            "style": "IPY_MODEL_201f6bd6befc4f909f72e0cb7fd148a4",
            "_dom_classes": [],
            "description": "",
            "_model_name": "HTMLModel",
            "placeholder": "​",
            "_view_module": "@jupyter-widgets/controls",
            "_model_module_version": "1.5.0",
            "value": " 190/190 [00:00&lt;00:00, 3.84kB/s]",
            "_view_count": null,
            "_view_module_version": "1.5.0",
            "description_tooltip": null,
            "_model_module": "@jupyter-widgets/controls",
            "layout": "IPY_MODEL_bbe5b8f2033249d9b3245cf73e355ad7"
          }
        },
        "1f676f94b66e468d85be6fd5603bc842": {
          "model_module": "@jupyter-widgets/controls",
          "model_name": "DescriptionStyleModel",
          "model_module_version": "1.5.0",
          "state": {
            "_view_name": "StyleView",
            "_model_name": "DescriptionStyleModel",
            "description_width": "",
            "_view_module": "@jupyter-widgets/base",
            "_model_module_version": "1.5.0",
            "_view_count": null,
            "_view_module_version": "1.2.0",
            "_model_module": "@jupyter-widgets/controls"
          }
        },
        "11b2ec15ccee473ea4ef3e7d04997480": {
          "model_module": "@jupyter-widgets/base",
          "model_name": "LayoutModel",
          "model_module_version": "1.2.0",
          "state": {
            "_view_name": "LayoutView",
            "grid_template_rows": null,
            "right": null,
            "justify_content": null,
            "_view_module": "@jupyter-widgets/base",
            "overflow": null,
            "_model_module_version": "1.2.0",
            "_view_count": null,
            "flex_flow": null,
            "width": null,
            "min_width": null,
            "border": null,
            "align_items": null,
            "bottom": null,
            "_model_module": "@jupyter-widgets/base",
            "top": null,
            "grid_column": null,
            "overflow_y": null,
            "overflow_x": null,
            "grid_auto_flow": null,
            "grid_area": null,
            "grid_template_columns": null,
            "flex": null,
            "_model_name": "LayoutModel",
            "justify_items": null,
            "grid_row": null,
            "max_height": null,
            "align_content": null,
            "visibility": null,
            "align_self": null,
            "height": null,
            "min_height": null,
            "padding": null,
            "grid_auto_rows": null,
            "grid_gap": null,
            "max_width": null,
            "order": null,
            "_view_module_version": "1.2.0",
            "grid_template_areas": null,
            "object_position": null,
            "object_fit": null,
            "grid_auto_columns": null,
            "margin": null,
            "display": null,
            "left": null
          }
        },
        "568ffde0e63341c1a96aeb42700a7769": {
          "model_module": "@jupyter-widgets/controls",
          "model_name": "ProgressStyleModel",
          "model_module_version": "1.5.0",
          "state": {
            "_view_name": "StyleView",
            "_model_name": "ProgressStyleModel",
            "description_width": "",
            "_view_module": "@jupyter-widgets/base",
            "_model_module_version": "1.5.0",
            "_view_count": null,
            "_view_module_version": "1.2.0",
            "bar_color": null,
            "_model_module": "@jupyter-widgets/controls"
          }
        },
        "7e44baccbf8e46a687e753e728d98bf3": {
          "model_module": "@jupyter-widgets/base",
          "model_name": "LayoutModel",
          "model_module_version": "1.2.0",
          "state": {
            "_view_name": "LayoutView",
            "grid_template_rows": null,
            "right": null,
            "justify_content": null,
            "_view_module": "@jupyter-widgets/base",
            "overflow": null,
            "_model_module_version": "1.2.0",
            "_view_count": null,
            "flex_flow": null,
            "width": null,
            "min_width": null,
            "border": null,
            "align_items": null,
            "bottom": null,
            "_model_module": "@jupyter-widgets/base",
            "top": null,
            "grid_column": null,
            "overflow_y": null,
            "overflow_x": null,
            "grid_auto_flow": null,
            "grid_area": null,
            "grid_template_columns": null,
            "flex": null,
            "_model_name": "LayoutModel",
            "justify_items": null,
            "grid_row": null,
            "max_height": null,
            "align_content": null,
            "visibility": null,
            "align_self": null,
            "height": null,
            "min_height": null,
            "padding": null,
            "grid_auto_rows": null,
            "grid_gap": null,
            "max_width": null,
            "order": null,
            "_view_module_version": "1.2.0",
            "grid_template_areas": null,
            "object_position": null,
            "object_fit": null,
            "grid_auto_columns": null,
            "margin": null,
            "display": null,
            "left": null
          }
        },
        "201f6bd6befc4f909f72e0cb7fd148a4": {
          "model_module": "@jupyter-widgets/controls",
          "model_name": "DescriptionStyleModel",
          "model_module_version": "1.5.0",
          "state": {
            "_view_name": "StyleView",
            "_model_name": "DescriptionStyleModel",
            "description_width": "",
            "_view_module": "@jupyter-widgets/base",
            "_model_module_version": "1.5.0",
            "_view_count": null,
            "_view_module_version": "1.2.0",
            "_model_module": "@jupyter-widgets/controls"
          }
        },
        "bbe5b8f2033249d9b3245cf73e355ad7": {
          "model_module": "@jupyter-widgets/base",
          "model_name": "LayoutModel",
          "model_module_version": "1.2.0",
          "state": {
            "_view_name": "LayoutView",
            "grid_template_rows": null,
            "right": null,
            "justify_content": null,
            "_view_module": "@jupyter-widgets/base",
            "overflow": null,
            "_model_module_version": "1.2.0",
            "_view_count": null,
            "flex_flow": null,
            "width": null,
            "min_width": null,
            "border": null,
            "align_items": null,
            "bottom": null,
            "_model_module": "@jupyter-widgets/base",
            "top": null,
            "grid_column": null,
            "overflow_y": null,
            "overflow_x": null,
            "grid_auto_flow": null,
            "grid_area": null,
            "grid_template_columns": null,
            "flex": null,
            "_model_name": "LayoutModel",
            "justify_items": null,
            "grid_row": null,
            "max_height": null,
            "align_content": null,
            "visibility": null,
            "align_self": null,
            "height": null,
            "min_height": null,
            "padding": null,
            "grid_auto_rows": null,
            "grid_gap": null,
            "max_width": null,
            "order": null,
            "_view_module_version": "1.2.0",
            "grid_template_areas": null,
            "object_position": null,
            "object_fit": null,
            "grid_auto_columns": null,
            "margin": null,
            "display": null,
            "left": null
          }
        }
      }
    }
  },
  "cells": [
    {
      "cell_type": "markdown",
      "metadata": {
        "id": "NbdP336EQNpY"
      },
      "source": [
        "# Dependancy Installations"
      ]
    },
    {
      "cell_type": "code",
      "metadata": {
        "colab": {
          "base_uri": "https://localhost:8080/"
        },
        "id": "Lnjnzr9V6aNm",
        "outputId": "5b22a67d-2aa9-41c7-9726-583429acce02"
      },
      "source": [
        "!pip install -U sentence-transformers"
      ],
      "execution_count": null,
      "outputs": [
        {
          "output_type": "stream",
          "name": "stdout",
          "text": [
            "Requirement already satisfied: sentence-transformers in /usr/local/lib/python3.7/dist-packages (2.1.0)\n",
            "Requirement already satisfied: tokenizers>=0.10.3 in /usr/local/lib/python3.7/dist-packages (from sentence-transformers) (0.10.3)\n",
            "Requirement already satisfied: torch>=1.6.0 in /usr/local/lib/python3.7/dist-packages (from sentence-transformers) (1.10.0+cu111)\n",
            "Requirement already satisfied: numpy in /usr/local/lib/python3.7/dist-packages (from sentence-transformers) (1.19.5)\n",
            "Requirement already satisfied: sentencepiece in /usr/local/lib/python3.7/dist-packages (from sentence-transformers) (0.1.96)\n",
            "Requirement already satisfied: scikit-learn in /usr/local/lib/python3.7/dist-packages (from sentence-transformers) (1.0.2)\n",
            "Requirement already satisfied: nltk in /usr/local/lib/python3.7/dist-packages (from sentence-transformers) (3.2.5)\n",
            "Requirement already satisfied: tqdm in /usr/local/lib/python3.7/dist-packages (from sentence-transformers) (4.62.3)\n",
            "Requirement already satisfied: transformers<5.0.0,>=4.6.0 in /usr/local/lib/python3.7/dist-packages (from sentence-transformers) (4.15.0)\n",
            "Requirement already satisfied: huggingface-hub in /usr/local/lib/python3.7/dist-packages (from sentence-transformers) (0.4.0)\n",
            "Requirement already satisfied: torchvision in /usr/local/lib/python3.7/dist-packages (from sentence-transformers) (0.11.1+cu111)\n",
            "Requirement already satisfied: scipy in /usr/local/lib/python3.7/dist-packages (from sentence-transformers) (1.4.1)\n",
            "Requirement already satisfied: typing-extensions in /usr/local/lib/python3.7/dist-packages (from torch>=1.6.0->sentence-transformers) (3.10.0.2)\n",
            "Requirement already satisfied: sacremoses in /usr/local/lib/python3.7/dist-packages (from transformers<5.0.0,>=4.6.0->sentence-transformers) (0.0.47)\n",
            "Requirement already satisfied: regex!=2019.12.17 in /usr/local/lib/python3.7/dist-packages (from transformers<5.0.0,>=4.6.0->sentence-transformers) (2019.12.20)\n",
            "Requirement already satisfied: importlib-metadata in /usr/local/lib/python3.7/dist-packages (from transformers<5.0.0,>=4.6.0->sentence-transformers) (4.10.0)\n",
            "Requirement already satisfied: filelock in /usr/local/lib/python3.7/dist-packages (from transformers<5.0.0,>=4.6.0->sentence-transformers) (3.4.2)\n",
            "Requirement already satisfied: pyyaml>=5.1 in /usr/local/lib/python3.7/dist-packages (from transformers<5.0.0,>=4.6.0->sentence-transformers) (6.0)\n",
            "Requirement already satisfied: packaging>=20.0 in /usr/local/lib/python3.7/dist-packages (from transformers<5.0.0,>=4.6.0->sentence-transformers) (21.3)\n",
            "Requirement already satisfied: requests in /usr/local/lib/python3.7/dist-packages (from transformers<5.0.0,>=4.6.0->sentence-transformers) (2.23.0)\n",
            "Requirement already satisfied: pyparsing!=3.0.5,>=2.0.2 in /usr/local/lib/python3.7/dist-packages (from packaging>=20.0->transformers<5.0.0,>=4.6.0->sentence-transformers) (3.0.6)\n",
            "Requirement already satisfied: zipp>=0.5 in /usr/local/lib/python3.7/dist-packages (from importlib-metadata->transformers<5.0.0,>=4.6.0->sentence-transformers) (3.7.0)\n",
            "Requirement already satisfied: six in /usr/local/lib/python3.7/dist-packages (from nltk->sentence-transformers) (1.15.0)\n",
            "Requirement already satisfied: chardet<4,>=3.0.2 in /usr/local/lib/python3.7/dist-packages (from requests->transformers<5.0.0,>=4.6.0->sentence-transformers) (3.0.4)\n",
            "Requirement already satisfied: idna<3,>=2.5 in /usr/local/lib/python3.7/dist-packages (from requests->transformers<5.0.0,>=4.6.0->sentence-transformers) (2.10)\n",
            "Requirement already satisfied: certifi>=2017.4.17 in /usr/local/lib/python3.7/dist-packages (from requests->transformers<5.0.0,>=4.6.0->sentence-transformers) (2021.10.8)\n",
            "Requirement already satisfied: urllib3!=1.25.0,!=1.25.1,<1.26,>=1.21.1 in /usr/local/lib/python3.7/dist-packages (from requests->transformers<5.0.0,>=4.6.0->sentence-transformers) (1.24.3)\n",
            "Requirement already satisfied: joblib in /usr/local/lib/python3.7/dist-packages (from sacremoses->transformers<5.0.0,>=4.6.0->sentence-transformers) (1.1.0)\n",
            "Requirement already satisfied: click in /usr/local/lib/python3.7/dist-packages (from sacremoses->transformers<5.0.0,>=4.6.0->sentence-transformers) (7.1.2)\n",
            "Requirement already satisfied: threadpoolctl>=2.0.0 in /usr/local/lib/python3.7/dist-packages (from scikit-learn->sentence-transformers) (3.0.0)\n",
            "Requirement already satisfied: pillow!=8.3.0,>=5.3.0 in /usr/local/lib/python3.7/dist-packages (from torchvision->sentence-transformers) (7.1.2)\n"
          ]
        }
      ]
    },
    {
      "cell_type": "code",
      "metadata": {
        "colab": {
          "base_uri": "https://localhost:8080/"
        },
        "id": "1WbhmPjgGGGM",
        "outputId": "083f1f1b-0147-428d-9156-ac8ea74ab2c2"
      },
      "source": [
        "!pip install faiss-gpu"
      ],
      "execution_count": null,
      "outputs": [
        {
          "output_type": "stream",
          "name": "stdout",
          "text": [
            "Requirement already satisfied: faiss-gpu in /usr/local/lib/python3.7/dist-packages (1.7.2)\n"
          ]
        }
      ]
    },
    {
      "cell_type": "code",
      "metadata": {
        "id": "bh_BdSrhGzk6"
      },
      "source": [
        "import faiss,numpy"
      ],
      "execution_count": null,
      "outputs": []
    },
    {
      "cell_type": "code",
      "metadata": {
        "id": "9uHKbBG2-z0X",
        "colab": {
          "base_uri": "https://localhost:8080/",
          "height": 433,
          "referenced_widgets": [
            "1d10f3fb5133456f86845f3d0faf12b5",
            "ebc876f475e7484c8d247a13a3856a56",
            "3a6458b34c684e0b881209ee67b94231",
            "204ca643495b45e8b01c4a4b35544a4b",
            "9c1665fe21e5426c9eb671845f68d4c3",
            "64b1d401fc6e413aa4ec6ce853b575ff",
            "8ffc1cec19a34868bb81ca7145b0de87",
            "a17ee932b895451d849eb2527d0b4765",
            "568545a078a84c50b53752572425502b",
            "e54398aada1e415484f24a375ba9a7fc",
            "9a96ecaaeb244780aca853eab6dbc460",
            "b0c82cc36bbd493aaff2aa0efa967dc4",
            "dea329fe8ff14229a39ceee5698e233a",
            "105e734477bc46289d767ad87d861bf5",
            "ca0d9abbf1764a9fb4c876dc1ab996f9",
            "721af1f6709b4c09b070b407dce868a3",
            "9e5d5615891e4508b756440b66f203fd",
            "c77cd9d874bc4e53b0b9367f773da78e",
            "12e60ccd8fab423cbab3c4cc8121c01a",
            "94f8c57073c346ce8f6ed54e0c935065",
            "9599f08a74cf43c9a4eede3a0dd53f77",
            "7957d55fc24242c6bcb0447e2135ab89",
            "9412552547cf4befa162c98e96325dc7",
            "cd5d5d6bdbd5488abb1872c43cea1297",
            "795d53db81214afb88e12a3a4eb8c341",
            "1b06a8ec8100463db0c261fe0b5c4e3b",
            "6d5e714902ae4cbdab3698549fc20d68",
            "271f8948812743298254e1daecf71301",
            "47b4b9ff34e847018b6d7bef042a2f81",
            "5a6af72b560844e9a70642c68e11b1e2",
            "1f9a36f3ef3749f0a9fb1ab62cd9edec",
            "4c2a268a2f0a4c319acc21003ce8fef1",
            "51edd623250a4519a4c2c3f0834feaec",
            "9e355dcd51e84a40ad142e9cb33e12b5",
            "63818f780a0f4b529a8e675b68a4fd33",
            "2636758286df40a9a51ebaf5b9ec50ef",
            "6192557755ff4d259522796bf4960e03",
            "79e8de22978e40fc8dcfade8a574e57c",
            "0cb2215cbfeb44a4b5193d0e877c0c6b",
            "4e7e263c4af64e7b83eaa4942ed35b9d",
            "ff41884f001d4ed483fe9981d9931a24",
            "79a20f89804a49a2b9088a1c7f5f09d1",
            "2d7e3b966f74492a8410bbe8c02b71cb",
            "24c45102cb1f4b70a421c45cf73e292d",
            "775338dbf7c74cebace2bd29ccd2c413",
            "c2bf7481404a4f6f9e53ec1a6da39141",
            "90dfc3df0ee143c899aad1e278d694ae",
            "7b2fd5f9ff714acaa5ae85664cf265ce",
            "42733edd268a4817bcb32c3647629c28",
            "1368bb128d52416ea1c50bc6e8969b68",
            "85d37e62362144a0b2e870b9dda8ce68",
            "8044f1df5bea4128b72563100d5b4fe5",
            "0dbf79ce5f274f378ca1aac8e5b5baf7",
            "9b6c629e87fd459da4a967bbd73a118c",
            "e39a4dd7233a4209b408d6dd224d2aa8",
            "792c2f3153ae400389bbc37b4423621c",
            "4cc648ff7aec4a6f81abf8917b16cb97",
            "6e83b4de17134f6d999e220d0959a87e",
            "edd485204fc141dabf4bacf9ea5ed378",
            "d8ee8deefe1546a48a344eed37f6788a",
            "997845c321b34bee979390e969580487",
            "569e871bf3d54dd18270d8ed082ed6ee",
            "22ab6614690240b393dad3091d4b1839",
            "a4f7056b59ce4de681fe28ab9e8bab7b",
            "dd094c745f8640d783199a12f5eef6b6",
            "8d007951e9084dff898285b7c6b90ebf",
            "75835d17a9d3407f8f183625342a7c20",
            "f30d8758a79f4c8fbd1a3e26421ecdea",
            "52a4d41327884205ad89ae1deab0c1a0",
            "aae94c4f8a88443693d03743842abbbc",
            "0383674e496a46b8b691201764f2bf65",
            "d553968dfe2c4a1f9be9abc519eb1b6c",
            "b9272458fb164683bfc0fd4429991b0f",
            "36e4930f210f44b39c8a7d54dad96c52",
            "4fa2e016c3f54ee5b61612ffcabba7c4",
            "300bf7b59aed43f5a8962d61a451f626",
            "176da9630f0f447da1ceb2746be2677e",
            "71cf2bf930cd4b838a5a68d50a18d856",
            "f590c5dd540c42bdaeb111fb751f4943",
            "0b3738c2c0b347b6808218fd7f9aa6c4",
            "a58292ab7afb43758c70fc245d90e838",
            "966d58ada2e2467f946d32855eb86baa",
            "2c2a2c4bab55433a842704a1459ee829",
            "280f3d0c5a404c91bffba3dd0eae9a56",
            "a34f6d4c195d4cdaa75c805a7725a776",
            "241f9e7a551f443aad91b29f779e9f53",
            "9d26d8e1b8a44a40869aee6be727fbfa",
            "85addd06bc904e7cad24dd762ec21c1f",
            "80889d441f464eceb54c37a776774541",
            "c5c737f679704d19adadb2143942249f",
            "2c38793725d54b49abfa211b0274f56b",
            "246fa0221422419983c52c3b207e7258",
            "e4e86c428d894089b881ca2e06c9e0f5",
            "0f8c855cf06e41aab3f86d4261d57bdf",
            "cfb9a7f98fce428b8dee3a173f37d598",
            "217224283bbf40dbb308e66cff5bb217",
            "e51af9072f11437b923aed9c79b47ec1",
            "5fba95066cd64a66a9ccb082039db0bf",
            "a6b994cb16484cfcbf9f10558f712868",
            "cca76769af784cd095f323e91c4a22ec",
            "6648e94cd2264de5aa1e662fc830142e",
            "957b52d5a3c44f83b4217f49d0084e9c",
            "18b4649637094185b9d53e314a2c43be",
            "44df29d96cd142dbb55f2569d5432256",
            "5caf2905e48b4e26b7de0e2eb03d4b65",
            "fd2ef9c3d69f46a6b6bf08d6190400a2",
            "36d26ef7e16240e69875915b6d62ed9a",
            "ace08351dc73453a9ee5fe08d065dda4",
            "af8aeb5e5de64dd896f8f27a661ae252",
            "d267f39a564249cf9f2134e6e0bafe34",
            "53a54ea7add54f039d29b26a70817f96",
            "476450d2d17744ff89e3efaaba85f06b",
            "165bea83068a4363894686fb7de3441d",
            "5f921c81400d4d88a2e9d8bdbcb889af",
            "2ce0e5b6adfa49ca86d911851c24141a",
            "2a0b0c6436b04cf1a58d3eec733ea941",
            "2a09168ff71c41d4866e6057ffbb317b",
            "ac9c3c4233004a7a8a215220bc128d76",
            "41455e0865ea4913abc7ccaac9b4989c",
            "b45a68c03eda412baf33decf863b9466",
            "8163b1b7649e442fb8d96ba1fd6d7c19",
            "552c648a157642b1bcbce84258f8711a",
            "ff17a9cd16a34e718d6b16bf2bb8ea07",
            "738c984108d346cd82659e328015996b",
            "70d06937cc7343bb9435b48fe6d63639",
            "de6b11926fe743c2b181fc20b3850286",
            "fe4f57b7d5d141c7a8800682f7f05517",
            "7003c49e21304329ba956b215852adf2",
            "39965d737b1445b9ba9884abad8d30b5",
            "b511ea9d55b64ad4b57f87e140ec0456",
            "484ed0e81a1d438f9091ab3eaa347897",
            "1df7ee8b9d724740ba290a40d7b67dea",
            "357595355a2244cb999812f5dae641b7",
            "ea5294f7facb4a4b85b0865771c34f29",
            "a52e21b2014148948023a2b0b9581f89",
            "343ed381d4e94c268023f2a8fb5aa3a9",
            "76fefb91feda4ed7a8e02f16e85455cc",
            "1f676f94b66e468d85be6fd5603bc842",
            "11b2ec15ccee473ea4ef3e7d04997480",
            "568ffde0e63341c1a96aeb42700a7769",
            "7e44baccbf8e46a687e753e728d98bf3",
            "201f6bd6befc4f909f72e0cb7fd148a4",
            "bbe5b8f2033249d9b3245cf73e355ad7"
          ]
        },
        "outputId": "a22348a1-db1a-45d9-bb01-73eea1373334"
      },
      "source": [
        "from sentence_transformers import SentenceTransformer\n",
        "embed_model = SentenceTransformer('stsb-roberta-base-v2')"
      ],
      "execution_count": null,
      "outputs": [
        {
          "output_type": "display_data",
          "data": {
            "application/vnd.jupyter.widget-view+json": {
              "model_id": "1d10f3fb5133456f86845f3d0faf12b5",
              "version_minor": 0,
              "version_major": 2
            },
            "text/plain": [
              "Downloading:   0%|          | 0.00/1.09k [00:00<?, ?B/s]"
            ]
          },
          "metadata": {}
        },
        {
          "output_type": "display_data",
          "data": {
            "application/vnd.jupyter.widget-view+json": {
              "model_id": "b0c82cc36bbd493aaff2aa0efa967dc4",
              "version_minor": 0,
              "version_major": 2
            },
            "text/plain": [
              "Downloading:   0%|          | 0.00/3.68k [00:00<?, ?B/s]"
            ]
          },
          "metadata": {}
        },
        {
          "output_type": "display_data",
          "data": {
            "application/vnd.jupyter.widget-view+json": {
              "model_id": "9412552547cf4befa162c98e96325dc7",
              "version_minor": 0,
              "version_major": 2
            },
            "text/plain": [
              "Downloading:   0%|          | 0.00/675 [00:00<?, ?B/s]"
            ]
          },
          "metadata": {}
        },
        {
          "output_type": "display_data",
          "data": {
            "application/vnd.jupyter.widget-view+json": {
              "model_id": "9e355dcd51e84a40ad142e9cb33e12b5",
              "version_minor": 0,
              "version_major": 2
            },
            "text/plain": [
              "Downloading:   0%|          | 0.00/122 [00:00<?, ?B/s]"
            ]
          },
          "metadata": {}
        },
        {
          "output_type": "display_data",
          "data": {
            "application/vnd.jupyter.widget-view+json": {
              "model_id": "775338dbf7c74cebace2bd29ccd2c413",
              "version_minor": 0,
              "version_major": 2
            },
            "text/plain": [
              "Downloading:   0%|          | 0.00/456k [00:00<?, ?B/s]"
            ]
          },
          "metadata": {}
        },
        {
          "output_type": "display_data",
          "data": {
            "application/vnd.jupyter.widget-view+json": {
              "model_id": "792c2f3153ae400389bbc37b4423621c",
              "version_minor": 0,
              "version_major": 2
            },
            "text/plain": [
              "Downloading:   0%|          | 0.00/229 [00:00<?, ?B/s]"
            ]
          },
          "metadata": {}
        },
        {
          "output_type": "display_data",
          "data": {
            "application/vnd.jupyter.widget-view+json": {
              "model_id": "75835d17a9d3407f8f183625342a7c20",
              "version_minor": 0,
              "version_major": 2
            },
            "text/plain": [
              "Downloading:   0%|          | 0.00/499M [00:00<?, ?B/s]"
            ]
          },
          "metadata": {}
        },
        {
          "output_type": "display_data",
          "data": {
            "application/vnd.jupyter.widget-view+json": {
              "model_id": "71cf2bf930cd4b838a5a68d50a18d856",
              "version_minor": 0,
              "version_major": 2
            },
            "text/plain": [
              "Downloading:   0%|          | 0.00/52.0 [00:00<?, ?B/s]"
            ]
          },
          "metadata": {}
        },
        {
          "output_type": "display_data",
          "data": {
            "application/vnd.jupyter.widget-view+json": {
              "model_id": "80889d441f464eceb54c37a776774541",
              "version_minor": 0,
              "version_major": 2
            },
            "text/plain": [
              "Downloading:   0%|          | 0.00/239 [00:00<?, ?B/s]"
            ]
          },
          "metadata": {}
        },
        {
          "output_type": "display_data",
          "data": {
            "application/vnd.jupyter.widget-view+json": {
              "model_id": "cca76769af784cd095f323e91c4a22ec",
              "version_minor": 0,
              "version_major": 2
            },
            "text/plain": [
              "Downloading:   0%|          | 0.00/1.36M [00:00<?, ?B/s]"
            ]
          },
          "metadata": {}
        },
        {
          "output_type": "display_data",
          "data": {
            "application/vnd.jupyter.widget-view+json": {
              "model_id": "53a54ea7add54f039d29b26a70817f96",
              "version_minor": 0,
              "version_major": 2
            },
            "text/plain": [
              "Downloading:   0%|          | 0.00/1.11k [00:00<?, ?B/s]"
            ]
          },
          "metadata": {}
        },
        {
          "output_type": "display_data",
          "data": {
            "application/vnd.jupyter.widget-view+json": {
              "model_id": "552c648a157642b1bcbce84258f8711a",
              "version_minor": 0,
              "version_major": 2
            },
            "text/plain": [
              "Downloading:   0%|          | 0.00/798k [00:00<?, ?B/s]"
            ]
          },
          "metadata": {}
        },
        {
          "output_type": "display_data",
          "data": {
            "application/vnd.jupyter.widget-view+json": {
              "model_id": "357595355a2244cb999812f5dae641b7",
              "version_minor": 0,
              "version_major": 2
            },
            "text/plain": [
              "Downloading:   0%|          | 0.00/190 [00:00<?, ?B/s]"
            ]
          },
          "metadata": {}
        }
      ]
    },
    {
      "cell_type": "code",
      "metadata": {
        "id": "pATVdSUeA9cE"
      },
      "source": [
        "import spacy\n",
        "import nltk\n",
        "import re"
      ],
      "execution_count": null,
      "outputs": []
    },
    {
      "cell_type": "code",
      "metadata": {
        "id": "nKhYqpmoWtC7"
      },
      "source": [
        "import pandas as pd"
      ],
      "execution_count": null,
      "outputs": []
    },
    {
      "cell_type": "markdown",
      "metadata": {
        "id": "_MsLYICVYlYR"
      },
      "source": [
        "# Setting Variables"
      ]
    },
    {
      "cell_type": "code",
      "metadata": {
        "id": "4HjPRoRfYoTf"
      },
      "source": [
        "job_file_path='/content/Jobs.csv'\n",
        "candidate_file_path='/content/Candidate.csv'"
      ],
      "execution_count": null,
      "outputs": []
    },
    {
      "cell_type": "markdown",
      "metadata": {
        "id": "VhJ8GpIlQl_E"
      },
      "source": [
        "# Data Loading"
      ]
    },
    {
      "cell_type": "code",
      "metadata": {
        "id": "UR4DYgo3zzIM"
      },
      "source": [
        "jobs_df=pd.read_csv(job_file_path,encoding = \"ISO-8859-1\")\n",
        "cand_df=pd.read_csv(candidate_file_path,encoding = \"ISO-8859-1\")"
      ],
      "execution_count": null,
      "outputs": []
    },
    {
      "cell_type": "code",
      "metadata": {
        "id": "8FHjICUDZ52y"
      },
      "source": [
        "del jobs_df['Date']                   # Since contained all NAN values\n",
        "del jobs_df['Job ID']                 # Since contained all NAN values\n",
        "# jobs_df=jobs_df.dropna()              # Dropping further NAN values\n",
        "jobs_df.fillna('NON', inplace=True)"
      ],
      "execution_count": null,
      "outputs": []
    },
    {
      "cell_type": "code",
      "metadata": {
        "colab": {
          "base_uri": "https://localhost:8080/"
        },
        "id": "WQoO-0rPzkrr",
        "outputId": "87619834-7473-47f0-83c4-fc472e1f2b52"
      },
      "source": [
        "jobs_df.info()"
      ],
      "execution_count": null,
      "outputs": [
        {
          "output_type": "stream",
          "name": "stdout",
          "text": [
            "<class 'pandas.core.frame.DataFrame'>\n",
            "RangeIndex: 2003 entries, 0 to 2002\n",
            "Data columns (total 10 columns):\n",
            " #   Column            Non-Null Count  Dtype \n",
            "---  ------            --------------  ----- \n",
            " 0   Company Name      2003 non-null   object\n",
            " 1   Post              2003 non-null   object\n",
            " 2   Location          2003 non-null   object\n",
            " 3   Description       2003 non-null   object\n",
            " 4   Level             2003 non-null   object\n",
            " 5   Type              2003 non-null   object\n",
            " 6   Function          2003 non-null   object\n",
            " 7   Industry          2003 non-null   object\n",
            " 8   Responsibilities  2003 non-null   object\n",
            " 9   Qualifications    2003 non-null   object\n",
            "dtypes: object(10)\n",
            "memory usage: 156.6+ KB\n"
          ]
        }
      ]
    },
    {
      "cell_type": "code",
      "metadata": {
        "colab": {
          "base_uri": "https://localhost:8080/"
        },
        "id": "nPOFNQg1Kbz2",
        "outputId": "82db6caa-7eef-447a-df09-5e42745197bc"
      },
      "source": [
        "jobs_df.shape"
      ],
      "execution_count": null,
      "outputs": [
        {
          "output_type": "execute_result",
          "data": {
            "text/plain": [
              "(2003, 10)"
            ]
          },
          "metadata": {},
          "execution_count": 11
        }
      ]
    },
    {
      "cell_type": "code",
      "metadata": {
        "id": "9xvSeW0EZBqc"
      },
      "source": [
        "# Relevant columns for job dataframe\n",
        "job_responsibility_column=8\n",
        "job_description_column=3\n",
        "job_qualification_column=9"
      ],
      "execution_count": null,
      "outputs": []
    },
    {
      "cell_type": "code",
      "metadata": {
        "colab": {
          "base_uri": "https://localhost:8080/"
        },
        "id": "0If4dVPyzqGk",
        "outputId": "42d8d49c-f805-4abb-abdd-37e593d25aa7"
      },
      "source": [
        "cand_df.info()"
      ],
      "execution_count": null,
      "outputs": [
        {
          "output_type": "stream",
          "name": "stdout",
          "text": [
            "<class 'pandas.core.frame.DataFrame'>\n",
            "RangeIndex: 16201 entries, 0 to 16200\n",
            "Data columns (total 11 columns):\n",
            " #   Column           Non-Null Count  Dtype  \n",
            "---  ------           --------------  -----  \n",
            " 0   ID               16198 non-null  float64\n",
            " 1   About            16084 non-null  object \n",
            " 2   Accomplishments  11881 non-null  object \n",
            " 3   Education        15928 non-null  object \n",
            " 4   Experience       15828 non-null  object \n",
            " 5   Industry         27 non-null     object \n",
            " 6   Level            16198 non-null  object \n",
            " 7   Location         16198 non-null  object \n",
            " 8   Skills           15886 non-null  object \n",
            " 9   Type             16198 non-null  object \n",
            " 10  Certification    8023 non-null   object \n",
            "dtypes: float64(1), object(10)\n",
            "memory usage: 1.4+ MB\n"
          ]
        }
      ]
    },
    {
      "cell_type": "code",
      "metadata": {
        "colab": {
          "base_uri": "https://localhost:8080/"
        },
        "id": "4_SPn0zBKjXF",
        "outputId": "3d20c079-5248-43f5-d7fe-c8f0c6a09740"
      },
      "source": [
        "cand_df.shape"
      ],
      "execution_count": null,
      "outputs": [
        {
          "output_type": "execute_result",
          "data": {
            "text/plain": [
              "(16201, 11)"
            ]
          },
          "metadata": {},
          "execution_count": 14
        }
      ]
    },
    {
      "cell_type": "code",
      "source": [
        "# cand_df.iloc[2]"
      ],
      "metadata": {
        "id": "8xzCiOFcxmhQ"
      },
      "execution_count": null,
      "outputs": []
    },
    {
      "cell_type": "code",
      "source": [
        "# cand_df.iloc[1]"
      ],
      "metadata": {
        "id": "VKBcYDoMwp7a"
      },
      "execution_count": null,
      "outputs": []
    },
    {
      "cell_type": "code",
      "metadata": {
        "id": "XJtRDQsBZun8"
      },
      "source": [
        "# Relevant columns for candidate dataframe\n",
        "candidate_experience_column=4\n",
        "candidate_education_column=3\n",
        "candidate_skills_column=8\n",
        "candidate_certificates_column=10"
      ],
      "execution_count": null,
      "outputs": []
    },
    {
      "cell_type": "code",
      "metadata": {
        "id": "C77QcZ2jmIc2"
      },
      "source": [
        "jobs_df=jobs_df.drop_duplicates(keep='first',subset=['Description','Responsibilities'])    # Dropping duplicates"
      ],
      "execution_count": null,
      "outputs": []
    },
    {
      "cell_type": "code",
      "source": [
        "cand_df=cand_df.drop_duplicates(keep='first',subset=['Education','Skills','Experience'])      # Dropping duplicates"
      ],
      "metadata": {
        "id": "zAPVCdG6ywqE"
      },
      "execution_count": null,
      "outputs": []
    },
    {
      "cell_type": "code",
      "metadata": {
        "colab": {
          "base_uri": "https://localhost:8080/"
        },
        "id": "dqW39fipKo8A",
        "outputId": "dcefff7c-ef61-483c-bcdf-eed3e321fc99"
      },
      "source": [
        "jobs_df.shape"
      ],
      "execution_count": null,
      "outputs": [
        {
          "output_type": "execute_result",
          "data": {
            "text/plain": [
              "(197, 10)"
            ]
          },
          "metadata": {},
          "execution_count": 20
        }
      ]
    },
    {
      "cell_type": "code",
      "metadata": {
        "colab": {
          "base_uri": "https://localhost:8080/"
        },
        "id": "olNJ-YPgKoub",
        "outputId": "1c6df36e-1211-42ee-9967-84a6af4bfda4"
      },
      "source": [
        "cand_df.shape"
      ],
      "execution_count": null,
      "outputs": [
        {
          "output_type": "execute_result",
          "data": {
            "text/plain": [
              "(1488, 11)"
            ]
          },
          "metadata": {},
          "execution_count": 21
        }
      ]
    },
    {
      "cell_type": "code",
      "source": [
        "cand_df.to_csv('cand_df.csv')"
      ],
      "metadata": {
        "id": "9yefSrvG9EZT"
      },
      "execution_count": null,
      "outputs": []
    },
    {
      "cell_type": "code",
      "source": [
        "cand_df.iloc[355]"
      ],
      "metadata": {
        "colab": {
          "base_uri": "https://localhost:8080/"
        },
        "id": "OEVhnvf0zKG-",
        "outputId": "d71f718f-1004-4a49-f968-041e84e5ad97"
      },
      "execution_count": null,
      "outputs": [
        {
          "output_type": "execute_result",
          "data": {
            "text/plain": [
              "ID                                                               496\n",
              "About                                          \\n\\n    About\\n  \\n\\n\n",
              "Accomplishments                 Database Management Systems & Design\n",
              "Education          \\n\\n \\n\\n\\n\\n\\nUniversity of St. Thomas\\n\\nDeg...\n",
              "Experience           \\n\\n \\n\\n\\n\\nAssistant Manager, Digital Chan...\n",
              "Industry                                                         NaN\n",
              "Level                                                    Entry level\n",
              "Location                                                      Riyadh\n",
              "Skills             \\n\\n\\n\\n\\n \\n            Research\\n          \\...\n",
              "Type                                                       Full-time\n",
              "Certification      \\n\\n \\n\\n\\n\\n\\n    Graduate Certificate in Bus...\n",
              "Name: 496, dtype: object"
            ]
          },
          "metadata": {},
          "execution_count": 23
        }
      ]
    },
    {
      "cell_type": "code",
      "metadata": {
        "id": "N2_iNab4hcYO"
      },
      "source": [
        "# Concatentaing text from desired column i.e description,responsibility,and qualification\n",
        "job_text=[]\n",
        "job_ids=[]\n",
        "for i in range(len(jobs_df)):\n",
        "  concatenated_text=(jobs_df.iloc[i,job_description_column]+ '. '+ jobs_df.iloc[i,job_responsibility_column]+'. '+ jobs_df.iloc[i,job_qualification_column]).replace('\\n','. ')\n",
        "  text=concatenated_text.replace('\\n\\n','')\n",
        "  job_text.append(text)\n",
        "  job_ids.append(i)\n",
        "\n",
        "\n",
        "# Concatentaing text from desired column i.e experience, education,skills and certficates\n",
        "candidate_text=[]\n",
        "cand_ids=[]\n",
        "for i in range(len(cand_df)):\n",
        "  concatenated_text=str(cand_df.iloc[i,candidate_experience_column])+ '. '+str(cand_df.iloc[i,candidate_education_column])+ \\\n",
        "  '. '+str(cand_df.iloc[i,candidate_skills_column])+'. '+str(cand_df.iloc[i,candidate_certificates_column]).replace('\\n','. ')\n",
        "  text=concatenated_text.replace('\\n\\n','')\n",
        "  text=text.replace('\\n','')\n",
        "  candidate_text.append(text)\n",
        "  cand_ids.append(i)\n",
        "jobs_df['job_text']=job_text\n",
        "#jobs_df['job_text']=job_text\n",
        "cand_df['candidate_text']=candidate_text\n",
        "#cand_df['job_text']=job_text"
      ],
      "execution_count": null,
      "outputs": []
    },
    {
      "cell_type": "code",
      "metadata": {
        "colab": {
          "base_uri": "https://localhost:8080/",
          "height": 53
        },
        "id": "5xfvx4_X8RJ9",
        "outputId": "7ac1f021-66f4-483a-f86e-d70725f4822b"
      },
      "source": [
        "candidate_text[0]"
      ],
      "execution_count": null,
      "outputs": [
        {
          "output_type": "execute_result",
          "data": {
            "application/vnd.google.colaboratory.intrinsic+json": {
              "type": "string"
            },
            "text/plain": [
              "\"7+ years Minimum as PMO. Bachelor's degree in Computer Science. Experience to run medium to large projects. I have good knowledge of project financials.Expert in all PMO functions, data/records managements, reportingStrong in planning and tracking.fluent in English and Arabic language. nan\""
            ]
          },
          "metadata": {},
          "execution_count": 25
        }
      ]
    },
    {
      "cell_type": "code",
      "metadata": {
        "colab": {
          "base_uri": "https://localhost:8080/",
          "height": 122
        },
        "id": "9QiH-1G18Swc",
        "outputId": "75ae20d6-f9d3-4308-80bf-a4b06a542cf9"
      },
      "source": [
        "job_text[0]"
      ],
      "execution_count": null,
      "outputs": [
        {
          "output_type": "execute_result",
          "data": {
            "application/vnd.google.colaboratory.intrinsic+json": {
              "type": "string"
            },
            "text/plain": [
              "\"As a Senior Program Manager you work with our team to facilitate decision making, judgment, resolving constraints and enable high quality on program execution and delivery.. Manage technology programs, defining milestones and success criteria, resource allocation and successful on-time delivery.. Exercise technical judgment in working with large, cross-functional teams.. Develop tools and processes to improve software engineering productivity.. Communicate schedules, priorities, and status to all levels.. Proven work experience program managing datawatehouse systems. Strong knowledge of software development life cycle methodologies, tools and processes. Demonstrated ability or preference to work across multiple teams.. Experience in writing clear, concise and comprehensive program plans and schedules. Hands-on experience with Prioritization and issue management. Proven record on facilitating decision making and judgment. Experience working in an Agile/Scrum development process    Bachelor's degree in Computer Science, or equivalent practical experience.. Banking Experience is Preferable.. Experience in Program Management on technical cross-functional projects.. Experience managing execution and high quality product delivery.. Ability to exercise technical judgment in solving software engineering challenges.. Ability to be an influential member of a highly integrated team composed of both technical and non-technical members\""
            ]
          },
          "metadata": {},
          "execution_count": 26
        }
      ]
    },
    {
      "cell_type": "code",
      "metadata": {
        "id": "u0M1ddN_YQo8"
      },
      "source": [
        "# Creating set to handle duplicates, since data has lot of duplicates\n",
        "complete_text=job_text+candidate_text"
      ],
      "execution_count": null,
      "outputs": []
    },
    {
      "cell_type": "code",
      "metadata": {
        "id": "Ly7MXrq5oe76"
      },
      "source": [
        "# Create mapping to map back to original dataframe\n",
        "indexes=[i for i in range(len(complete_text))]\n",
        "mapping=dict(zip(indexes,(job_ids+cand_ids)))"
      ],
      "execution_count": null,
      "outputs": []
    },
    {
      "cell_type": "code",
      "metadata": {
        "id": "cM3H2RCAMKb8",
        "colab": {
          "base_uri": "https://localhost:8080/"
        },
        "outputId": "066850e6-c267-4d4c-e5f5-98ac0168e342"
      },
      "source": [
        "mapping[202]"
      ],
      "execution_count": null,
      "outputs": [
        {
          "output_type": "execute_result",
          "data": {
            "text/plain": [
              "5"
            ]
          },
          "metadata": {},
          "execution_count": 29
        }
      ]
    },
    {
      "cell_type": "code",
      "metadata": {
        "colab": {
          "base_uri": "https://localhost:8080/",
          "height": 87
        },
        "id": "gAM8Jt-tMlft",
        "outputId": "1f2a3333-1dfb-440e-d84a-a85a7b9fee8d"
      },
      "source": [
        "complete_text[214]"
      ],
      "execution_count": null,
      "outputs": [
        {
          "output_type": "execute_result",
          "data": {
            "application/vnd.google.colaboratory.intrinsic+json": {
              "type": "string"
            },
            "text/plain": [
              "'  Performance and development managerCompany Name      Afkar alQimam        Full-timeDates EmployedMar 2019 ï¿½ï¿½ï¿½ PresentEmployment Duration2 yrs 5 mosLocationriyadh    All HR functions  .  University of OxfordDegree NameDiplomaField Of StudyHuman Resources Management/Personnel Administration, General Dates attended or expected graduation2013 ï¿½ï¿½ï¿½ 2013.              Recruiting            See 114 endorsements for Recruiting99+      Endorsed by Khalid Aldosari   - ChHRC and 3 others who are highly skilled at this       Endorsed by 3 of Mohammedï¿½ï¿½ï¿½s colleagues at ALJOMAIH BOTTLING PLANTS. nan'"
            ]
          },
          "metadata": {},
          "execution_count": 30
        }
      ]
    },
    {
      "cell_type": "code",
      "source": [
        "cand_df.iloc[i,11]"
      ],
      "metadata": {
        "colab": {
          "base_uri": "https://localhost:8080/",
          "height": 35
        },
        "id": "E2DM4KIIw0AS",
        "outputId": "8bc00374-2f9e-4d1d-d395-ecacfa47d6b3"
      },
      "execution_count": null,
      "outputs": [
        {
          "output_type": "execute_result",
          "data": {
            "application/vnd.google.colaboratory.intrinsic+json": {
              "type": "string"
            },
            "text/plain": [
              "'nan. nan. nan. nan'"
            ]
          },
          "metadata": {},
          "execution_count": 31
        }
      ]
    },
    {
      "cell_type": "code",
      "metadata": {
        "id": "-3rqdCN2fyEu"
      },
      "source": [
        "# code to extract number of professional years from candidate experience\n",
        "import re\n",
        "pattern=re.compile(r'\\d [y]r')\n",
        "years=[]\n",
        "for i in range(len(cand_df)):\n",
        "  try:\n",
        "    years.append(pattern.findall(cand_df.iloc[i,11])[0])\n",
        "  except:\n",
        "    years.append('NA')\n",
        "cand_df['Duration']=years"
      ],
      "execution_count": null,
      "outputs": []
    },
    {
      "cell_type": "code",
      "metadata": {
        "colab": {
          "base_uri": "https://localhost:8080/",
          "height": 815
        },
        "id": "Ifq3XoF2YqI3",
        "outputId": "3fe64564-9b8d-48bd-8819-2090187931e5"
      },
      "source": [
        "cand_df"
      ],
      "execution_count": null,
      "outputs": [
        {
          "output_type": "execute_result",
          "data": {
            "text/html": [
              "\n",
              "  <div id=\"df-7eabe7d2-3068-46b0-b667-8e1bfac9cced\">\n",
              "    <div class=\"colab-df-container\">\n",
              "      <div>\n",
              "<style scoped>\n",
              "    .dataframe tbody tr th:only-of-type {\n",
              "        vertical-align: middle;\n",
              "    }\n",
              "\n",
              "    .dataframe tbody tr th {\n",
              "        vertical-align: top;\n",
              "    }\n",
              "\n",
              "    .dataframe thead th {\n",
              "        text-align: right;\n",
              "    }\n",
              "</style>\n",
              "<table border=\"1\" class=\"dataframe\">\n",
              "  <thead>\n",
              "    <tr style=\"text-align: right;\">\n",
              "      <th></th>\n",
              "      <th>ID</th>\n",
              "      <th>About</th>\n",
              "      <th>Accomplishments</th>\n",
              "      <th>Education</th>\n",
              "      <th>Experience</th>\n",
              "      <th>Industry</th>\n",
              "      <th>Level</th>\n",
              "      <th>Location</th>\n",
              "      <th>Skills</th>\n",
              "      <th>Type</th>\n",
              "      <th>Certification</th>\n",
              "      <th>candidate_text</th>\n",
              "      <th>Duration</th>\n",
              "    </tr>\n",
              "  </thead>\n",
              "  <tbody>\n",
              "    <tr>\n",
              "      <th>0</th>\n",
              "      <td>0.0</td>\n",
              "      <td>NaN</td>\n",
              "      <td>NaN</td>\n",
              "      <td>Bachelor's degree in Computer Science</td>\n",
              "      <td>7+ years Minimum as PMO</td>\n",
              "      <td>IT</td>\n",
              "      <td>Senior</td>\n",
              "      <td>Riyadh</td>\n",
              "      <td>Experience to run medium to large projects. I ...</td>\n",
              "      <td>Full-time</td>\n",
              "      <td>NaN</td>\n",
              "      <td>7+ years Minimum as PMO. Bachelor's degree in ...</td>\n",
              "      <td>NA</td>\n",
              "    </tr>\n",
              "    <tr>\n",
              "      <th>1</th>\n",
              "      <td>1.0</td>\n",
              "      <td>NaN</td>\n",
              "      <td>NaN</td>\n",
              "      <td>Bachelor's degree in Computer Science</td>\n",
              "      <td>My experience is in program management and pro...</td>\n",
              "      <td>IT</td>\n",
              "      <td>Senior</td>\n",
              "      <td>Riyadh</td>\n",
              "      <td>influential member of a highly integrated team...</td>\n",
              "      <td>Full-time</td>\n",
              "      <td>NaN</td>\n",
              "      <td>My experience is in program management and pro...</td>\n",
              "      <td>NA</td>\n",
              "    </tr>\n",
              "    <tr>\n",
              "      <th>2</th>\n",
              "      <td>2.0</td>\n",
              "      <td>NaN</td>\n",
              "      <td>NaN</td>\n",
              "      <td>Bachelor's degree in Computer Science. Banking...</td>\n",
              "      <td>In my experience I Manageed technology program...</td>\n",
              "      <td>IT</td>\n",
              "      <td>Senior</td>\n",
              "      <td>Riyadh</td>\n",
              "      <td>Yes I have the Ability to exercise technical j...</td>\n",
              "      <td>Full-time</td>\n",
              "      <td>NaN</td>\n",
              "      <td>In my experience I Manageed technology program...</td>\n",
              "      <td>NA</td>\n",
              "    </tr>\n",
              "    <tr>\n",
              "      <th>3</th>\n",
              "      <td>3.0</td>\n",
              "      <td>NaN</td>\n",
              "      <td>NaN</td>\n",
              "      <td>Bachelor's degree in information system\\nExper...</td>\n",
              "      <td>Experience in delivery of the business analysi...</td>\n",
              "      <td>IT</td>\n",
              "      <td>entry level</td>\n",
              "      <td>Riyadh</td>\n",
              "      <td>I have the Ability to exercise technical judgm...</td>\n",
              "      <td>Full-time</td>\n",
              "      <td>NaN</td>\n",
              "      <td>Experience in delivery of the business analysi...</td>\n",
              "      <td>NA</td>\n",
              "    </tr>\n",
              "    <tr>\n",
              "      <th>4</th>\n",
              "      <td>4.0</td>\n",
              "      <td>NaN</td>\n",
              "      <td>NaN</td>\n",
              "      <td>Bachelor's degree in Computer Science\\nExcelle...</td>\n",
              "      <td>working with large, cross-functional teams.\\nD...</td>\n",
              "      <td>IT</td>\n",
              "      <td>Senior</td>\n",
              "      <td>Riyadh</td>\n",
              "      <td>experience in program managing datawatehouse s...</td>\n",
              "      <td>Full-time</td>\n",
              "      <td>NaN</td>\n",
              "      <td>working with large, cross-functional teams.Dev...</td>\n",
              "      <td>NA</td>\n",
              "    </tr>\n",
              "    <tr>\n",
              "      <th>...</th>\n",
              "      <td>...</td>\n",
              "      <td>...</td>\n",
              "      <td>...</td>\n",
              "      <td>...</td>\n",
              "      <td>...</td>\n",
              "      <td>...</td>\n",
              "      <td>...</td>\n",
              "      <td>...</td>\n",
              "      <td>...</td>\n",
              "      <td>...</td>\n",
              "      <td>...</td>\n",
              "      <td>...</td>\n",
              "      <td>...</td>\n",
              "    </tr>\n",
              "    <tr>\n",
              "      <th>16194</th>\n",
              "      <td>16194.0</td>\n",
              "      <td>NaN</td>\n",
              "      <td>NaN</td>\n",
              "      <td>Bachelor of Science in Nursing.\\ncurrent Nursi...</td>\n",
              "      <td>I have 7.5 years of icu experience (cardiovasc...</td>\n",
              "      <td>healthcare Nursing</td>\n",
              "      <td>Entry level</td>\n",
              "      <td>Riyadh</td>\n",
              "      <td>Strong organization and people management skil...</td>\n",
              "      <td>Full-time</td>\n",
              "      <td>NaN</td>\n",
              "      <td>I have 7.5 years of icu experience (cardiovasc...</td>\n",
              "      <td>NA</td>\n",
              "    </tr>\n",
              "    <tr>\n",
              "      <th>16195</th>\n",
              "      <td>16195.0</td>\n",
              "      <td>NaN</td>\n",
              "      <td>NaN</td>\n",
              "      <td>Bachelor of Science in Nursing.\\ncurrent Nursi...</td>\n",
              "      <td>Highly motivated, self-starter, hard-working, ...</td>\n",
              "      <td>healthcare Nursing</td>\n",
              "      <td>Entry level</td>\n",
              "      <td>Riyadh</td>\n",
              "      <td>I have good oral and written communication and...</td>\n",
              "      <td>Full-time</td>\n",
              "      <td>NaN</td>\n",
              "      <td>Highly motivated, self-starter, hard-working, ...</td>\n",
              "      <td>NA</td>\n",
              "    </tr>\n",
              "    <tr>\n",
              "      <th>16196</th>\n",
              "      <td>16196.0</td>\n",
              "      <td>NaN</td>\n",
              "      <td>NaN</td>\n",
              "      <td>Registered Nurse, with PRC licensed \\nProfessi...</td>\n",
              "      <td>More than 5 years experienced as a staff nurse...</td>\n",
              "      <td>healthcare Nursing</td>\n",
              "      <td>Entry level</td>\n",
              "      <td>Riyadh</td>\n",
              "      <td>with knowledge and clinical assessment skills ...</td>\n",
              "      <td>Full-time</td>\n",
              "      <td>NaN</td>\n",
              "      <td>More than 5 years experienced as a staff nurse...</td>\n",
              "      <td>NA</td>\n",
              "    </tr>\n",
              "    <tr>\n",
              "      <th>16197</th>\n",
              "      <td>16197.0</td>\n",
              "      <td>NaN</td>\n",
              "      <td>NaN</td>\n",
              "      <td>Bachelor of Science in Nursing\\nEnglish Langua...</td>\n",
              "      <td>Pursuing a highly rewarding career, seeking a ...</td>\n",
              "      <td>healthcare Nursing</td>\n",
              "      <td>Entry level</td>\n",
              "      <td>Riyadh</td>\n",
              "      <td>Successful treatment of Hemodialysis both Acut...</td>\n",
              "      <td>Full-time</td>\n",
              "      <td>NaN</td>\n",
              "      <td>Pursuing a highly rewarding career, seeking a ...</td>\n",
              "      <td>NA</td>\n",
              "    </tr>\n",
              "    <tr>\n",
              "      <th>16198</th>\n",
              "      <td>NaN</td>\n",
              "      <td>NaN</td>\n",
              "      <td>NaN</td>\n",
              "      <td>NaN</td>\n",
              "      <td>NaN</td>\n",
              "      <td>NaN</td>\n",
              "      <td>NaN</td>\n",
              "      <td>NaN</td>\n",
              "      <td>NaN</td>\n",
              "      <td>NaN</td>\n",
              "      <td>NaN</td>\n",
              "      <td>nan. nan. nan. nan</td>\n",
              "      <td>NA</td>\n",
              "    </tr>\n",
              "  </tbody>\n",
              "</table>\n",
              "<p>1488 rows × 13 columns</p>\n",
              "</div>\n",
              "      <button class=\"colab-df-convert\" onclick=\"convertToInteractive('df-7eabe7d2-3068-46b0-b667-8e1bfac9cced')\"\n",
              "              title=\"Convert this dataframe to an interactive table.\"\n",
              "              style=\"display:none;\">\n",
              "        \n",
              "  <svg xmlns=\"http://www.w3.org/2000/svg\" height=\"24px\"viewBox=\"0 0 24 24\"\n",
              "       width=\"24px\">\n",
              "    <path d=\"M0 0h24v24H0V0z\" fill=\"none\"/>\n",
              "    <path d=\"M18.56 5.44l.94 2.06.94-2.06 2.06-.94-2.06-.94-.94-2.06-.94 2.06-2.06.94zm-11 1L8.5 8.5l.94-2.06 2.06-.94-2.06-.94L8.5 2.5l-.94 2.06-2.06.94zm10 10l.94 2.06.94-2.06 2.06-.94-2.06-.94-.94-2.06-.94 2.06-2.06.94z\"/><path d=\"M17.41 7.96l-1.37-1.37c-.4-.4-.92-.59-1.43-.59-.52 0-1.04.2-1.43.59L10.3 9.45l-7.72 7.72c-.78.78-.78 2.05 0 2.83L4 21.41c.39.39.9.59 1.41.59.51 0 1.02-.2 1.41-.59l7.78-7.78 2.81-2.81c.8-.78.8-2.07 0-2.86zM5.41 20L4 18.59l7.72-7.72 1.47 1.35L5.41 20z\"/>\n",
              "  </svg>\n",
              "      </button>\n",
              "      \n",
              "  <style>\n",
              "    .colab-df-container {\n",
              "      display:flex;\n",
              "      flex-wrap:wrap;\n",
              "      gap: 12px;\n",
              "    }\n",
              "\n",
              "    .colab-df-convert {\n",
              "      background-color: #E8F0FE;\n",
              "      border: none;\n",
              "      border-radius: 50%;\n",
              "      cursor: pointer;\n",
              "      display: none;\n",
              "      fill: #1967D2;\n",
              "      height: 32px;\n",
              "      padding: 0 0 0 0;\n",
              "      width: 32px;\n",
              "    }\n",
              "\n",
              "    .colab-df-convert:hover {\n",
              "      background-color: #E2EBFA;\n",
              "      box-shadow: 0px 1px 2px rgba(60, 64, 67, 0.3), 0px 1px 3px 1px rgba(60, 64, 67, 0.15);\n",
              "      fill: #174EA6;\n",
              "    }\n",
              "\n",
              "    [theme=dark] .colab-df-convert {\n",
              "      background-color: #3B4455;\n",
              "      fill: #D2E3FC;\n",
              "    }\n",
              "\n",
              "    [theme=dark] .colab-df-convert:hover {\n",
              "      background-color: #434B5C;\n",
              "      box-shadow: 0px 1px 3px 1px rgba(0, 0, 0, 0.15);\n",
              "      filter: drop-shadow(0px 1px 2px rgba(0, 0, 0, 0.3));\n",
              "      fill: #FFFFFF;\n",
              "    }\n",
              "  </style>\n",
              "\n",
              "      <script>\n",
              "        const buttonEl =\n",
              "          document.querySelector('#df-7eabe7d2-3068-46b0-b667-8e1bfac9cced button.colab-df-convert');\n",
              "        buttonEl.style.display =\n",
              "          google.colab.kernel.accessAllowed ? 'block' : 'none';\n",
              "\n",
              "        async function convertToInteractive(key) {\n",
              "          const element = document.querySelector('#df-7eabe7d2-3068-46b0-b667-8e1bfac9cced');\n",
              "          const dataTable =\n",
              "            await google.colab.kernel.invokeFunction('convertToInteractive',\n",
              "                                                     [key], {});\n",
              "          if (!dataTable) return;\n",
              "\n",
              "          const docLinkHtml = 'Like what you see? Visit the ' +\n",
              "            '<a target=\"_blank\" href=https://colab.research.google.com/notebooks/data_table.ipynb>data table notebook</a>'\n",
              "            + ' to learn more about interactive tables.';\n",
              "          element.innerHTML = '';\n",
              "          dataTable['output_type'] = 'display_data';\n",
              "          await google.colab.output.renderOutput(dataTable, element);\n",
              "          const docLink = document.createElement('div');\n",
              "          docLink.innerHTML = docLinkHtml;\n",
              "          element.appendChild(docLink);\n",
              "        }\n",
              "      </script>\n",
              "    </div>\n",
              "  </div>\n",
              "  "
            ],
            "text/plain": [
              "            ID  ... Duration\n",
              "0          0.0  ...       NA\n",
              "1          1.0  ...       NA\n",
              "2          2.0  ...       NA\n",
              "3          3.0  ...       NA\n",
              "4          4.0  ...       NA\n",
              "...        ...  ...      ...\n",
              "16194  16194.0  ...       NA\n",
              "16195  16195.0  ...       NA\n",
              "16196  16196.0  ...       NA\n",
              "16197  16197.0  ...       NA\n",
              "16198      NaN  ...       NA\n",
              "\n",
              "[1488 rows x 13 columns]"
            ]
          },
          "metadata": {},
          "execution_count": 33
        }
      ]
    },
    {
      "cell_type": "markdown",
      "metadata": {
        "id": "-28hpLinxc4B"
      },
      "source": [
        "# Data Cleaning"
      ]
    },
    {
      "cell_type": "code",
      "metadata": {
        "id": "GPFt9LUQAo8U"
      },
      "source": [
        "# Data preprocessing function\n",
        "def preprocess(sentence):\n",
        "  sentence = \"\".join(filter(lambda x: not x.isdigit(), sentence))\n",
        "  sentence = ' '.join([i for i in sentence.split() if '@' not in i])\n",
        "  sentence=re.sub(' +', ' ', sentence)\n",
        "  sentence=' '.join([item for item in sentence.split() if '@' not in item])\n",
        "  sentence = ' '.join([item for item in sentence.split() if len(item)>2])\n",
        "  sentence=re.sub(\"[\\(\\[]*?[\\)\\]]\", \"\", sentence)\n",
        "  sentence = re.sub(r\"[^a-zA-Z0-9.,]+\", ' ', sentence)\n",
        "  sentence=sentence.rstrip(\"\\n\")\n",
        "  sentence=sentence.strip()\n",
        "  strText=sentence.split()\n",
        "  sentence=\" \".join(strText)\n",
        "  sentence=sentence.lower()\n",
        "  return sentence"
      ],
      "execution_count": null,
      "outputs": []
    },
    {
      "cell_type": "code",
      "metadata": {
        "id": "VUKyha1zUyoe"
      },
      "source": [
        "# Creating list of cleaned text, using above preprocessing function\n",
        "cleaned_complete=[]\n",
        "for i in range(len(complete_text)):\n",
        "  cleaned_complete.append(preprocess(complete_text[i]))"
      ],
      "execution_count": null,
      "outputs": []
    },
    {
      "cell_type": "code",
      "source": [
        "len(set(complete_text))"
      ],
      "metadata": {
        "colab": {
          "base_uri": "https://localhost:8080/"
        },
        "id": "BAIDFt7MRQcc",
        "outputId": "ebd8e310-def9-4c3a-a85b-9aeede47f096"
      },
      "execution_count": null,
      "outputs": [
        {
          "output_type": "execute_result",
          "data": {
            "text/plain": [
              "1685"
            ]
          },
          "metadata": {},
          "execution_count": 36
        }
      ]
    },
    {
      "cell_type": "code",
      "metadata": {
        "id": "CD5gM9l1eXVw"
      },
      "source": [
        "# Setting Faiss variables\n",
        "d = 768                   # dimension of vectors\n",
        "nb = len(set(complete_text))              # database size (jobs+candidates)\n",
        "nq = 1                    # nb of queries\n",
        "k = len(set(complete_text))             # To see 1000 nearest neighbors"
      ],
      "execution_count": null,
      "outputs": []
    },
    {
      "cell_type": "code",
      "metadata": {
        "id": "_vJcoVmrydTm"
      },
      "source": [
        "n_jobs=10                 # number of similar jobs to be retrieved\n",
        "n_candidates=10           # number of similar candidates to be retrieved"
      ],
      "execution_count": null,
      "outputs": []
    },
    {
      "cell_type": "markdown",
      "metadata": {
        "id": "zxL6Oc-0xfkv"
      },
      "source": [
        "# Generating embeddings and FAISS indexing"
      ]
    },
    {
      "cell_type": "code",
      "metadata": {
        "colab": {
          "base_uri": "https://localhost:8080/",
          "height": 49,
          "referenced_widgets": [
            "18d50464aa454f5fbf13bbcc2f3edcdd",
            "a5a160902c2f42e2a2e148a3681e5605",
            "b9cd574a7cf444d5807b4d2a9d56dd71",
            "7b65ed52a27e42dda7d8e55cdcb03256",
            "7ae5218bd01246a98e0c0eb3fa84a327",
            "a41428f4aff7489397375a45b0f6d8ec",
            "1fceb1328a854584a185356a990e5373",
            "820bdf51a2604df7b9a6f3a91e800af8",
            "29df2069296b4f2a910ddd59e750be48",
            "99fc49fa556b40fba5410805986ecad2",
            "1793cf803c4949859aa593d9d4bc2f2d"
          ]
        },
        "id": "suWKSh4hVF2x",
        "outputId": "ab9bb568-4f97-43b0-bee1-19c64d9c6dcc"
      },
      "source": [
        "\n",
        "# Creating embeddings \n",
        "cleaned_embed=embed_model.encode(cleaned_complete,show_progress_bar=True)"
      ],
      "execution_count": null,
      "outputs": [
        {
          "output_type": "display_data",
          "data": {
            "application/vnd.jupyter.widget-view+json": {
              "model_id": "18d50464aa454f5fbf13bbcc2f3edcdd",
              "version_minor": 0,
              "version_major": 2
            },
            "text/plain": [
              "Batches:   0%|          | 0/53 [00:00<?, ?it/s]"
            ]
          },
          "metadata": {}
        }
      ]
    },
    {
      "cell_type": "code",
      "metadata": {
        "colab": {
          "base_uri": "https://localhost:8080/"
        },
        "id": "_H8saBT7L3SZ",
        "outputId": "2d3a8c53-ac08-4aeb-ded8-505cf6e42be5"
      },
      "source": [
        "cleaned_embed"
      ],
      "execution_count": null,
      "outputs": [
        {
          "output_type": "execute_result",
          "data": {
            "text/plain": [
              "array([[ 1.1814553e-01,  9.7288615e-01,  3.3469856e-01, ...,\n",
              "         1.2492381e-01, -1.0351658e-01, -1.0842588e+00],\n",
              "       [-7.3922265e-01,  5.6362104e-01,  3.3563229e-01, ...,\n",
              "        -1.4706001e-01,  6.1759800e-01, -7.1749043e-01],\n",
              "       [-2.9773973e-02, -4.9499577e-01, -3.1987113e-01, ...,\n",
              "        -1.5453414e+00,  4.2558202e-01, -8.2937914e-01],\n",
              "       ...,\n",
              "       [ 2.6517290e-01,  3.7177280e-01,  7.5391963e-02, ...,\n",
              "        -8.6359924e-01,  8.1428039e-01, -1.1651595e+00],\n",
              "       [ 7.0976324e-02,  3.3122394e-02,  2.9116493e-01, ...,\n",
              "        -1.1554957e-01,  1.3034269e+00, -3.0651158e-01],\n",
              "       [ 5.7604343e-01,  9.3502933e-01,  4.9262270e-01, ...,\n",
              "         2.0542111e-01,  4.2908871e-01, -2.0061723e-04]], dtype=float32)"
            ]
          },
          "metadata": {},
          "execution_count": 40
        }
      ]
    },
    {
      "cell_type": "code",
      "metadata": {
        "colab": {
          "base_uri": "https://localhost:8080/"
        },
        "id": "kRqbQ1F7IAkV",
        "outputId": "2000e956-15fa-490a-f25a-d13878a7816b"
      },
      "source": [
        "import numpy as np\n",
        "np.random.seed(1234)             # make reproducible\n",
        "res = faiss.StandardGpuResources()  # use a single GPU\n",
        "index_flat = faiss.IndexFlatL2(d)  # build a flat (CPU) index\n",
        "gpu_index_flat = faiss.index_cpu_to_gpu(res, 0, index_flat)\n",
        "gpu_index_flat.add(cleaned_embed)         # add vectors to the index\n",
        "print(gpu_index_flat.ntotal)"
      ],
      "execution_count": null,
      "outputs": [
        {
          "output_type": "stream",
          "name": "stdout",
          "text": [
            "1685\n"
          ]
        }
      ]
    },
    {
      "cell_type": "code",
      "metadata": {
        "colab": {
          "base_uri": "https://localhost:8080/"
        },
        "id": "OMDYcPoLMCry",
        "outputId": "d384dd72-fa3f-4707-f6de-192f1c719f2d"
      },
      "source": [
        "gpu_index_flat"
      ],
      "execution_count": null,
      "outputs": [
        {
          "output_type": "execute_result",
          "data": {
            "text/plain": [
              "<faiss.swigfaiss.GpuIndexFlat; proxy of <Swig Object of type 'faiss::gpu::GpuIndexFlat *' at 0x7f83f62bbde0> >"
            ]
          },
          "metadata": {},
          "execution_count": 42
        }
      ]
    },
    {
      "cell_type": "code",
      "metadata": {
        "colab": {
          "base_uri": "https://localhost:8080/"
        },
        "id": "S5zuf7r2DS62",
        "outputId": "9651b821-00be-42ba-a9c4-c394b11c4262"
      },
      "source": [
        "len(set(job_text))"
      ],
      "execution_count": null,
      "outputs": [
        {
          "output_type": "execute_result",
          "data": {
            "text/plain": [
              "197"
            ]
          },
          "metadata": {},
          "execution_count": 43
        }
      ]
    },
    {
      "cell_type": "code",
      "metadata": {
        "colab": {
          "base_uri": "https://localhost:8080/"
        },
        "id": "RuWKrGvOFTgW",
        "outputId": "82d64405-88f8-462f-8f7a-5cec0dbe514a"
      },
      "source": [
        "len(set(candidate_text))"
      ],
      "execution_count": null,
      "outputs": [
        {
          "output_type": "execute_result",
          "data": {
            "text/plain": [
              "1488"
            ]
          },
          "metadata": {},
          "execution_count": 44
        }
      ]
    },
    {
      "cell_type": "code",
      "metadata": {
        "colab": {
          "base_uri": "https://localhost:8080/"
        },
        "id": "Y3-lp6rZFYHB",
        "outputId": "1d5db4b5-e2b6-48b7-f1d0-6c507256eeeb"
      },
      "source": [
        "len(set(complete_text))"
      ],
      "execution_count": null,
      "outputs": [
        {
          "output_type": "execute_result",
          "data": {
            "text/plain": [
              "1685"
            ]
          },
          "metadata": {},
          "execution_count": 45
        }
      ]
    },
    {
      "cell_type": "code",
      "metadata": {
        "id": "63vlzwoVVNuD"
      },
      "source": [
        "# Creating distance and index array, here k refers to number of nearest neighbors to be searched\n",
        "D, I = gpu_index_flat.search(cleaned_embed, k) "
      ],
      "execution_count": null,
      "outputs": []
    },
    {
      "cell_type": "code",
      "metadata": {
        "colab": {
          "base_uri": "https://localhost:8080/"
        },
        "id": "-5qmu0KGHIWj",
        "outputId": "5f1feb99-e4e6-422c-b4c8-35b4e030bd50"
      },
      "source": [
        "act=[]\n",
        "for ele in I[1]:\n",
        "  if ele >= len(set(job_text)):\n",
        "    act.append(ele)\n",
        "act[:10]\n"
      ],
      "execution_count": null,
      "outputs": [
        {
          "output_type": "execute_result",
          "data": {
            "text/plain": [
              "[1677, 1682, 587, 674, 1308, 1207, 957, 1680, 553, 810]"
            ]
          },
          "metadata": {},
          "execution_count": 61
        }
      ]
    },
    {
      "cell_type": "code",
      "source": [
        "for F in act[:10]:\n",
        "   print(F)\n",
        "   print('Mapping')\n",
        "   print(mapping[F])\n",
        "   print('**************')\n",
        "   print(complete_text[F])\n",
        "   print('**************')\n"
      ],
      "metadata": {
        "colab": {
          "base_uri": "https://localhost:8080/"
        },
        "id": "HsPO9U2dWkKV",
        "outputId": "d28f8280-1078-46cd-ceb3-2bd6294edb8c"
      },
      "execution_count": null,
      "outputs": [
        {
          "output_type": "stream",
          "name": "stdout",
          "text": [
            "1677\n",
            "Mapping\n",
            "1480\n",
            "**************\n",
            "I have two years experience in Emergency Room Nurse with a demonstrated history of working in the medical practice industry. I Provide and direct patient care utilising the nursing process within established hospital, divisional and unit specific policies and procedures. Skilled in Healthcare, Clinical Research, Strategic Planning, Microsoft Office, and Nursing. I have an experience in clinical assessment skills appropriate to clinical area Takes direct and appropriate action in urgent and emergency situations. I can assets pertinent information in the patients healthcare record in a timely and ongoing manner. . Strong healthcare services professional with a Master of Arts - MA focused in Registered Nursing/Registered Nurse and Bachelor of Science in Nursing.current Nursing license English and Arabic Language Skills with Computer Skills. High oral and written communication and collaboration skills when interacting with patients/families and healthcare team members and departments to provide continuity of patient care and unit activities.Good administration, care coordinator, charge nurse and leadership skills. Learning skills maintaining professional growth identifying those areas of clinical knowledge and skills that need further development. Training, teaching, and mentoring of Nursing, Medical and Paramedical students, Interns and Residents. I Compile with and participates in Quality Management Processes and activities.. nan\n",
            "**************\n",
            "1682\n",
            "Mapping\n",
            "1485\n",
            "**************\n",
            "More than 5 years experienced as a staff nurse in Obstetric-gynaecology ward with Solid understanding of obstetric and gynaecological care. Effective in the delivery and documentation of patient care through the nursing process. High skills in assessment, diagnosing, planning, implementation, and evaluation. Understand patient care process, pathophysiology, familiar with emergency procedures, pharmacology, safety issues, skills in reading, writing, able to communicate effectively. Have strong organizational skills and ability to problem solve and ability to work collaboratively with physician, nursing team and patient. Registered Nurse, with PRC licensed Professional Licensure in Saudi Council for Health Specialties License Graduate of Bachelor of Science in NursingEnglish and Arabic Language Skills with Computer Skills. with knowledge and clinical assessment skills appropriate to the clinical area. I can Take direct and appropriate action in urgent and emergency situations. I worked with Documents assessments, interventions, and other pertinent information in the patients healthcare record in a timely and ongoing manner. I have high patient care through oral and written communications and collaboration skills when interacting with patients/families. I always Complies with hospital infection control and safety protocols.Good leadership and resource skills and can act as a unit management resources care coordinator, charge nurse, team leader, as assigned to address issues using a problem-solving framework. Initiates the nursing or medical/administrative chain of command if unable to resolve issues satisfactorily enhance patient safety and promote comfort.. nan\n",
            "**************\n",
            "587\n",
            "Mapping\n",
            "390\n",
            "**************\n",
            "   Facilities Operations' Senior Advisor Company Name      King Abdullah bin Abdulaziz University Hospital        Full-timeDates EmployedApr 2019 ï¿½ï¿½ï¿½ PresentEmployment Duration2 yrs 4 mosLocationRiyadh     KAAUH is a 300-bed teaching hospital serving PNU faculty, students and community. ï¿½ï¿½ï¿½ Position Purpose- Responsible, in cooperation with department directors, to identify and evaluate areas for improvement, and to develop programs to ensure optimum provision of operational services, including development of policies for approval by the hospital executive committee. - To plan and direct operational services to achieve the goals and objectives of the Hospital Programs.ï¿½ï¿½ï¿½ Key Roles and Responsibilitiesï¿½ï¿½ï¿½\tReview and advice on all operations policies and ensure these are in line with the current hospital legislation and govemomental laws.ï¿½ï¿½ï¿½\tEnsures financial targets and other agreed targets are met in all departments.ï¿½ï¿½ï¿½\tReviews working practi and if not, develop an alternatives.ï¿½ï¿½ï¿½\tMakes sure operational safety regulations are followed.ï¿½ï¿½ï¿½\tDevelops and organizes appropriate training programs.ï¿½ï¿½ï¿½\tInvestigates customer satisfaction and reporting any issues.ï¿½ï¿½ï¿½\tWorks with department heads and senior management to get the best performance from staff.ï¿½ï¿½ï¿½\tWorks with legal departments on any matters that occur.ï¿½ï¿½ï¿½\tReviews and approves equipment needs as instructed.ï¿½ï¿½ï¿½\tGuides the operational preparation and ensure the control of budgets for assigned areas.ï¿½ï¿½ï¿½\tCoordinates programs for cost-containment within the area of Hospital services.ï¿½ï¿½ï¿½\tLiaises with the Head of Clinical Services and the Nursing Department and ensure that optimum support services are provided and consistent with Hospital requirements.ï¿½ï¿½ï¿½\tProvides expert advice to Operations Management in order to meet the needs of both clinical and administrative areas of the Hospital.ï¿½ï¿½ï¿½\tConduct root cause analysis to identify systemicmote a Patient-Centered Care culture.ï¿½ï¿½ï¿½\tParticipates in and supports quality improvement and patient safety activities as an individual or as part of a multidisciplinary team.        ï¿½ï¿½ï¿½          see more           KAAUH Website    KAAUH Website  . King Fahd University of Petroleum & MineralsDegree NameBachlaorField Of StudyElectrical Engineering  .              Facilities Management            See 141 endorsements for Facilities Management99+ Salman AlThuyayb, FMPï¿½ï¿½, C-KPIP, CAPMï¿½ï¿½, PRINCE2ï¿½ï¿½, LSSGB and 99+ connections have given endorsements for this . nan\n",
            "**************\n",
            "674\n",
            "Mapping\n",
            "477\n",
            "**************\n",
            "   Company NameNational Guard Health AffairsTotal Duration9 yrs 5 mos TitleNurse ManagerFull-timeDates EmployedMay 2014 ï¿½ï¿½ï¿½ PresentEmployment Duration7 yrs 3 mosLocationMADINAH     Managing 20 to 30 staffs in 8-bedded unit. Provides care for acute and chronic dialysis cases, including 24H coverage for emergency cases.   TitleDialysis NurseFull-timeDates EmployedMar 2012 ï¿½ï¿½ï¿½ Apr 2014Employment Duration2 yrs 2 mosLocationSaudi Arabia     Dialyzing acute and chronic, adult and pediatric cases, including on-calls and nurse coordinators duty.  .  Open University MalaysiaDegree NameMaster's degreeField Of StudyNursing Science Dates attended or expected graduation2019 ï¿½ï¿½ï¿½ 2021.              Healthcare Management            See 1 endorsement for Healthcare Management1 Kelvin Sim has given an endorsement for this skill  . nan\n",
            "**************\n",
            "1308\n",
            "Mapping\n",
            "1111\n",
            "**************\n",
            "   Company NameElm CompanyTotal Duration9 yrs 9 mos TitleDeputy operations Manager Dates EmployedJun 2015 ï¿½ï¿½ï¿½ PresentEmployment Duration6 yrs 2 mosLocationDammam     Deputy Operations Manager performs a range of duties, including the following:ï¿½ï¿½ï¿½\tAssist Operations manager in supervising daily operations of organization. ï¿½ï¿½ï¿½\tDevelop productive, profitable and achievement oriented working environment for employees. ï¿½ï¿½ï¿½\tAddress operational issues and concerns in a timely fashion. ï¿½ï¿½ï¿½\tSupervise operations team to ensure operational excellence and excellent customer services. ï¿½ï¿½ï¿½\tEducate operations team on best practices, company policies and service excellence standards.        ï¿½ï¿½ï¿½          see more         TitleEmployee Relations Advisor Dates EmployedNov 2014 ï¿½ï¿½ï¿½ PresentEmployment Duration6 yrs 9 mosLocationDammam     The Employee Relations Advisor is usually the first poin to provide advice and support on all employee relations issues. The ERA helps to ensure a fair and consistent approach to an organisations policies and procedures, thus promoting a positive ER culture within the business, whilst minimising risks.        ï¿½ï¿½ï¿½          see more         TitleCareer Advisor (recruitment officer ). Dates EmployedNov 2011 ï¿½ï¿½ï¿½ Nov 2014Employment Duration3 yrs 1 moLocationDammam     Career Advisor perform a range of duties, including the following:ï¿½ï¿½ï¿½\tAdminister personality and interest inventories.ï¿½ï¿½ï¿½\tMeeting with Hafiz jobseekers and assess their application to get jobs in private sector.ï¿½ï¿½ï¿½\tAnalysis the strength and weakness points in each application by explain the main points to  job seekers.ï¿½ï¿½ï¿½\tExplain the available vacancies in private sector based on application to help job seekers determine their jobs/ goals.ï¿½ï¿½ï¿½\tSupporting job seekers to prepare CVs that written by themselves. ï¿½ï¿½ï¿½\tAsk of what they really need to get any jobs.ï¿½ï¿½ï¿½\tBooking workshops to job seekers based on what they really need to improve their personal goals.ï¿½ï¿½ï¿½\tTeach and practice jobs skills such as interviewing, resume writing, and networkingï¿½ï¿½ï¿½\tAid clients in the job search process by teaching them where to look for open positions and connecting them with job search resources .ï¿½ï¿½ï¿½\tMonitoring  the progress of job seekers to ensure that they improved via action plan, follow up Appointments and follow up phone call.ï¿½ï¿½ï¿½\tMaking mock interviews to job seekers and give them the reality feedback based on their performance.ï¿½ï¿½ï¿½\tMaking quick matching between vacancies and CVs.ï¿½ï¿½ï¿½\tDetermine the job description , skills and main responsibilities and duties for each job.ï¿½ï¿½ï¿½\tDetermine the right career path for job seekers.      . KFUDegree NameMaster's degreeField Of StudyBusiness AdministrationGrade4.61 out of 5Dates attended or expected graduation2012 ï¿½ï¿½ï¿½ 2014.              Management            See 46 endorsements for Management46      Endorsed by 9 of Noufï¿½ï¿½ï¿½s colleagues at Elm Company       Endorsed by 6 people who know Management. nan\n",
            "**************\n",
            "1207\n",
            "Mapping\n",
            "1010\n",
            "**************\n",
            "   Company NameSTC SolutionsTotal Duration5 yrs 7 mos TitleSpecialist, Service Account Management  Dates EmployedSep 2019 ï¿½ï¿½ï¿½ PresentEmployment Duration1 yr 11 mosLocationAl-Riyadh Governorate, Saudi Arabia     ï¿½ï¿½ï¿½ Engaging with customer and stakeholders to analyze and plan operational services in order to support management decision-making processes.ï¿½ï¿½ï¿½ Supporting co-workers to resolves routine queries to ensure work continuity and 24/7 support for emergency cases to ensure timely responses. As well as, identifying any possible, risk occurrence and collaborate with team to do the proper risk management plan.ï¿½ï¿½ï¿½ Monitoring Customers' Network (Dashboard) and do the necessary work if there is any technical and non-technical disturbance in the Network to ensure business sustainability.ï¿½ï¿½ï¿½ Identifying root cause of breach of Service Level Agreements (SLAs) and communicate it with EBU and customer to come up with efficient solution.            TitleEngagement Manager Dates EmployedMay 2018 ï¿½ï¿½ï¿½ Aug 2019Employment Duration1 yr 4 mosLocationAl-Riyadh Governorate, Saudi Arabia     ï¿½ï¿½ï¿½ Interacting and meeting with Customers periodically in all communications channels (Visits, Workshops, Meetings, Customer Stories Logging) Onboarding New Customers (Awareness Session, Conducting Visits) to ensure customer engagements and satisfactions.ï¿½ï¿½ï¿½ Monitoring Customers' Network (Dashboard) and do the necessary work if there is any technical and non-technical disturbance in the Network to ensure business sustainability.ï¿½ï¿½ï¿½ Revise MRS monthly operations reports and share critical information with the customers to ensure customer awareness to take action for issues from customer side if required.ï¿½ï¿½ï¿½ Identifying root cause of breach of Service Level Agreements (SLAs) and communicate it with EBU and customer to come up with efficient solution.        ï¿½ï¿½ï¿½          see more        ionship Manager Dates EmployedJan 2016 ï¿½ï¿½ï¿½ Apr 2018Employment Duration2 yrs 4 mosLocationAl-Riyadh Governorate, Saudi Arabia     ï¿½ï¿½ï¿½ Communicating with end use to gather the required details, which operations cannot acquire in order to resolve services' issues effectivity.ï¿½ï¿½ï¿½ Monitoring Customers' Network (Dashboard) and do the necessary work if there is any technical and non-technical disturbance in the Network to ensure business sustainability.ï¿½ï¿½ï¿½ Supporting co-workers to resolves routine queries to ensure work continuity and 24/7 support for emergency cases to ensure timely responses. As well as, identifying any possible, risk occurrence and collaborate with team to do the proper risk management plan.ï¿½ï¿½ï¿½ Interacting and meeting with Customers periodically in all communications channels (Visits, Workshops, Meetings, Customer Stories Logging) Onboarding New Customers (Awareness Session, Conducting Visits) to ensure customer engagements and satisfactions.            . Arab Open UniversityDegree NameBachelorï¿½ï¿½ï¿½s DegreeField Of StudyInformation Communication TechnologyGradeVery good Dates attended or expected graduation2010 ï¿½ï¿½ï¿½ 2014Activities and Societies:A member of the Student Council, Corporal Ch.              IT Support            See 2 endorsements for IT Support2 Ashleigh Watson and 1 connection have given endorsements for this skill  . . . . . . . . .     Customer Service: Handling Abusive Customers.   . . .         Issuing authority.       . .         LinkedIn.       . . . .         Issued date and, if applicable, expiration date of the certification or license.       . Issued May 2021No Expiration Date. . . . . . .  . \n",
            "**************\n",
            "957\n",
            "Mapping\n",
            "760\n",
            "**************\n",
            "  Customer Services CoordinatorCompany Name      Global Institute Lahore Dates EmployedMar 2015 ï¿½ï¿½ï¿½ PresentEmployment Duration6 yrs 5 mosLocationLahore, Pakistan    ï¿½ï¿½ï¿½\tManaging incoming calls and customer service inquiriesï¿½ï¿½ï¿½\tGenerating sales leads that develop into new customersï¿½ï¿½ï¿½\tIdentifying and assessing customersï¿½ï¿½ï¿½ needs to achieve satisfactionï¿½ï¿½ï¿½\tAnswers client and customer questions.ï¿½ï¿½ï¿½\tAddresses and resolves any issues and complaints.ï¿½ï¿½ï¿½\tReports problems and unresolved issues to manager or director.ï¿½ï¿½ï¿½\tPresents reports to company director or manager.ï¿½ï¿½ï¿½\tDevises ways to improve customer service and client relationships.ï¿½ï¿½ï¿½\tSchedules meetings with prospective and existing clients.ï¿½ï¿½ï¿½\tMeets with clients in person when working for a larger company such as marketing firm.ï¿½ï¿½ï¿½\tTravels locally for client visits or marketing pitches. ï¿½ï¿½ï¿½\tCheck and balance of.  University of South AsiaDegree NameMaster of Business Administration - MBAField Of StudyHuman resource management Dates attended or expected graduation2013 ï¿½ï¿½ï¿½ 2016.              Team Management            See 19 endorsements for Team Management19      Endorsed by 2 of Rehanaï¿½ï¿½ï¿½s colleagues at Ufone. nan\n",
            "**************\n",
            "1680\n",
            "Mapping\n",
            "1483\n",
            "**************\n",
            "I have 7.5 years of icu experience (cardiovascular and thoracic surgery icu, & MICU experience). Completed dataflow and prometric. I can handle ventilator patients,post cardiac surgery patients. currently am in KSA With transferable visa.I am a multi-faceted professional with an extensive focus on Hospital / General Administration, Medical Surgical Ward Management, Emergency Room Care, Delivering Quality Care to Patients, Drug Dispensation& Medical Record Management. Adept at supervising and directing a wide spectrum of administrative / non-administrative activities including staff management, documentation of patient records,medical inventory, patients admission, transfers and discharge arrangements in accordance with the hospital discharge policy. Well-versed in preparing and operating necessary equipments &instruments for examination, treatments & procedures. I have hands-on experience in providing compassionate nursing careto patients in pre and post-operative care. Expertise in performing numerous task on a daily basis such as Administration of Medicines,Injections, IV Cannulation, Wound Dressing, Suture Removal and so on. Ability to effectively lead and supervise a multidisciplinary team in a pressurized healthcare environment. Strong organization and people management skills, with an ability to monitor hospital hygiene, formulate and administer policies for smooth functioning of hospital operations.. Bachelor of Science in Nursing.current Nursing license English Language Skills with Computer Skills. Strong organization and people management skills, with an ability to monitor hospital hygiene, formulate and administer policies for smooth functioning of hospital operations.Excelant oral and written communication and collaboration skills when interacting with patients/families and healthcare team members and departments to provide continuity of patient care and unit activities.. nan\n",
            "**************\n",
            "553\n",
            "Mapping\n",
            "356\n",
            "**************\n",
            "   Team Leader - Adminstator SystemsCompany Name      Ministry of National Guard Health Affairs (MNG-HA) Dates EmployedMay 2013 ï¿½ï¿½ï¿½ PresentEmployment Duration8 yrs 3 mosLocationSaudi Arabia    - Define project scope, goals and deliverables that support project goals in collaboration with business users and stakeholders.- Define business and process strategy- Establish documentation protocols.- Assure that the team addresses all relevant issues within the specifications and various standards.- Ensure deliverables are prepared to satisfy the project requirements, cost and schedule.- Working with team members to ensure the projects will be delivered on time.- Catalog and analyze potential changes.- Facilitate problem solving and collaboration- Motivate team members- Catalog and analyze potential changes        ï¿½ï¿½ï¿½          see more    .  Prince Sultan UniversityDegree NameOCEField Of StudyEnterprise Resources Planning Dates attended or expected graduation2009 ï¿½ï¿½ï¿½ 2010.              Analysis            See 73 endorsements for Analysis73 Luai Mohammed Abdulla and 72 connections have given endorsements for this skill  . nan\n",
            "**************\n",
            "810\n",
            "Mapping\n",
            "613\n",
            "**************\n",
            "  ManagerCompany Name      PRO ADD AGENCY        Part-timeDates EmployedSep 2013 ï¿½ï¿½ï¿½ PresentEmployment Duration7 yrs 11 mosLocationRiyadh    A media and PR professional performing and results-oriented with 15+ years of comprehensive experience in public relations leadership. Visual Thought Expert is committed to providing exceptional service, while ensuring profitability, growth and long-term success of the organization. A proactive team player, effective in managing events, dealing with complex situations, and providing appropriate solutions. Highly effective in fast-paced work environments and return on investment      MUTLAG C.V.pdf    MUTLAG C.V.pdf   .  King Saud UniversityDegree NameBachelorField Of Studydegree Media / Public Relations Dates attended or expected graduation2009 ï¿½ï¿½ï¿½ 2013Activities and Societies:Participation in advertising campaigns for the universityPlaying sportsScientific debate in the new field in the media  It was a deep and careful study filled with everything new in the field of public relation.              Event Management            See 6 endorsements for Event Management6 Ziad Al Haj Mohammed and 5 connections have given endorsements for this skill  . . .  . . . . .     ï¿½ï¿½ï¿½ï¿½ï¿½ï¿½ï¿½ï¿½ï¿½ï¿½ ï¿½ï¿½ï¿½ï¿½ ï¿½ï¿½ï¿½ï¿½ï¿½ï¿½ï¿½ï¿½ï¿½ï¿½ï¿½ï¿½ï¿½ï¿½ ï¿½ï¿½ï¿½ï¿½ï¿½ï¿½ï¿½ï¿½ï¿½ï¿½ï¿½ï¿½ï¿½ï¿½ ï¿½ï¿½ï¿½ï¿½ï¿½ï¿½ï¿½ï¿½ï¿½ï¿½ï¿½ï¿½.   . . .         Issuing authority.       . .         Google.       . . . .         Issued date and, if applicable, expiration date of the certification or license.       . Issued Jul 2020No Expiration Date. . . . .         Cred\n",
            "**************\n"
          ]
        }
      ]
    },
    {
      "cell_type": "code",
      "source": [
        "mapping[1677]"
      ],
      "metadata": {
        "colab": {
          "base_uri": "https://localhost:8080/"
        },
        "id": "huH9QtFXzxkF",
        "outputId": "50dfd45e-6d38-432e-da10-4397e5abfdfc"
      },
      "execution_count": null,
      "outputs": [
        {
          "output_type": "execute_result",
          "data": {
            "text/plain": [
              "1480"
            ]
          },
          "metadata": {},
          "execution_count": 50
        }
      ]
    },
    {
      "cell_type": "markdown",
      "metadata": {
        "id": "eX1CWeDtyHXf"
      },
      "source": [
        "# Extracting similar candidates for a given job"
      ]
    },
    {
      "cell_type": "code",
      "metadata": {
        "id": "QDJVMlQpfI8g"
      },
      "source": [
        "'''\n",
        "Extracts 10 most similar candidates for a given job along with distance scores\n",
        "'''\n",
        "ids=[]\n",
        "retrieved_candidates=[]\n",
        "distance=[]\n",
        "cand_index=[]\n",
        "job=[]\n",
        "for i in range(len(set(job_text))):\n",
        "  act=[]\n",
        "  dist=[]\n",
        "  ids=[]\n",
        "  for ele,el in (zip(I[i],D[i])):\n",
        "    if ele>= len(set(job_text)):\n",
        "      act.append(complete_text[ele])\n",
        "      dist.append(el)\n",
        "      ids.append(ele)\n",
        "  job.append(complete_text[i])\n",
        "  retrieved_candidates.append(act[:10])\n",
        "  distance.append(dist[:10])\n",
        "  cand_index.append(ids[:10])\n"
      ],
      "execution_count": null,
      "outputs": []
    },
    {
      "cell_type": "code",
      "metadata": {
        "id": "EQLzgUrOkUjK"
      },
      "source": [
        "jobs_dataframe=pd.DataFrame(list(zip(job,cand_index,retrieved_candidates,distance)),columns=['Job Description','Candidate ID','Retrieved Candidates','Distance Score'])"
      ],
      "execution_count": null,
      "outputs": []
    },
    {
      "cell_type": "markdown",
      "metadata": {
        "id": "CXfRAaEHLmmf"
      },
      "source": [
        ""
      ]
    },
    {
      "cell_type": "code",
      "metadata": {
        "colab": {
          "base_uri": "https://localhost:8080/",
          "height": 467
        },
        "id": "X-ZA9vIZVQVF",
        "outputId": "23f51e36-11e1-405b-9f56-c01d6d6e1486"
      },
      "source": [
        "jobs_dataframe"
      ],
      "execution_count": null,
      "outputs": [
        {
          "output_type": "execute_result",
          "data": {
            "text/html": [
              "\n",
              "  <div id=\"df-77c91900-68dd-4dcb-83ba-833bed39c9de\">\n",
              "    <div class=\"colab-df-container\">\n",
              "      <div>\n",
              "<style scoped>\n",
              "    .dataframe tbody tr th:only-of-type {\n",
              "        vertical-align: middle;\n",
              "    }\n",
              "\n",
              "    .dataframe tbody tr th {\n",
              "        vertical-align: top;\n",
              "    }\n",
              "\n",
              "    .dataframe thead th {\n",
              "        text-align: right;\n",
              "    }\n",
              "</style>\n",
              "<table border=\"1\" class=\"dataframe\">\n",
              "  <thead>\n",
              "    <tr style=\"text-align: right;\">\n",
              "      <th></th>\n",
              "      <th>Job Description</th>\n",
              "      <th>Candidate ID</th>\n",
              "      <th>Retrieved Candidates</th>\n",
              "      <th>Distance Score</th>\n",
              "    </tr>\n",
              "  </thead>\n",
              "  <tbody>\n",
              "    <tr>\n",
              "      <th>0</th>\n",
              "      <td>As a Senior Program Manager you work with our ...</td>\n",
              "      <td>[203, 206, 205, 204, 202, 909, 199, 201, 552, ...</td>\n",
              "      <td>[program manager leading team to facilitate de...</td>\n",
              "      <td>[63.20749, 67.35776, 93.85739, 104.94826, 107....</td>\n",
              "    </tr>\n",
              "    <tr>\n",
              "      <th>1</th>\n",
              "      <td>NON. NON. NON</td>\n",
              "      <td>[365, 765, 520, 503, 761, 259, 495, 280, 940, ...</td>\n",
              "      <td>[   UnemployedCompany Name      none Dates Emp...</td>\n",
              "      <td>[409.41748, 426.85437, 430.76672, 433.06274, 4...</td>\n",
              "    </tr>\n",
              "    <tr>\n",
              "      <th>2</th>\n",
              "      <td>The Data Scientist is responsible for expandin...</td>\n",
              "      <td>[207, 913, 203, 683, 205, 204, 1255, 1501, 752...</td>\n",
              "      <td>[A Data Scientist responsible for expanding an...</td>\n",
              "      <td>[81.14218, 189.78131, 196.14465, 198.76317, 19...</td>\n",
              "    </tr>\n",
              "    <tr>\n",
              "      <th>3</th>\n",
              "      <td>Ensure delivering on UTR targets and active ri...</td>\n",
              "      <td>[683, 1545, 909, 1057, 1254, 338, 1220, 1214, ...</td>\n",
              "      <td>[  Company NameLeading Machine Learning FirmTo...</td>\n",
              "      <td>[205.61691, 212.39093, 224.46071, 227.99146, 2...</td>\n",
              "    </tr>\n",
              "    <tr>\n",
              "      <th>4</th>\n",
              "      <td>. To coordinate and collaborate with various d...</td>\n",
              "      <td>[202, 647, 203, 1575, 715, 206, 507, 909, 1561...</td>\n",
              "      <td>[Work with stakeholders throughout the organiz...</td>\n",
              "      <td>[176.41519, 196.55205, 205.06476, 205.25043, 2...</td>\n",
              "    </tr>\n",
              "    <tr>\n",
              "      <th>...</th>\n",
              "      <td>...</td>\n",
              "      <td>...</td>\n",
              "      <td>...</td>\n",
              "      <td>...</td>\n",
              "    </tr>\n",
              "    <tr>\n",
              "      <th>192</th>\n",
              "      <td>We are seeking a Data Scientist to work with D...</td>\n",
              "      <td>[207, 518, 1059, 672, 1127, 752, 1154, 1149, 8...</td>\n",
              "      <td>[A Data Scientist responsible for expanding an...</td>\n",
              "      <td>[155.78656, 188.75848, 192.60553, 206.82674, 2...</td>\n",
              "    </tr>\n",
              "    <tr>\n",
              "      <th>193</th>\n",
              "      <td>The Data Scientist will support our pricing, s...</td>\n",
              "      <td>[207, 512, 1245, 913, 683, 344, 200, 388, 1369...</td>\n",
              "      <td>[A Data Scientist responsible for expanding an...</td>\n",
              "      <td>[105.03473, 158.0285, 177.71902, 178.54065, 18...</td>\n",
              "    </tr>\n",
              "    <tr>\n",
              "      <th>194</th>\n",
              "      <td>Since 2011, General Assembly has transformed t...</td>\n",
              "      <td>[630, 1377, 464, 1252, 1624, 1119, 1391, 427, ...</td>\n",
              "      <td>[   Jeel Tamooh MemberCompany Name      Boston...</td>\n",
              "      <td>[150.2782, 153.34793, 153.74188, 154.11832, 16...</td>\n",
              "    </tr>\n",
              "    <tr>\n",
              "      <th>195</th>\n",
              "      <td>Master Works is one of the leading companies i...</td>\n",
              "      <td>[683, 512, 1431, 207, 785, 787, 736, 1149, 464...</td>\n",
              "      <td>[  Company NameLeading Machine Learning FirmTo...</td>\n",
              "      <td>[172.55867, 175.3205, 179.12578, 180.7172, 183...</td>\n",
              "    </tr>\n",
              "    <tr>\n",
              "      <th>196</th>\n",
              "      <td>As a Marketing Data Scientist and Customer Ana...</td>\n",
              "      <td>[388, 683, 560, 207, 1654, 512, 916, 340, 881,...</td>\n",
              "      <td>[   Company NamestcTotal Duration3 yrs 11 mos ...</td>\n",
              "      <td>[166.31476, 172.62477, 179.40631, 184.61237, 1...</td>\n",
              "    </tr>\n",
              "  </tbody>\n",
              "</table>\n",
              "<p>197 rows × 4 columns</p>\n",
              "</div>\n",
              "      <button class=\"colab-df-convert\" onclick=\"convertToInteractive('df-77c91900-68dd-4dcb-83ba-833bed39c9de')\"\n",
              "              title=\"Convert this dataframe to an interactive table.\"\n",
              "              style=\"display:none;\">\n",
              "        \n",
              "  <svg xmlns=\"http://www.w3.org/2000/svg\" height=\"24px\"viewBox=\"0 0 24 24\"\n",
              "       width=\"24px\">\n",
              "    <path d=\"M0 0h24v24H0V0z\" fill=\"none\"/>\n",
              "    <path d=\"M18.56 5.44l.94 2.06.94-2.06 2.06-.94-2.06-.94-.94-2.06-.94 2.06-2.06.94zm-11 1L8.5 8.5l.94-2.06 2.06-.94-2.06-.94L8.5 2.5l-.94 2.06-2.06.94zm10 10l.94 2.06.94-2.06 2.06-.94-2.06-.94-.94-2.06-.94 2.06-2.06.94z\"/><path d=\"M17.41 7.96l-1.37-1.37c-.4-.4-.92-.59-1.43-.59-.52 0-1.04.2-1.43.59L10.3 9.45l-7.72 7.72c-.78.78-.78 2.05 0 2.83L4 21.41c.39.39.9.59 1.41.59.51 0 1.02-.2 1.41-.59l7.78-7.78 2.81-2.81c.8-.78.8-2.07 0-2.86zM5.41 20L4 18.59l7.72-7.72 1.47 1.35L5.41 20z\"/>\n",
              "  </svg>\n",
              "      </button>\n",
              "      \n",
              "  <style>\n",
              "    .colab-df-container {\n",
              "      display:flex;\n",
              "      flex-wrap:wrap;\n",
              "      gap: 12px;\n",
              "    }\n",
              "\n",
              "    .colab-df-convert {\n",
              "      background-color: #E8F0FE;\n",
              "      border: none;\n",
              "      border-radius: 50%;\n",
              "      cursor: pointer;\n",
              "      display: none;\n",
              "      fill: #1967D2;\n",
              "      height: 32px;\n",
              "      padding: 0 0 0 0;\n",
              "      width: 32px;\n",
              "    }\n",
              "\n",
              "    .colab-df-convert:hover {\n",
              "      background-color: #E2EBFA;\n",
              "      box-shadow: 0px 1px 2px rgba(60, 64, 67, 0.3), 0px 1px 3px 1px rgba(60, 64, 67, 0.15);\n",
              "      fill: #174EA6;\n",
              "    }\n",
              "\n",
              "    [theme=dark] .colab-df-convert {\n",
              "      background-color: #3B4455;\n",
              "      fill: #D2E3FC;\n",
              "    }\n",
              "\n",
              "    [theme=dark] .colab-df-convert:hover {\n",
              "      background-color: #434B5C;\n",
              "      box-shadow: 0px 1px 3px 1px rgba(0, 0, 0, 0.15);\n",
              "      filter: drop-shadow(0px 1px 2px rgba(0, 0, 0, 0.3));\n",
              "      fill: #FFFFFF;\n",
              "    }\n",
              "  </style>\n",
              "\n",
              "      <script>\n",
              "        const buttonEl =\n",
              "          document.querySelector('#df-77c91900-68dd-4dcb-83ba-833bed39c9de button.colab-df-convert');\n",
              "        buttonEl.style.display =\n",
              "          google.colab.kernel.accessAllowed ? 'block' : 'none';\n",
              "\n",
              "        async function convertToInteractive(key) {\n",
              "          const element = document.querySelector('#df-77c91900-68dd-4dcb-83ba-833bed39c9de');\n",
              "          const dataTable =\n",
              "            await google.colab.kernel.invokeFunction('convertToInteractive',\n",
              "                                                     [key], {});\n",
              "          if (!dataTable) return;\n",
              "\n",
              "          const docLinkHtml = 'Like what you see? Visit the ' +\n",
              "            '<a target=\"_blank\" href=https://colab.research.google.com/notebooks/data_table.ipynb>data table notebook</a>'\n",
              "            + ' to learn more about interactive tables.';\n",
              "          element.innerHTML = '';\n",
              "          dataTable['output_type'] = 'display_data';\n",
              "          await google.colab.output.renderOutput(dataTable, element);\n",
              "          const docLink = document.createElement('div');\n",
              "          docLink.innerHTML = docLinkHtml;\n",
              "          element.appendChild(docLink);\n",
              "        }\n",
              "      </script>\n",
              "    </div>\n",
              "  </div>\n",
              "  "
            ],
            "text/plain": [
              "                                       Job Description  ...                                     Distance Score\n",
              "0    As a Senior Program Manager you work with our ...  ...  [63.20749, 67.35776, 93.85739, 104.94826, 107....\n",
              "1                                        NON. NON. NON  ...  [409.41748, 426.85437, 430.76672, 433.06274, 4...\n",
              "2    The Data Scientist is responsible for expandin...  ...  [81.14218, 189.78131, 196.14465, 198.76317, 19...\n",
              "3    Ensure delivering on UTR targets and active ri...  ...  [205.61691, 212.39093, 224.46071, 227.99146, 2...\n",
              "4    . To coordinate and collaborate with various d...  ...  [176.41519, 196.55205, 205.06476, 205.25043, 2...\n",
              "..                                                 ...  ...                                                ...\n",
              "192  We are seeking a Data Scientist to work with D...  ...  [155.78656, 188.75848, 192.60553, 206.82674, 2...\n",
              "193  The Data Scientist will support our pricing, s...  ...  [105.03473, 158.0285, 177.71902, 178.54065, 18...\n",
              "194  Since 2011, General Assembly has transformed t...  ...  [150.2782, 153.34793, 153.74188, 154.11832, 16...\n",
              "195  Master Works is one of the leading companies i...  ...  [172.55867, 175.3205, 179.12578, 180.7172, 183...\n",
              "196  As a Marketing Data Scientist and Customer Ana...  ...  [166.31476, 172.62477, 179.40631, 184.61237, 1...\n",
              "\n",
              "[197 rows x 4 columns]"
            ]
          },
          "metadata": {},
          "execution_count": 80
        }
      ]
    },
    {
      "cell_type": "code",
      "metadata": {
        "id": "lah-y4j5qNi8"
      },
      "source": [
        "# jobs_dataframe"
      ],
      "execution_count": null,
      "outputs": []
    },
    {
      "cell_type": "code",
      "metadata": {
        "colab": {
          "base_uri": "https://localhost:8080/",
          "height": 122
        },
        "id": "JHlhwN_bMrdp",
        "outputId": "1e107cf5-1a46-4157-d630-f9baa2587172"
      },
      "source": [
        "jobs_dataframe.iloc[0,0]"
      ],
      "execution_count": null,
      "outputs": [
        {
          "output_type": "execute_result",
          "data": {
            "application/vnd.google.colaboratory.intrinsic+json": {
              "type": "string"
            },
            "text/plain": [
              "\"As a Senior Program Manager you work with our team to facilitate decision making, judgment, resolving constraints and enable high quality on program execution and delivery.. Manage technology programs, defining milestones and success criteria, resource allocation and successful on-time delivery.. Exercise technical judgment in working with large, cross-functional teams.. Develop tools and processes to improve software engineering productivity.. Communicate schedules, priorities, and status to all levels.. Proven work experience program managing datawatehouse systems. Strong knowledge of software development life cycle methodologies, tools and processes. Demonstrated ability or preference to work across multiple teams.. Experience in writing clear, concise and comprehensive program plans and schedules. Hands-on experience with Prioritization and issue management. Proven record on facilitating decision making and judgment. Experience working in an Agile/Scrum development process    Bachelor's degree in Computer Science, or equivalent practical experience.. Banking Experience is Preferable.. Experience in Program Management on technical cross-functional projects.. Experience managing execution and high quality product delivery.. Ability to exercise technical judgment in solving software engineering challenges.. Ability to be an influential member of a highly integrated team composed of both technical and non-technical members\""
            ]
          },
          "metadata": {},
          "execution_count": 82
        }
      ]
    },
    {
      "cell_type": "code",
      "metadata": {
        "id": "DP6y6T0UlXU2"
      },
      "source": [
        "# Writing output dataframe as json file\n",
        "jobs_dataframe.to_csv('job_dataframe.csv')"
      ],
      "execution_count": null,
      "outputs": []
    },
    {
      "cell_type": "markdown",
      "metadata": {
        "id": "jvPNpUkuyQAV"
      },
      "source": [
        "# Extracting similar jobs for a given candidate"
      ]
    },
    {
      "cell_type": "code",
      "metadata": {
        "id": "3o8ZfVsQmi0b"
      },
      "source": [
        "retrieved_jobs=[]\n",
        "job_index=[]\n",
        "distance=[]\n",
        "candidates=[]\n",
        "for i in range(len(set(job_text)),len(complete_text)):\n",
        "  act=[]\n",
        "  dist=[]\n",
        "  ids=[]\n",
        "  for ele,el in (zip(I[i],D[i])):\n",
        "    if ele < len(set(job_text)):\n",
        "      act.append(complete_text[ele])\n",
        "      dist.append(el)\n",
        "      ids.append(ele)\n",
        "  candidates.append(complete_text[i])\n",
        "  retrieved_jobs.append(act[:10])\n",
        "  distance.append(dist[:10])\n",
        "  job_index.append(ids[:10])"
      ],
      "execution_count": null,
      "outputs": []
    },
    {
      "cell_type": "code",
      "metadata": {
        "colab": {
          "base_uri": "https://localhost:8080/"
        },
        "id": "Mj25SKbmpWL8",
        "outputId": "08e883a2-74a5-415a-abae-ddea0ca6b9b6"
      },
      "source": [
        "act=[]\n",
        "for ele in I[195]:\n",
        "  if ele < len(set(job_text)):\n",
        "    act.append(ele)\n",
        "act[:10]"
      ],
      "execution_count": null,
      "outputs": [
        {
          "output_type": "execute_result",
          "data": {
            "text/plain": [
              "[195, 193, 196, 88, 162, 123, 192, 16, 87, 34]"
            ]
          },
          "metadata": {},
          "execution_count": 85
        }
      ]
    },
    {
      "cell_type": "code",
      "metadata": {
        "colab": {
          "base_uri": "https://localhost:8080/",
          "height": 122
        },
        "id": "SyuhF8ZMqByk",
        "outputId": "ebe7862d-fc44-4572-b498-b79189cf0802"
      },
      "source": [
        "complete_text[195]"
      ],
      "execution_count": null,
      "outputs": [
        {
          "output_type": "execute_result",
          "data": {
            "application/vnd.google.colaboratory.intrinsic+json": {
              "type": "string"
            },
            "text/plain": [
              "\"Master Works is one of the leading companies in our field in the area. We are hiring a data scientist specialist to join our team in Saudi Arabia, specifically in Riyadh. If you're excited to be part of a winning team, Master Works is a great place to grow your career. . Design and develop statistical & machine learning models to support business decisions and help improve products and services.. Design and develop data pipelines with the right tools, databases and ETL process.. Design and develop user-friendly platforms to enable easy testing of ML pipelines, simulate data and visualize performance metrics for evaluation.. Identify and discover hidden patterns in complex structured and unstructured data sets.. Help in implementing data analytics and data governance roadmaps to help drive consistency in data sources and different data flows.. Experience with Media related data and KPIs is an asset.. Saudi Nationality.. . ï¿½ Proficiency in Python, SQL and experience with ML libraries and frameworks.. . ï¿½ Proven track record of data cleansing & wrangling, building models and extracting data insights. Experience solving problems in any or all of the following spaces - forecasting, predictive modeling, NLP, churn prediction.. . ï¿½ Familiarity with data modeling and Data Warehouse development.. . ï¿½ BSc in a quantitative field (i.e. Applied Mathematics, Statistics, Computer Science, Software Engineering).. . ï¿½ 2-3 yearsï¿½ experience in banking (Data management or Data\""
            ]
          },
          "metadata": {},
          "execution_count": 86
        }
      ]
    },
    {
      "cell_type": "code",
      "metadata": {
        "colab": {
          "base_uri": "https://localhost:8080/",
          "height": 122
        },
        "id": "F9dn06PLrme-",
        "outputId": "d039acea-8d65-4991-c580-1e5eed0784a0"
      },
      "source": [
        "cleaned_complete[0]"
      ],
      "execution_count": null,
      "outputs": [
        {
          "output_type": "execute_result",
          "data": {
            "application/vnd.google.colaboratory.intrinsic+json": {
              "type": "string"
            },
            "text/plain": [
              "'senior program manager you work with our team facilitate decision making, judgment, resolving constraints and enable high quality program execution and delivery.. manage technology programs, defining milestones and success criteria, resource allocation and successful on time delivery.. exercise technical judgment working with large, cross functional teams.. develop tools and processes improve software engineering productivity.. communicate schedules, priorities, and status all levels.. proven work experience program managing datawatehouse systems. strong knowledge software development life cycle methodologies, tools and processes. demonstrated ability preference work across multiple teams.. experience writing clear, concise and comprehensive program plans and schedules. hands on experience with prioritization and issue management. proven record facilitating decision making and judgment. experience working agile scrum development process bachelor s degree computer science, equivalent practical experience.. banking experience preferable.. experience program management technical cross functional projects.. experience managing execution and high quality product delivery.. ability exercise technical judgment solving software engineering challenges.. ability influential member highly integrated team composed both technical and non technical members'"
            ]
          },
          "metadata": {},
          "execution_count": 87
        }
      ]
    },
    {
      "cell_type": "code",
      "metadata": {
        "id": "HTh2H-J5qKpV"
      },
      "source": [
        ""
      ],
      "execution_count": null,
      "outputs": []
    },
    {
      "cell_type": "code",
      "metadata": {
        "id": "CW3GJEUTWR1x"
      },
      "source": [
        "candidate_dataframe=pd.DataFrame(list(zip(candidates,job_index,retrieved_jobs,distance)),columns=['Candidate Description','Job Ids','Retrieved Jobs','Distance Score'])"
      ],
      "execution_count": null,
      "outputs": []
    },
    {
      "cell_type": "code",
      "metadata": {
        "id": "LONOJ-S0oUvx"
      },
      "source": [
        "# candidate_dataframe=pd.DataFrame(list(zip(candidates,retrieved_jobs,distance)),columns=['Candidate Description','Retrieved Jobs','Distance Score'])"
      ],
      "execution_count": null,
      "outputs": []
    },
    {
      "cell_type": "code",
      "metadata": {
        "id": "F-9MhdlvhhZP"
      },
      "source": [
        "# Writing output dataframe as json file\n",
        "candidate_dataframe.to_csv('candidate_dataframe.csv')"
      ],
      "execution_count": null,
      "outputs": []
    },
    {
      "cell_type": "code",
      "metadata": {
        "colab": {
          "base_uri": "https://localhost:8080/",
          "height": 423
        },
        "id": "S3OrpwdsXIUn",
        "outputId": "90d06aa5-b4a7-49c5-9ff7-6453abafba9d"
      },
      "source": [
        "candidate_dataframe"
      ],
      "execution_count": null,
      "outputs": [
        {
          "output_type": "execute_result",
          "data": {
            "text/html": [
              "\n",
              "  <div id=\"df-0f9ec927-5d56-44d8-af96-394a36a22eac\">\n",
              "    <div class=\"colab-df-container\">\n",
              "      <div>\n",
              "<style scoped>\n",
              "    .dataframe tbody tr th:only-of-type {\n",
              "        vertical-align: middle;\n",
              "    }\n",
              "\n",
              "    .dataframe tbody tr th {\n",
              "        vertical-align: top;\n",
              "    }\n",
              "\n",
              "    .dataframe thead th {\n",
              "        text-align: right;\n",
              "    }\n",
              "</style>\n",
              "<table border=\"1\" class=\"dataframe\">\n",
              "  <thead>\n",
              "    <tr style=\"text-align: right;\">\n",
              "      <th></th>\n",
              "      <th>Candidate Description</th>\n",
              "      <th>Job Ids</th>\n",
              "      <th>Retrieved Jobs</th>\n",
              "      <th>Distance Score</th>\n",
              "    </tr>\n",
              "  </thead>\n",
              "  <tbody>\n",
              "    <tr>\n",
              "      <th>0</th>\n",
              "      <td>7+ years Minimum as PMO. Bachelor's degree in ...</td>\n",
              "      <td>[84, 138, 10, 164, 64, 189, 17, 127, 193, 33]</td>\n",
              "      <td>[manage and oversee the performance of the fie...</td>\n",
              "      <td>[222.66568, 229.6702, 233.53961, 243.99777, 24...</td>\n",
              "    </tr>\n",
              "    <tr>\n",
              "      <th>1</th>\n",
              "      <td>My experience is in program management and pro...</td>\n",
              "      <td>[84, 138, 64, 10, 33, 0, 185, 34, 122, 38]</td>\n",
              "      <td>[manage and oversee the performance of the fie...</td>\n",
              "      <td>[163.4848, 171.89131, 179.15918, 186.26108, 19...</td>\n",
              "    </tr>\n",
              "    <tr>\n",
              "      <th>2</th>\n",
              "      <td>In my experience I Manageed technology program...</td>\n",
              "      <td>[15, 14, 12, 33, 0, 84, 122, 189, 125, 138]</td>\n",
              "      <td>[To manage digital projects including planning...</td>\n",
              "      <td>[159.7435, 159.7435, 164.33044, 166.2811, 167....</td>\n",
              "    </tr>\n",
              "    <tr>\n",
              "      <th>3</th>\n",
              "      <td>Experience in delivery of the business analysi...</td>\n",
              "      <td>[12, 138, 125, 193, 14, 15, 185, 34, 2, 10]</td>\n",
              "      <td>[. The jobholder is responsible for Developmen...</td>\n",
              "      <td>[176.7414, 196.38264, 197.32306, 197.4284, 202...</td>\n",
              "    </tr>\n",
              "    <tr>\n",
              "      <th>4</th>\n",
              "      <td>working with large, cross-functional teams.Dev...</td>\n",
              "      <td>[33, 10, 0, 122, 84, 138, 185, 12, 34, 127]</td>\n",
              "      <td>[We are working hand in hand with your busines...</td>\n",
              "      <td>[156.50769, 156.86874, 173.88095, 176.0954, 17...</td>\n",
              "    </tr>\n",
              "    <tr>\n",
              "      <th>...</th>\n",
              "      <td>...</td>\n",
              "      <td>...</td>\n",
              "      <td>...</td>\n",
              "      <td>...</td>\n",
              "    </tr>\n",
              "    <tr>\n",
              "      <th>1471</th>\n",
              "      <td>SupperSystem administration and IT certificati...</td>\n",
              "      <td>[189, 17, 164, 138, 18, 44, 194, 84, 64, 87]</td>\n",
              "      <td>[Application Support using Microsoft &amp; Linux t...</td>\n",
              "      <td>[254.22229, 260.83768, 263.36023, 271.6305, 27...</td>\n",
              "    </tr>\n",
              "    <tr>\n",
              "      <th>1472</th>\n",
              "      <td>Supper 3  years of experience     high profici...</td>\n",
              "      <td>[64, 138, 38, 6, 10, 17, 84, 193, 34, 82]</td>\n",
              "      <td>[We are looking to employ an HR Assistant with...</td>\n",
              "      <td>[186.932, 204.63496, 210.83298, 212.42706, 221...</td>\n",
              "    </tr>\n",
              "    <tr>\n",
              "      <th>1473</th>\n",
              "      <td>Supper 3 years in a managerial role Strong rec...</td>\n",
              "      <td>[64, 138, 38, 53, 84, 82, 10, 17, 100, 87]</td>\n",
              "      <td>[We are looking to employ an HR Assistant with...</td>\n",
              "      <td>[156.87146, 183.48149, 187.556, 198.9774, 199....</td>\n",
              "    </tr>\n",
              "    <tr>\n",
              "      <th>1474</th>\n",
              "      <td>Supper 1 to 3 years of experience working in ...</td>\n",
              "      <td>[64, 138, 84, 18, 17, 189, 87, 38, 12, 44]</td>\n",
              "      <td>[We are looking to employ an HR Assistant with...</td>\n",
              "      <td>[222.91348, 223.2253, 244.83813, 250.1925, 255...</td>\n",
              "    </tr>\n",
              "    <tr>\n",
              "      <th>1475</th>\n",
              "      <td>Supper 1-2 years of relevant experience.   B...</td>\n",
              "      <td>[18, 164, 17, 171, 87, 44, 64, 138, 84, 195]</td>\n",
              "      <td>[We are looking for Saudi talents experienced ...</td>\n",
              "      <td>[204.13376, 219.03754, 228.25797, 254.9449, 25...</td>\n",
              "    </tr>\n",
              "  </tbody>\n",
              "</table>\n",
              "<p>1476 rows × 4 columns</p>\n",
              "</div>\n",
              "      <button class=\"colab-df-convert\" onclick=\"convertToInteractive('df-0f9ec927-5d56-44d8-af96-394a36a22eac')\"\n",
              "              title=\"Convert this dataframe to an interactive table.\"\n",
              "              style=\"display:none;\">\n",
              "        \n",
              "  <svg xmlns=\"http://www.w3.org/2000/svg\" height=\"24px\"viewBox=\"0 0 24 24\"\n",
              "       width=\"24px\">\n",
              "    <path d=\"M0 0h24v24H0V0z\" fill=\"none\"/>\n",
              "    <path d=\"M18.56 5.44l.94 2.06.94-2.06 2.06-.94-2.06-.94-.94-2.06-.94 2.06-2.06.94zm-11 1L8.5 8.5l.94-2.06 2.06-.94-2.06-.94L8.5 2.5l-.94 2.06-2.06.94zm10 10l.94 2.06.94-2.06 2.06-.94-2.06-.94-.94-2.06-.94 2.06-2.06.94z\"/><path d=\"M17.41 7.96l-1.37-1.37c-.4-.4-.92-.59-1.43-.59-.52 0-1.04.2-1.43.59L10.3 9.45l-7.72 7.72c-.78.78-.78 2.05 0 2.83L4 21.41c.39.39.9.59 1.41.59.51 0 1.02-.2 1.41-.59l7.78-7.78 2.81-2.81c.8-.78.8-2.07 0-2.86zM5.41 20L4 18.59l7.72-7.72 1.47 1.35L5.41 20z\"/>\n",
              "  </svg>\n",
              "      </button>\n",
              "      \n",
              "  <style>\n",
              "    .colab-df-container {\n",
              "      display:flex;\n",
              "      flex-wrap:wrap;\n",
              "      gap: 12px;\n",
              "    }\n",
              "\n",
              "    .colab-df-convert {\n",
              "      background-color: #E8F0FE;\n",
              "      border: none;\n",
              "      border-radius: 50%;\n",
              "      cursor: pointer;\n",
              "      display: none;\n",
              "      fill: #1967D2;\n",
              "      height: 32px;\n",
              "      padding: 0 0 0 0;\n",
              "      width: 32px;\n",
              "    }\n",
              "\n",
              "    .colab-df-convert:hover {\n",
              "      background-color: #E2EBFA;\n",
              "      box-shadow: 0px 1px 2px rgba(60, 64, 67, 0.3), 0px 1px 3px 1px rgba(60, 64, 67, 0.15);\n",
              "      fill: #174EA6;\n",
              "    }\n",
              "\n",
              "    [theme=dark] .colab-df-convert {\n",
              "      background-color: #3B4455;\n",
              "      fill: #D2E3FC;\n",
              "    }\n",
              "\n",
              "    [theme=dark] .colab-df-convert:hover {\n",
              "      background-color: #434B5C;\n",
              "      box-shadow: 0px 1px 3px 1px rgba(0, 0, 0, 0.15);\n",
              "      filter: drop-shadow(0px 1px 2px rgba(0, 0, 0, 0.3));\n",
              "      fill: #FFFFFF;\n",
              "    }\n",
              "  </style>\n",
              "\n",
              "      <script>\n",
              "        const buttonEl =\n",
              "          document.querySelector('#df-0f9ec927-5d56-44d8-af96-394a36a22eac button.colab-df-convert');\n",
              "        buttonEl.style.display =\n",
              "          google.colab.kernel.accessAllowed ? 'block' : 'none';\n",
              "\n",
              "        async function convertToInteractive(key) {\n",
              "          const element = document.querySelector('#df-0f9ec927-5d56-44d8-af96-394a36a22eac');\n",
              "          const dataTable =\n",
              "            await google.colab.kernel.invokeFunction('convertToInteractive',\n",
              "                                                     [key], {});\n",
              "          if (!dataTable) return;\n",
              "\n",
              "          const docLinkHtml = 'Like what you see? Visit the ' +\n",
              "            '<a target=\"_blank\" href=https://colab.research.google.com/notebooks/data_table.ipynb>data table notebook</a>'\n",
              "            + ' to learn more about interactive tables.';\n",
              "          element.innerHTML = '';\n",
              "          dataTable['output_type'] = 'display_data';\n",
              "          await google.colab.output.renderOutput(dataTable, element);\n",
              "          const docLink = document.createElement('div');\n",
              "          docLink.innerHTML = docLinkHtml;\n",
              "          element.appendChild(docLink);\n",
              "        }\n",
              "      </script>\n",
              "    </div>\n",
              "  </div>\n",
              "  "
            ],
            "text/plain": [
              "                                  Candidate Description  ...                                     Distance Score\n",
              "0     7+ years Minimum as PMO. Bachelor's degree in ...  ...  [222.66568, 229.6702, 233.53961, 243.99777, 24...\n",
              "1     My experience is in program management and pro...  ...  [163.4848, 171.89131, 179.15918, 186.26108, 19...\n",
              "2     In my experience I Manageed technology program...  ...  [159.7435, 159.7435, 164.33044, 166.2811, 167....\n",
              "3     Experience in delivery of the business analysi...  ...  [176.7414, 196.38264, 197.32306, 197.4284, 202...\n",
              "4     working with large, cross-functional teams.Dev...  ...  [156.50769, 156.86874, 173.88095, 176.0954, 17...\n",
              "...                                                 ...  ...                                                ...\n",
              "1471  SupperSystem administration and IT certificati...  ...  [254.22229, 260.83768, 263.36023, 271.6305, 27...\n",
              "1472  Supper 3  years of experience     high profici...  ...  [186.932, 204.63496, 210.83298, 212.42706, 221...\n",
              "1473  Supper 3 years in a managerial role Strong rec...  ...  [156.87146, 183.48149, 187.556, 198.9774, 199....\n",
              "1474   Supper 1 to 3 years of experience working in ...  ...  [222.91348, 223.2253, 244.83813, 250.1925, 255...\n",
              "1475    Supper 1-2 years of relevant experience.   B...  ...  [204.13376, 219.03754, 228.25797, 254.9449, 25...\n",
              "\n",
              "[1476 rows x 4 columns]"
            ]
          },
          "metadata": {},
          "execution_count": 91
        }
      ]
    },
    {
      "cell_type": "code",
      "metadata": {
        "id": "9p6fs7eu6d7J"
      },
      "source": [
        "# candidate_dataframe"
      ],
      "execution_count": null,
      "outputs": []
    },
    {
      "cell_type": "code",
      "metadata": {
        "id": "E3PGc2pWXo68"
      },
      "source": [
        "candidate_dataframe.to_excel('candidate_dataframe.xlsx')"
      ],
      "execution_count": null,
      "outputs": []
    },
    {
      "cell_type": "code",
      "metadata": {
        "id": "JQrbX7qEPY2Y"
      },
      "source": [
        "file1 = open(\"out.txt\",\"w\")\n",
        "for i in range(len(jobs_dataframe)):\n",
        "# \\n is placed to indicate EOL (End of Line)\n",
        "  file1.write(jobs_dataframe.iloc[i,0])\n",
        "  file1.write('\\n')\n",
        "  for j in range(10):\n",
        "    file1.write('Similar Candidate'+str(j))\n",
        "    file1.write('\\n')\n",
        "    file1.write(jobs_dataframe.iloc[i,2][j])\n",
        "    file1.write('\\n')\n",
        "  file1.write('*'*100) \n",
        "file1.close() #to change file access modes"
      ],
      "execution_count": null,
      "outputs": []
    },
    {
      "cell_type": "code",
      "metadata": {
        "id": "8hk4aWmmJxt1"
      },
      "source": [
        ""
      ],
      "execution_count": null,
      "outputs": []
    }
  ]
}